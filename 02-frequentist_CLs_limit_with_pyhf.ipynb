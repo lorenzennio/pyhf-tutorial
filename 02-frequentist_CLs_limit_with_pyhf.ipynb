{
 "cells": [
  {
   "cell_type": "code",
   "execution_count": 45,
   "id": "9371b72c",
   "metadata": {},
   "outputs": [],
   "source": [
    "# ! pip install --upgrade pip\n",
    "# ! pip install --user numpy scipy matplotlib pyhf iminuit json corner mplhep"
   ]
  },
  {
   "cell_type": "code",
   "execution_count": 46,
   "id": "af0f382b",
   "metadata": {},
   "outputs": [],
   "source": [
    "import pyhf\n",
    "from scipy import stats\n",
    "import numpy as np\n",
    "import json\n",
    "import mplhep as hep\n",
    "import matplotlib.pyplot as plt\n"
   ]
  },
  {
   "cell_type": "markdown",
   "id": "6af675ed",
   "metadata": {},
   "source": [
    "# Hypothesis tests with pyhf\n",
    "\n",
    "This notebook will provide you with the tools to do sensitivity estimates which can be used for search region optimization or sensitivity projections.\n",
    "\n",
    "## p-value for discovery of a new signal\n",
    "\n",
    "In searches for new physics we want to know how significant a potential deviation from our Standard Model (SM) expectation is. We do this by a hypothesis test where we try to exclude the SM (\"background only\") hypothesis. We use a so called **p-value** $p_0$ for this, abstractly defined by:\n",
    "\n",
    "$$p_0 = \\int\\limits_{t_\\mathrm{obs}}^{\\infty}p(t|H_0)\\mathrm{d}t$$\n",
    "\n",
    "where $t$ is a test statistic (a number we calculate from our data observations) and $p(t|H_0)$ is the probability distribution for $t$ under the assumption of our **null Hypothesis** $H_0$, in this case the background only hypothesis. This p-value is then typically converted into a number of standard deviations $z$, the **significance** (\"number of sigmas\") via the inverse of the cumulative standard normal distribution $\\Phi$:\n",
    "\n",
    "$$z = \\Phi^{-1}(1 - p)$$\n",
    "\n",
    "The typical convention for particle physics is to speak of *evidence* when $z>3$ and of an *observation* when $z>5$.\n",
    "\n",
    "So what do we use for $t$? We want to use something that discriminates well between our null Hypothesis and an **alternative Hypothesis** that we have in mind. When we try to discover new physics, our null Hypothesis is the absence and the alternative Hypothesis the presence of a signal. We can parametrize this by a **signal strength** parameter $\\mu$. The test statistics used in almost all LHC searches use the **profile likelihood ratio**\n",
    "\n",
    "$$\\Lambda_\\mu = \\frac{L(\\mu, \\hat{\\hat{\\theta}})}{L(\\hat{\\mu}, \\hat{\\theta})}$$\n",
    "\n",
    "where $\\theta$ are the other parameters of our model that are not part of the test, the so called **nuisance parameters**. In contrast, the parameter that we want to test, $\\mu$, is called our **parameter of interest** (POI). The nuisance parameters include all fit parameters, like normalization factors and parameters for describing uncertainties. $L(\\mu, \\hat{\\hat{\\theta}})$ is the Likelihood function, maximized under the condition that our parameter of interest takes the value $\\mu$ and $L(\\hat{\\mu}, \\hat{\\theta})$ is the unconditionally maximized Likelihood. So roughly speaking, we are calculating the fraction of the maximum possible likelihood that we can get under our test condition. If it is high, that speaks for our hypothesis, if it is low, against. The test statistic $t_\\mu$ is then defined as\n",
    "\n",
    "$$t_\\mu = -2\\ln\\Lambda_\\mu$$\n",
    "\n",
    "giving us a test statistic where **high values speak against the null hypothesis**.\n",
    "\n",
    "<div class=\"alert alert-block alert-success\">\n",
    "    <b>Question 1:</b> If we want to discover a new signal (using the p-value $p_0$), which value of $\\mu$ are we testing against? Or in other words, what is our null Hypothesis?\n",
    "</div>\n",
    "\n",
    "All that's left now is to know the distribution of $p(t_\\mu|H_0)$. [Wilk's theorem](https://en.wikipedia.org/wiki/Wilks%27_theorem) tells us that the distribution of $t_\\mu$ is asymptotically (for large sample sizes) a chi-square distribution. For the discovery p-value we use a slightly modified version of test statistic, called $q_0$ where $\\hat{\\mu}$ is required to be $>=0$ ($q_0=0$ for $\\hat{\\mu} < 0$). For $q_0$ the p-value in the asymptotic limit collapses to a very simple formula:\n",
    "\n",
    "$$p_0 = \\sqrt{q_0}$$\n",
    "\n",
    "The asymptotic limit often matches quite well even for fairly small sample sizes, but it should be kept in mind this is an approximation. Alternatively, one can evaluate $p(t_\\mu|H_0)$ by Monte Carlo sampling (\"toys\").\n",
    "\n",
    "## CLs for exclusion of an absent signal\n",
    "\n",
    "Now, sadly, not all searches find evidence for new physics. What we still can do in such a case is to try exclude models by rejecting the hypothesis of a signal being present. That usually means we test against $\\mu=1$ or some other value $>0$. The rest of the procedure is very similar with one small detail worth mentioning ... In high energy physics it is very common to use a quantity called $CL_s$ instead of plain p-value. It is defined by\n",
    "\n",
    "$$CL_s = \\frac{CL_{s+b}}{CL_{b}}$$\n",
    "\n",
    "where $CL_{s+b}$ is the p-value for rejecting the hypothesis of signal + background being present (what would be the \"normal\" p-value) and $CL_{b}$ is the p-value for rejecting the background only hypothesis, but now using the test statistic for $\\mu=1$ (so this is different from $p_0$!). We won't go into further details how to calculate those p-values. `pyhf` has the formulas included and does it automatically for us. The asymptotic distributions for all different variants are described in the paper \"Asymptotic formulae for likelihood-based tests of new physics\" ([arXiv:1007.1727](https://arxiv.org/abs/1007.1727)).\n",
    "\n",
    "Just a qualitative explanation of why we use $CL_s$ instead of the p-value: We want to avoid excluding signals in cases where we don't have sensitivity, but observe an *underfluctuation* of the data. In these cases $CL_{s+b}$ and $CL_b$ will be very similar and consequently lead to a large value of $CL_{s}$, telling us the signal is **not** excluded. In case our observations are exactly on spot with the background expectations $CL_b = 0.5$ in the asymptotic limit, so on average we have twice as high \"p-values\" with $CL_s$.\n",
    "\n",
    "The typical convention for particle physics is to speak of an **exclusion** of a signal if $CL_s < 0.05$. That's usually what is meant by \"limit at 95% confidence level\"."
   ]
  },
  {
   "cell_type": "markdown",
   "id": "59665ed7",
   "metadata": {},
   "source": [
    "## Discovery or exclusion of a signal for a cut & count experiment"
   ]
  },
  {
   "cell_type": "markdown",
   "id": "fbc8e9e6",
   "metadata": {},
   "source": [
    "Let's start with a simple case where we only want to count the number of events in a certain search region. We assume a certain number of expected background events `b`, expected signal events `s` and a total uncertainty on the expected background `delta_b` ($\\sigma_b$).\n",
    "\n",
    "The likelihood function for this can be formulated as a primary measurement of `n` events and a control (\"auxiliary\") measurment of `m` events that constrains our background parameter within the uncertainty. So, a product of 2 Poisson distributions:\n",
    "\n",
    "$$L(s, b) = \\mathrm{Pois}(n|s + b)\\cdot \\mathrm{Pois}(m|\\tau b)$$\n",
    "\n",
    "The parameter $\\tau$ can be given in terms of $\\sigma_b$ by asking the question \"How much more events do i have to measure in the control region to get the relative uncertainty $\\sigma_b / b$\". That gives\n",
    "\n",
    "$\\tau = \\frac{b}{\\sigma_b^2}$\n",
    "\n",
    "Equivalently, we can replace $b$ by $\\gamma b$ and $s$ by $\\mu s$ to fit normalization factors (initialized to 1) and keep $s$ and $b$ fixed to our expectation.\n",
    "\n",
    "$$L'(\\mu, \\gamma) = L(\\mu s, \\gamma b)$$\n",
    "\n",
    "`pyhf` has a convenience function to create the specification for such a model: `pyhf.simplemodels.uncorrelated_background`. It also works for arbitrary many bins, but for now let's go with one bin and 5 expected background events, 7 expected signal events and an uncertainty of 2 on the expected background events:"
   ]
  },
  {
   "cell_type": "code",
   "execution_count": 8,
   "id": "228261b1",
   "metadata": {},
   "outputs": [],
   "source": [
    "s = 7\n",
    "b = 5\n",
    "delta_b = 2"
   ]
  },
  {
   "cell_type": "code",
   "execution_count": 9,
   "id": "5cbf51c9",
   "metadata": {},
   "outputs": [],
   "source": [
    "model = pyhf.simplemodels.uncorrelated_background(\n",
    "    signal=[s], bkg=[b], bkg_uncertainty=[delta_b]\n",
    ")"
   ]
  },
  {
   "cell_type": "markdown",
   "id": "fd0168e3",
   "metadata": {},
   "source": [
    "The model comes with a \"parameter of interest\" (POI) called `mu` that is our signal strength:"
   ]
  },
  {
   "cell_type": "code",
   "execution_count": 10,
   "id": "c9a435b3",
   "metadata": {},
   "outputs": [
    {
     "data": {
      "text/plain": [
       "'mu'"
      ]
     },
     "execution_count": 10,
     "metadata": {},
     "output_type": "execute_result"
    }
   ],
   "source": [
    "model.config.poi_name"
   ]
  },
  {
   "cell_type": "markdown",
   "id": "403d454b",
   "metadata": {},
   "source": [
    "In addition, we have one nuisance parameter, the constrained background normalization $\\gamma$, called `uncorr_bkguncrt` here:"
   ]
  },
  {
   "cell_type": "code",
   "execution_count": 11,
   "id": "eea9a3a6",
   "metadata": {},
   "outputs": [
    {
     "data": {
      "text/plain": [
       "['mu', 'uncorr_bkguncrt']"
      ]
     },
     "execution_count": 11,
     "metadata": {},
     "output_type": "execute_result"
    }
   ],
   "source": [
    "model.config.par_order"
   ]
  },
  {
   "cell_type": "markdown",
   "id": "13498031",
   "metadata": {},
   "source": [
    "It's initial value should be 1"
   ]
  },
  {
   "cell_type": "code",
   "execution_count": 12,
   "id": "535f5314",
   "metadata": {},
   "outputs": [],
   "source": [
    "gamma_initial = 1"
   ]
  },
  {
   "cell_type": "markdown",
   "id": "6d6d4528",
   "metadata": {},
   "source": [
    "So the expected data in our model scales with `mu`. For `mu=1` we get `5 * 1 * 7 = 12`"
   ]
  },
  {
   "cell_type": "code",
   "execution_count": 13,
   "id": "c27bd580",
   "metadata": {},
   "outputs": [
    {
     "data": {
      "text/plain": [
       "array([12.])"
      ]
     },
     "execution_count": 13,
     "metadata": {},
     "output_type": "execute_result"
    }
   ],
   "source": [
    "model.expected_actualdata([1, gamma_initial])"
   ]
  },
  {
   "cell_type": "markdown",
   "id": "de757850",
   "metadata": {},
   "source": [
    "for `mu=2` we get `5 + 2 * 7 = 19`"
   ]
  },
  {
   "cell_type": "code",
   "execution_count": 14,
   "id": "e30c4ab7",
   "metadata": {},
   "outputs": [
    {
     "data": {
      "text/plain": [
       "array([19.])"
      ]
     },
     "execution_count": 14,
     "metadata": {},
     "output_type": "execute_result"
    }
   ],
   "source": [
    "model.expected_actualdata([2, gamma_initial])"
   ]
  },
  {
   "cell_type": "markdown",
   "id": "c823d879",
   "metadata": {},
   "source": [
    "The auxiliary data corresponds to $\\tau b$ in the formula above:"
   ]
  },
  {
   "cell_type": "code",
   "execution_count": 15,
   "id": "041e884e",
   "metadata": {},
   "outputs": [
    {
     "data": {
      "text/plain": [
       "[6.25]"
      ]
     },
     "execution_count": 15,
     "metadata": {},
     "output_type": "execute_result"
    }
   ],
   "source": [
    "model.config.auxdata"
   ]
  },
  {
   "cell_type": "markdown",
   "id": "484c7fb9",
   "metadata": {},
   "source": [
    "It's given by our background uncertainty `delta_b`:"
   ]
  },
  {
   "cell_type": "code",
   "execution_count": 16,
   "id": "22f7a85c",
   "metadata": {},
   "outputs": [
    {
     "data": {
      "text/plain": [
       "6.25"
      ]
     },
     "execution_count": 16,
     "metadata": {},
     "output_type": "execute_result"
    }
   ],
   "source": [
    "b ** 2 / (delta_b ** 2)"
   ]
  },
  {
   "cell_type": "markdown",
   "id": "c69d76d2",
   "metadata": {},
   "source": [
    "To get the p-value for rejection of the background only hypothesis, we call `pyhf.infer.hypotest` with the test value 0 of our POI $\\mu$ using the `q0` test statistic.\n",
    "\n",
    "We want to know which p-value we would get if we would observe an excess of events of precisely the expected signal, so we plug in `s + b` for the data:"
   ]
  },
  {
   "cell_type": "code",
   "execution_count": 17,
   "id": "4d42e783",
   "metadata": {},
   "outputs": [
    {
     "data": {
      "text/plain": [
       "array(0.03354823)"
      ]
     },
     "execution_count": 17,
     "metadata": {},
     "output_type": "execute_result"
    }
   ],
   "source": [
    "pvalue = pyhf.infer.hypotest(\n",
    "    poi_test=0,\n",
    "    data=[s + b] + model.config.auxdata,\n",
    "    pdf=model,\n",
    "    test_stat=\"q0\"\n",
    ")\n",
    "pvalue"
   ]
  },
  {
   "cell_type": "markdown",
   "id": "69482321",
   "metadata": {},
   "source": [
    "We can convert this into a significance (number of standard deviations) using the inverse of the cumulative standard normal distribution $\\Phi$\n",
    "\n",
    "$$z = \\Phi^{-1}(1 - p)$$\n",
    "\n",
    "The function [`scipy.stats.norm.isf`](https://docs.scipy.org/doc/scipy/reference/generated/scipy.stats.norm.html#scipy.stats.norm) (\"inverse survival function\") calculates $\\Phi^{-1}(1 - p)$ in a numerically stable way (also for small p-values)."
   ]
  },
  {
   "cell_type": "code",
   "execution_count": 18,
   "id": "78ca9b05",
   "metadata": {},
   "outputs": [],
   "source": [
    "def pvalue_to_significance(pvalue):\n",
    "    return stats.norm.isf(pvalue)"
   ]
  },
  {
   "cell_type": "code",
   "execution_count": 19,
   "id": "6ad12b0a",
   "metadata": {},
   "outputs": [
    {
     "data": {
      "text/plain": [
       "1.831027300134541"
      ]
     },
     "execution_count": 19,
     "metadata": {},
     "output_type": "execute_result"
    }
   ],
   "source": [
    "pvalue_to_significance(pvalue)"
   ]
  },
  {
   "cell_type": "markdown",
   "id": "8ebf754d",
   "metadata": {},
   "source": [
    "That would not count as \"Evidence\" yet.\n",
    "\n",
    "<div class=\"alert alert-block alert-success\">\n",
    "    <b>Question 2:</b> How much excess events would we need to observe in our search region (assuming unchanged expected background) that we have potential for finding evidence (3 $\\sigma$) of a new signal?  Can you plot significance as a function of inceasing number of events?\n",
    "</div>"
   ]
  },
  {
   "cell_type": "code",
   "execution_count": 20,
   "id": "ab144fe1",
   "metadata": {},
   "outputs": [
    {
     "data": {
      "text/plain": [
       "<Figure size 360x360 with 0 Axes>"
      ]
     },
     "metadata": {},
     "output_type": "display_data"
    },
    {
     "data": {
      "image/png": "[encoded data removed]",
      "text/plain": [
       "<Figure size 1000x600 with 1 Axes>"
      ]
     },
     "metadata": {},
     "output_type": "display_data"
    }
   ],
   "source": [
    "added_values = [1, 2, 4, 5, 6, 7, 8, 9, 10, 11, 12, 13, 14]\n",
    "\n",
    "significances=[]\n",
    "datas=[]\n",
    "\n",
    "for data_point in added_values :\n",
    "    pvalue = pyhf.infer.hypotest(\n",
    "             poi_test=0,\n",
    "             data=[s + b + data_point] + model.config.auxdata,\n",
    "             pdf=model,\n",
    "             test_stat=\"q0\")\n",
    "    #print([s + b + data_point] + model.config.auxdata)\n",
    "    datas.append(s + b + data_point)\n",
    "    significance=pvalue_to_significance(pvalue)\n",
    "    significances.append(significance)\n",
    "\n",
    "\n",
    "# Plot the significance as a function of increasing data\n",
    "plt.figure(figsize=(5, 5))\n",
    "plt.style.use('default')\n",
    "fig, ax = plt.subplots(figsize=(10, 6))\n",
    "ax.plot(datas, significances, marker='o', linestyle='-', color='b', markersize=8, label='Significance')\n",
    "ax.set_xlabel('Observed data', fontsize=14)\n",
    "ax.set_ylabel('Significance', fontsize=14)\n",
    "ax.set_title('Significance vs Observed data', fontsize=16, weight='bold')\n",
    "ax.axhline(y=3, color='red', linestyle='--', linewidth=2, label='Threshold (y=3)')\n",
    "ax.tick_params(axis='both', which='major', labelsize=12)\n",
    "ax.grid(False)\n",
    "plt.show()"
   ]
  },
  {
   "cell_type": "markdown",
   "id": "35a7c630",
   "metadata": {},
   "source": [
    "Equivalently we can test for exclusion and calculate $CL_s$. For that we use 1 as the test value for $\\mu$ and the `qtilde` test statistic.\n",
    "\n",
    "We want to know if we could exclude a signal if we would not observe any more data than our background expectation, so we set our data to `b`:"
   ]
  },
  {
   "cell_type": "code",
   "execution_count": 21,
   "id": "38991cf2",
   "metadata": {},
   "outputs": [
    {
     "data": {
      "text/plain": [
       "array(0.03836407)"
      ]
     },
     "execution_count": 21,
     "metadata": {},
     "output_type": "execute_result"
    }
   ],
   "source": [
    "CLs = pyhf.infer.hypotest(\n",
    "    poi_test=1,\n",
    "    data=[b] + model.config.auxdata,\n",
    "    pdf=model,\n",
    "    test_stat=\"qtilde\"\n",
    ")\n",
    "CLs"
   ]
  },
  {
   "cell_type": "markdown",
   "id": "482f4556",
   "metadata": {},
   "source": [
    "Would you exclude signal if you had 1 more background event?"
   ]
  },
  {
   "cell_type": "code",
   "execution_count": 22,
   "id": "3029b13f",
   "metadata": {},
   "outputs": [
    {
     "data": {
      "text/plain": [
       "array(0.06923316)"
      ]
     },
     "execution_count": 22,
     "metadata": {},
     "output_type": "execute_result"
    }
   ],
   "source": [
    "CLs = pyhf.infer.hypotest(\n",
    "    poi_test=1,\n",
    "    data=[b+1] + model.config.auxdata,\n",
    "    pdf=model,\n",
    "    test_stat=\"qtilde\"\n",
    ")\n",
    "CLs"
   ]
  },
  {
   "cell_type": "markdown",
   "id": "6c4352cd",
   "metadata": {},
   "source": [
    "Now we talked about $CL_{s}$ being the ratio between $CL_{s+b}$ and $CL_{b}$, in `pyhf` you can access this information by setting the following argument `return_tail_probs=True`."
   ]
  },
  {
   "cell_type": "code",
   "execution_count": 23,
   "id": "773cb36c",
   "metadata": {},
   "outputs": [
    {
     "name": "stdout",
     "output_type": "stream",
     "text": [
      "Value for CLsb: 0.019182034571438175\n",
      "Value for CLb: 0.5\n",
      "Value for CLs=CLsb/CLb: 0.03836406914287635\n"
     ]
    }
   ],
   "source": [
    "CLs_obs, CLsb_CLb = pyhf.infer.hypotest(\n",
    "    poi_test=1,\n",
    "    data=[b] + model.config.auxdata,\n",
    "    pdf=model,\n",
    "    return_tail_probs=True,\n",
    "    test_stat=\"qtilde\"\n",
    ")\n",
    "\n",
    "print('Value for CLsb: ' + str(CLsb_CLb[0]))\n",
    "print('Value for CLb: ' + str(CLsb_CLb[1]))\n",
    "print('Value for CLs=CLsb/CLb: '+ str(CLs_obs))"
   ]
  },
  {
   "cell_type": "markdown",
   "id": "3bf4e0df",
   "metadata": {},
   "source": [
    "To calculate expected values in `pyhf.infer.hypotest` set `return_expected_set=True` to true."
   ]
  },
  {
   "cell_type": "code",
   "execution_count": 24,
   "id": "fa9aaed7",
   "metadata": {},
   "outputs": [
    {
     "name": "stdout",
     "output_type": "stream",
     "text": [
      "0.03836406914287635\n",
      "[array(0.00102907), array(0.00672475), array(0.03836407), array(0.16889319), array(0.48270288)]\n"
     ]
    }
   ],
   "source": [
    "CLs_obs, CLs_exp_band = pyhf.infer.hypotest(\n",
    "    poi_test=1,\n",
    "    data=[b] + model.config.auxdata,\n",
    "    pdf=model,\n",
    "    return_expected_set=True,\n",
    "    test_stat=\"qtilde\"\n",
    ")\n",
    "print(CLs_obs)\n",
    "print(CLs_exp_band)"
   ]
  },
  {
   "cell_type": "markdown",
   "id": "f060a7ec",
   "metadata": {},
   "source": [
    "\n",
    "\n",
    "<div class=\"alert alert-block alert-success\">\n",
    "    <b>Question 2:</b> Do you recognize what this corresponds to in the famous CLs plot?\n",
    "</div>"
   ]
  },
  {
   "cell_type": "markdown",
   "id": "ae510075",
   "metadata": {},
   "source": [
    "Now this is only one point and usually one produces something called a brazil band = $CL_{s}$ plot, so let's do that with `pyhf` using `pyhf.infer.hypotest`. For this we have to scan! - let's see what the lowest possible value (and the 1 and 2 $\\sigma$ bands) for $\\mu$ that is excluded with $CL_s<0.05$. Let's scan with 31 points between 0 and 3:"
   ]
  },
  {
   "cell_type": "code",
   "execution_count": 25,
   "id": "33ce361a",
   "metadata": {},
   "outputs": [
    {
     "data": {
      "text/plain": [
       "<matplotlib.legend.Legend at 0x7f00d21acf70>"
      ]
     },
     "execution_count": 25,
     "metadata": {},
     "output_type": "execute_result"
    },
    {
     "data": {
      "image/png": "[encoded data removed]",
      "text/plain": [
       "<Figure size 640x480 with 1 Axes>"
      ]
     },
     "metadata": {},
     "output_type": "display_data"
    }
   ],
   "source": [
    "mu_scan = np.linspace(0, 3, 31)\n",
    "results = [\n",
    "    pyhf.infer.hypotest(mu, [b] + model.config.auxdata, model, return_expected_set=True, test_stat=\"qtilde\")\n",
    "    for mu in mu_scan\n",
    "]\n",
    "# for this example we only need the expected band (second return value)\n",
    "# let's also convert this to a numpy array, such that we can slice it column-wise\n",
    "results = np.array([r[1] for r in results])\n",
    "\n",
    "\n",
    "\n",
    "def plot_scan(scan_parameters, results, exclusion_level=0.05, ax=None):\n",
    "    ax = ax or plt.gca()\n",
    "    ax.axhline(exclusion_level, linestyle=\"--\", color=\"red\")\n",
    "    ax.plot(scan_parameters, results[:, 2], \"--\", color=\"black\", label=\"Expected\")\n",
    "    ax.fill_between(\n",
    "        scan_parameters, results[:, 1], results[:, 3], alpha=0.5, color=\"green\", label=\"Expected +/- 1 σ\"\n",
    "    )\n",
    "    ax.fill_between(\n",
    "        scan_parameters, results[:, 0], results[:, 4], alpha=0.5, color=\"yellow\", label=\"Expected +/- 2 σ\"\n",
    "    )\n",
    "    return ax\n",
    "\n",
    "\n",
    "ax = plot_scan(mu_scan, results)\n",
    "ax.set_xlabel(\"Signal stregth $\\mu$\")\n",
    "ax.set_ylabel(\"$CL_s$\")\n",
    "ax.legend()"
   ]
  },
  {
   "cell_type": "markdown",
   "id": "66603ff7",
   "metadata": {},
   "source": [
    "By looking where the red line crosses the expected line and the error bands we can conclude that the minimum signal strength we expect to exclude in case of no excess events is slightly below 1. We would expect that limit to fluctuate between $\\approx$ 0.6 and 1.4 at $1\\sigma$ level and 0.5 to 2 at $2\\sigma$ level.\n",
    "\n",
    "`pyhf` also has a convenience function to run the scan and interpolate this for us, so we don't need to read it from the plot with a ruler ;)\n"
   ]
  },
  {
   "cell_type": "code",
   "execution_count": 26,
   "id": "268b3d28",
   "metadata": {},
   "outputs": [
    {
     "data": {
      "text/plain": [
       "(array(0.93802498),\n",
       " [array(0.47172138),\n",
       "  array(0.64849741),\n",
       "  array(0.93802498),\n",
       "  array(1.3915076),\n",
       "  array(2.02441462)])"
      ]
     },
     "execution_count": 26,
     "metadata": {},
     "output_type": "execute_result"
    }
   ],
   "source": [
    "pyhf.infer.intervals.upper_limits.upper_limit([b] + model.config.auxdata, model)"
   ]
  },
  {
   "cell_type": "markdown",
   "id": "e7912dc9",
   "metadata": {},
   "source": [
    "So let us assume that that we see 20 observed events, let's plot the observed $CL_{s}$ value as well."
   ]
  },
  {
   "cell_type": "code",
   "execution_count": 27,
   "id": "6af3e69f",
   "metadata": {},
   "outputs": [
    {
     "data": {
      "text/plain": [
       "<matplotlib.legend.Legend at 0x7f00d2700880>"
      ]
     },
     "execution_count": 27,
     "metadata": {},
     "output_type": "execute_result"
    },
    {
     "data": {
      "image/png": "[encoded data removed]",
      "text/plain": [
       "<Figure size 640x480 with 1 Axes>"
      ]
     },
     "metadata": {},
     "output_type": "display_data"
    }
   ],
   "source": [
    "observations = [20]\n",
    "data = pyhf.tensorlib.astensor(observations + model.config.auxdata)\n",
    "\n",
    "\n",
    "results = [\n",
    "    pyhf.infer.hypotest(mu, data, model, return_expected_set=True, test_stat=\"qtilde\")\n",
    "    for mu in mu_scan\n",
    "]\n",
    "# for this example we only need the expected band (second return value)\n",
    "# let's also convert this to a numpy array, such that we can slice it column-wise\n",
    "\n",
    "observed_CLs=np.array([r[0] for r in results])\n",
    "expected_CLs = np.array([r[1] for r in results])\n",
    "ax = plot_scan(mu_scan, expected_CLs)\n",
    "ax.plot(mu_scan, observed_CLs, label='Observed $CL_s$', color='blue', linestyle=\"--\")\n",
    "ax.set_xlabel(\"Signal stregth $\\mu$\")\n",
    "ax.set_ylabel(\"$CL_s$\")\n",
    "ax.legend()"
   ]
  },
  {
   "cell_type": "markdown",
   "id": "65d24697",
   "metadata": {},
   "source": [
    "<div class=\"alert alert-block alert-success\">\n",
    "    <b>Question 3:</b> Can you plot it with three events?\n",
    "</div>"
   ]
  },
  {
   "cell_type": "code",
   "execution_count": 28,
   "id": "18e6907a",
   "metadata": {},
   "outputs": [
    {
     "data": {
      "text/plain": [
       "<matplotlib.legend.Legend at 0x7f00d2669280>"
      ]
     },
     "execution_count": 28,
     "metadata": {},
     "output_type": "execute_result"
    },
    {
     "data": {
      "image/png": "[encoded data removed]",
      "text/plain": [
       "<Figure size 640x480 with 1 Axes>"
      ]
     },
     "metadata": {},
     "output_type": "display_data"
    }
   ],
   "source": [
    "observations = [3]\n",
    "data = pyhf.tensorlib.astensor(observations + model.config.auxdata)\n",
    "\n",
    "\n",
    "results = [\n",
    "    pyhf.infer.hypotest(mu, data, model, return_expected_set=True, test_stat=\"qtilde\")\n",
    "    for mu in mu_scan\n",
    "]\n",
    "# for this example we only need the expected band (second return value)\n",
    "# let's also convert this to a numpy array, such that we can slice it column-wise\n",
    "\n",
    "observed_CLs=np.array([r[0] for r in results])\n",
    "expected_CLs = np.array([r[1] for r in results])\n",
    "ax = plot_scan(mu_scan, expected_CLs)\n",
    "ax.plot(mu_scan, observed_CLs, label='Observed $CL_s$', color='blue', linestyle=\"--\")\n",
    "ax.set_xlabel(\"Signal stregth $\\mu$\")\n",
    "ax.set_ylabel(\"$CL_s$\")\n",
    "ax.legend()"
   ]
  },
  {
   "cell_type": "markdown",
   "id": "4d729403",
   "metadata": {},
   "source": [
    "<div class=\"alert alert-block alert-success\">\n",
    "    <b>Question 4:</b> What can you tell about behaviour for little signal or lot of signal?\n",
    "</div>"
   ]
  },
  {
   "cell_type": "markdown",
   "id": "b84f4fe4",
   "metadata": {},
   "source": [
    "<div class=\"alert alert-block alert-success\">\n",
    "    <b>Bonus question 1:</b> According to this method, what would be the upper limit on the number of excess events in case of exactly 0 expected background events (no uncertainty)? Follow up question: Is that correct? Or in other words: How well does the asymptotic limit do here? <b>Hint:</b> To create a model with negligible background you have to set the background expectation to a small value (e.g. <code>1e-10</code>) since the $\\lambda$ parameter of a poisson distribution has to be strictly greater than 0.\n",
    "</div>"
   ]
  },
  {
   "cell_type": "markdown",
   "id": "1c4c6708",
   "metadata": {},
   "source": [
    "# Low statistics"
   ]
  },
  {
   "cell_type": "markdown",
   "id": "abeecdad",
   "metadata": {},
   "source": [
    "We have used a asymptotic calculator that uses Wilk's theorem to calculate a limit, which is only valid in case of high statistics. In case you have to deal with low statistics scenario it is always good to use `toy-based calculator`. In order to do so, you can set `calctype=\"toybased\"`. These distributions are produced by generating pseudo-data (“toys”) with the nuisance parameters set to their conditional maximum likelihood estimators at the corresponding value of the parameter of interest for each hypothesis.\n"
   ]
  },
  {
   "cell_type": "code",
   "execution_count": 29,
   "id": "0440e446",
   "metadata": {},
   "outputs": [
    {
     "name": "stderr",
     "output_type": "stream",
     "text": [
      "                                                                                                                                                                                                \r"
     ]
    },
    {
     "name": "stdout",
     "output_type": "stream",
     "text": [
      "Value for CLsb: 0.046\n",
      "Value for CLb: 0.619\n",
      "Value for CLs=CLsb/CLb: 0.07431340872374798\n"
     ]
    }
   ],
   "source": [
    "CLs_obs, CLsb_CLb = pyhf.infer.hypotest(\n",
    "    poi_test=1,\n",
    "    data=[b+1] + model.config.auxdata,\n",
    "    pdf=model,\n",
    "    return_tail_probs=True,\n",
    "    test_stat=\"qtilde\",\n",
    "    calctype=\"toybased\"\n",
    "    \n",
    ")\n",
    "\n",
    "print('Value for CLsb: ' + str(CLsb_CLb[0]))\n",
    "print('Value for CLb: ' + str(CLsb_CLb[1]))\n",
    "print('Value for CLs=CLsb/CLb: '+ str(CLs_obs))"
   ]
  },
  {
   "cell_type": "markdown",
   "id": "746b4ef9",
   "metadata": {},
   "source": [
    "<div class=\"alert alert-block alert-success\">\n",
    "    <b>Question 5:</b> \n",
    "    Have you observed any differences with respect to asymptotic calculator?\n",
    "</div>\n"
   ]
  },
  {
   "cell_type": "markdown",
   "id": "039f6d75",
   "metadata": {},
   "source": [
    "1. Value changes everytime you run this\n",
    "2. It takes time, because the default number of toys is around 2000!\n",
    "How can you make this process faster?\n",
    "In fact you can change the number of toys in the generator using the following function `pyhf.infer.calculators.ToyCalculator` to do so. This comes at the cost of accuracy."
   ]
  },
  {
   "cell_type": "code",
   "execution_count": 30,
   "id": "2376ae88",
   "metadata": {},
   "outputs": [
    {
     "name": "stderr",
     "output_type": "stream",
     "text": [
      "                                                                                                                                                                                                "
     ]
    },
    {
     "name": "stdout",
     "output_type": "stream",
     "text": [
      "Value for CLsb: 0.03\n",
      "Value for CLb: 0.53\n",
      "Value for CLs=CLsb/CLb: 0.056603773584905655\n"
     ]
    },
    {
     "name": "stderr",
     "output_type": "stream",
     "text": [
      "\r"
     ]
    }
   ],
   "source": [
    "mu_test=1.0\n",
    "data = [b] + model.config.auxdata\n",
    "toy_calculator = pyhf.infer.calculators.ToyCalculator(data, model, ntoys=100)\n",
    "q_tilde = toy_calculator.teststatistic(mu_test)\n",
    "sig_plus_bkg_dist, bkg_dist = toy_calculator.distributions(mu_test)\n",
    "sig_plus_bkg_dist.pvalue(mu_test), bkg_dist.pvalue(mu_test)\n",
    "CLsb, CLb, CLs = toy_calculator.pvalues(q_tilde, sig_plus_bkg_dist, bkg_dist)\n",
    "print('Value for CLsb: ' + str(CLsb))\n",
    "print('Value for CLb: ' + str(CLb))\n",
    "print('Value for CLs=CLsb/CLb: '+ str(CLs))"
   ]
  },
  {
   "cell_type": "markdown",
   "id": "68835cb2",
   "metadata": {},
   "source": [
    "The full scan will take long!"
   ]
  },
  {
   "cell_type": "code",
   "execution_count": null,
   "id": "f9fac8af",
   "metadata": {},
   "outputs": [],
   "source": [
    "#this will take long\n",
    "\n",
    "mu_scan = np.linspace(0, 3, 5)\n",
    "results = [pyhf.infer.hypotest(\n",
    "    mu, [b] + model.config.auxdata, model, return_expected_set=True, test_stat=\"qtilde\", calctype='toybased'\n",
    "    )\n",
    "    for mu in mu_scan]\n",
    "# for this example we only need the expected band (second return value)\n",
    "# let's also convert this to a numpy array, such that we can slice it column-wise\n",
    "results = np.array([r[1] for r in results])\n",
    "\n",
    "ax = plot_scan(mu_scan, results)\n",
    "ax.set_xlabel(\"Signal stregth $\\mu$\")\n",
    "ax.set_ylabel(\"$CL_s$\")\n",
    "ax.legend()"
   ]
  },
  {
   "cell_type": "markdown",
   "id": "51b3c87c",
   "metadata": {},
   "source": [
    "## Run an upper limit scan on signal parameters"
   ]
  },
  {
   "cell_type": "markdown",
   "id": "b5cffbe2",
   "metadata": {},
   "source": [
    "Now, often we are not only interested in one particular signal, like in this workshop to be more precise, but we might have a certain class of signal models in mind and ask ourselves which parameters of that model are excluded.\n",
    "\n",
    "What we can do is run an upper limit scan for each parameter and look for which parameters the excluded signal strength is below 1!\n",
    "\n",
    "To get something that looks realistic simplified version of a fit to 9 bins using the [published data from the ATLAS SUSY 1L Wh analysis](https://doi.org/10.17182/hepdata.90607.v3) was prepared. If you are interested how the procedure of simplifiying the model work, have a look at [dump_signal_grid.ipynb](dump_signal_grid.ipynb).\n",
    "\n",
    "Lets load it! We have the following background expectations for each bin:"
   ]
  },
  {
   "cell_type": "code",
   "execution_count": 31,
   "id": "8a8b1503",
   "metadata": {},
   "outputs": [],
   "source": [
    "with open(\"example_background.json\") as f:\n",
    "    b_9bins = json.load(f)"
   ]
  },
  {
   "cell_type": "code",
   "execution_count": 32,
   "id": "179f9fad",
   "metadata": {},
   "outputs": [
    {
     "data": {
      "text/plain": [
       "[13.00659260848957,\n",
       " 9.84251410934949,\n",
       " 6.668866664075592,\n",
       " 3.84335063984653,\n",
       " 5.928258939016435,\n",
       " 1.837121080628339,\n",
       " 6.4399309680624,\n",
       " 4.616131198108342,\n",
       " 1.6039841463924573]"
      ]
     },
     "execution_count": 32,
     "metadata": {},
     "output_type": "execute_result"
    }
   ],
   "source": [
    "b_9bins"
   ]
  },
  {
   "attachments": {
    "image.png": {
     "image/png": "[encoded data removed]"
    }
   },
   "cell_type": "markdown",
   "id": "803b0cae",
   "metadata": {},
   "source": [
    "And we have a long list of signal models for a SUSY process with a chargino/neutralino pair ($\\tilde{\\chi}_1^{\\pm}/\\tilde{\\chi}_2^{0}$) that each decay into the lightest neutralino $\\tilde{\\chi}_1^{0}$, while emitting a W Boson and a Higgs Boson.\n",
    "\n",
    "![image.png](attachment:image.png)\n",
    "\n",
    "The model parameters are the $\\tilde{\\chi}_1^{\\pm}/\\tilde{\\chi}_2^{0}$ mass (assumed to be the same) and the $\\tilde{\\chi}_1^{0}$ mass. We call them `x` and `y` in the following."
   ]
  },
  {
   "cell_type": "code",
   "execution_count": 33,
   "id": "bc16a5ee",
   "metadata": {},
   "outputs": [],
   "source": [
    "with open(\"example_signals.json\") as f:\n",
    "    signals_9bins = json.load(f)"
   ]
  },
  {
   "cell_type": "code",
   "execution_count": 34,
   "id": "4cf37b69",
   "metadata": {
    "tags": []
   },
   "outputs": [
    {
     "data": {
      "text/plain": [
       "[{'x': 1000,\n",
       "  'y': 0,\n",
       "  'data': [0.010885407216846943,\n",
       "   0.04867178201675415,\n",
       "   0.1386701762676239,\n",
       "   0.030669409781694412,\n",
       "   0.08809207379817963,\n",
       "   0.25697430968284607,\n",
       "   0.299879789352417,\n",
       "   0.3753739297389984,\n",
       "   1.792580485343933]},\n",
       " {'x': 1000,\n",
       "  'y': 100,\n",
       "  'data': [0.018754690885543823,\n",
       "   0.04145063832402229,\n",
       "   0.17453598976135254,\n",
       "   0.018347250297665596,\n",
       "   0.050798844546079636,\n",
       "   0.2963657081127167,\n",
       "   0.24594083428382874,\n",
       "   0.5206209421157837,\n",
       "   1.8391799926757812]},\n",
       " {'x': 1000,\n",
       "  'y': 150,\n",
       "  'data': [0.023146294057369232,\n",
       "   0.039490118622779846,\n",
       "   0.210637167096138,\n",
       "   0.042197853326797485,\n",
       "   0.05113246291875839,\n",
       "   0.2510533034801483,\n",
       "   0.39916881918907166,\n",
       "   0.43409013748168945,\n",
       "   1.6555986404418945]},\n",
       " {'x': 1000,\n",
       "  'y': 200,\n",
       "  'data': [0.026360932737588882,\n",
       "   0.06841520965099335,\n",
       "   0.19323571026325226,\n",
       "   0.03505992516875267,\n",
       "   0.05682523176074028,\n",
       "   0.18298614025115967,\n",
       "   0.3036608099937439,\n",
       "   0.34920915961265564,\n",
       "   1.591480016708374]},\n",
       " {'x': 1000,\n",
       "  'y': 250,\n",
       "  'data': [0.03623206913471222,\n",
       "   0.04371713474392891,\n",
       "   0.1609807312488556,\n",
       "   0.05842075124382973,\n",
       "   0.039999525994062424,\n",
       "   0.3052055835723877,\n",
       "   0.2844449281692505,\n",
       "   0.4230394959449768,\n",
       "   1.5025944709777832]},\n",
       " {'x': 1000,\n",
       "  'y': 300,\n",
       "  'data': [0.04812537133693695,\n",
       "   0.041391268372535706,\n",
       "   0.14196138083934784,\n",
       "   0.04597096145153046,\n",
       "   0.028731679543852806,\n",
       "   0.2516600489616394,\n",
       "   0.2930243909358978,\n",
       "   0.4166995584964752,\n",
       "   1.6481051445007324]},\n",
       " {'x': 1000,\n",
       "  'y': 350,\n",
       "  'data': [0.022828832268714905,\n",
       "   0.05815522372722626,\n",
       "   0.19257496297359467,\n",
       "   0.011599758639931679,\n",
       "   0.05055683106184006,\n",
       "   0.30343881249427795,\n",
       "   0.35437265038490295,\n",
       "   0.5541316866874695,\n",
       "   1.5725938081741333]},\n",
       " {'x': 1000,\n",
       "  'y': 400,\n",
       "  'data': [0.005493748001754284,\n",
       "   0.06372552365064621,\n",
       "   0.2367045283317566,\n",
       "   0.03751236945390701,\n",
       "   0.08254049718379974,\n",
       "   0.2538094222545624,\n",
       "   0.40130794048309326,\n",
       "   0.4523620307445526,\n",
       "   1.383772373199463]},\n",
       " {'x': 1000,\n",
       "  'y': 50,\n",
       "  'data': [0.01941492408514023,\n",
       "   0.030713265761733055,\n",
       "   0.16946013271808624,\n",
       "   0.03847905993461609,\n",
       "   0.04940590634942055,\n",
       "   0.2160162776708603,\n",
       "   0.2250020056962967,\n",
       "   0.39881837368011475,\n",
       "   1.593127965927124]},\n",
       " {'x': 150,\n",
       "  'y': 0,\n",
       "  'data': [10.740285873413086,\n",
       "   21.192609786987305,\n",
       "   17.52942657470703,\n",
       "   0.0,\n",
       "   0.0,\n",
       "   0.5115550756454468,\n",
       "   0,\n",
       "   0,\n",
       "   0]},\n",
       " {'x': 165,\n",
       "  'y': 35,\n",
       "  'data': [6.490676403045654,\n",
       "   15.347532272338867,\n",
       "   14.745010375976562,\n",
       "   0.0,\n",
       "   0.0,\n",
       "   0.4837352931499481,\n",
       "   0,\n",
       "   0,\n",
       "   0]},\n",
       " {'x': 175,\n",
       "  'y': 0,\n",
       "  'data': [15.707181930541992,\n",
       "   17.963926315307617,\n",
       "   26.79689598083496,\n",
       "   2.151276111602783,\n",
       "   2.799616813659668,\n",
       "   0.7199947834014893,\n",
       "   0,\n",
       "   0,\n",
       "   0]},\n",
       " {'x': 175,\n",
       "  'y': 25,\n",
       "  'data': [14.941454887390137,\n",
       "   18.036781311035156,\n",
       "   20.544851303100586,\n",
       "   1.2498679161071777,\n",
       "   1.2458633184432983,\n",
       "   0.6444553732872009,\n",
       "   0,\n",
       "   0,\n",
       "   0]},\n",
       " {'x': 190,\n",
       "  'y': 60,\n",
       "  'data': [6.711949825286865,\n",
       "   5.849047660827637,\n",
       "   14.324533462524414,\n",
       "   0,\n",
       "   0,\n",
       "   0,\n",
       "   0,\n",
       "   0,\n",
       "   0]},\n",
       " {'x': 200,\n",
       "  'y': 0,\n",
       "  'data': [14.695298194885254,\n",
       "   22.856460571289062,\n",
       "   22.71437644958496,\n",
       "   2.9807186126708984,\n",
       "   6.758251667022705,\n",
       "   6.283374786376953,\n",
       "   0,\n",
       "   0,\n",
       "   0]},\n",
       " {'x': 200,\n",
       "  'y': 25,\n",
       "  'data': [9.48294448852539,\n",
       "   15.16196346282959,\n",
       "   19.300106048583984,\n",
       "   4.466312885284424,\n",
       "   5.852993011474609,\n",
       "   4.083071708679199,\n",
       "   0,\n",
       "   0,\n",
       "   0]},\n",
       " {'x': 200,\n",
       "  'y': 50,\n",
       "  'data': [9.736275672912598,\n",
       "   13.572657585144043,\n",
       "   13.448278427124023,\n",
       "   0.0,\n",
       "   1.1927634477615356,\n",
       "   1.454656958580017,\n",
       "   0,\n",
       "   0,\n",
       "   0]},\n",
       " {'x': 225,\n",
       "  'y': 0,\n",
       "  'data': [9.721513748168945,\n",
       "   21.512104034423828,\n",
       "   17.870323181152344,\n",
       "   8.911727905273438,\n",
       "   11.830756187438965,\n",
       "   10.159244537353516,\n",
       "   0.0,\n",
       "   0.05956661328673363,\n",
       "   0.4887079894542694]},\n",
       " {'x': 225,\n",
       "  'y': 25,\n",
       "  'data': [11.858827590942383,\n",
       "   11.948604583740234,\n",
       "   25.441898345947266,\n",
       "   3.7300665378570557,\n",
       "   6.283249855041504,\n",
       "   9.5155029296875,\n",
       "   1.5797244310379028,\n",
       "   0.0,\n",
       "   0.45966529846191406]},\n",
       " {'x': 225,\n",
       "  'y': 50,\n",
       "  'data': [7.519159317016602,\n",
       "   11.081510543823242,\n",
       "   15.57998275756836,\n",
       "   3.9420835971832275,\n",
       "   1.403835415840149,\n",
       "   6.635332107543945,\n",
       "   0.0,\n",
       "   0.0,\n",
       "   0.40524566173553467]},\n",
       " {'x': 250,\n",
       "  'y': 0,\n",
       "  'data': [8.399599075317383,\n",
       "   7.945369720458984,\n",
       "   14.303682327270508,\n",
       "   10.385579109191895,\n",
       "   9.981204986572266,\n",
       "   6.831704139709473,\n",
       "   0.4443146586418152,\n",
       "   1.3123970031738281,\n",
       "   2.367060661315918]},\n",
       " {'x': 250,\n",
       "  'y': 100,\n",
       "  'data': [2.9465391635894775,\n",
       "   7.1385908126831055,\n",
       "   6.134505748748779,\n",
       "   3.7898929119110107,\n",
       "   0.7068889141082764,\n",
       "   2.025707721710205,\n",
       "   0,\n",
       "   0,\n",
       "   0]},\n",
       " {'x': 250,\n",
       "  'y': 25,\n",
       "  'data': [12.118844032287598,\n",
       "   10.905044555664062,\n",
       "   12.23505973815918,\n",
       "   5.788952350616455,\n",
       "   7.572610378265381,\n",
       "   8.969337463378906,\n",
       "   0.6489881277084351,\n",
       "   0.8079586625099182,\n",
       "   0.6130396723747253]},\n",
       " {'x': 250,\n",
       "  'y': 50,\n",
       "  'data': [9.686002731323242,\n",
       "   13.002070426940918,\n",
       "   13.118112564086914,\n",
       "   4.53022575378418,\n",
       "   7.977536678314209,\n",
       "   12.024292945861816,\n",
       "   0.0,\n",
       "   1.4372286796569824,\n",
       "   0.0]},\n",
       " {'x': 250,\n",
       "  'y': 75,\n",
       "  'data': [8.9335298538208,\n",
       "   10.181699752807617,\n",
       "   10.036301612854004,\n",
       "   1.9971116781234741,\n",
       "   3.522380828857422,\n",
       "   3.6275386810302734,\n",
       "   0.0,\n",
       "   0.0,\n",
       "   0.7211554050445557]},\n",
       " {'x': 275,\n",
       "  'y': 0,\n",
       "  'data': [11.138399124145508,\n",
       "   12.906726837158203,\n",
       "   14.326669692993164,\n",
       "   11.051191329956055,\n",
       "   11.546222686767578,\n",
       "   10.797464370727539,\n",
       "   3.407493829727173,\n",
       "   2.3738646507263184,\n",
       "   1.208672285079956]},\n",
       " {'x': 275,\n",
       "  'y': 25,\n",
       "  'data': [6.637687683105469,\n",
       "   7.994905471801758,\n",
       "   13.783872604370117,\n",
       "   7.342528343200684,\n",
       "   15.186184883117676,\n",
       "   15.380001068115234,\n",
       "   1.4442182779312134,\n",
       "   1.3915457725524902,\n",
       "   2.6495237350463867]},\n",
       " {'x': 275,\n",
       "  'y': 50,\n",
       "  'data': [9.725741386413574,\n",
       "   9.487744331359863,\n",
       "   12.764564514160156,\n",
       "   5.408217906951904,\n",
       "   6.88151216506958,\n",
       "   15.263460159301758,\n",
       "   2.548654556274414,\n",
       "   1.624466896057129,\n",
       "   1.4954607486724854]},\n",
       " {'x': 275,\n",
       "  'y': 75,\n",
       "  'data': [8.777873039245605,\n",
       "   9.064873695373535,\n",
       "   8.28404426574707,\n",
       "   6.127051830291748,\n",
       "   4.273533344268799,\n",
       "   6.545523643493652,\n",
       "   1.1737818717956543,\n",
       "   1.3559410572052002,\n",
       "   0.0]},\n",
       " {'x': 300,\n",
       "  'y': 0,\n",
       "  'data': [7.436425685882568,\n",
       "   9.122700691223145,\n",
       "   13.706570625305176,\n",
       "   6.83893346786499,\n",
       "   11.065070152282715,\n",
       "   11.433359146118164,\n",
       "   7.979135513305664,\n",
       "   5.715981483459473,\n",
       "   3.1485066413879395]},\n",
       " {'x': 300,\n",
       "  'y': 150,\n",
       "  'data': [2.4167301654815674,\n",
       "   2.7713541984558105,\n",
       "   3.3062334060668945,\n",
       "   1.2446868419647217,\n",
       "   0.8918786644935608,\n",
       "   1.2160720825195312,\n",
       "   0.12047117203474045,\n",
       "   0.0,\n",
       "   0.0323086716234684]},\n",
       " {'x': 300,\n",
       "  'y': 25,\n",
       "  'data': [7.664880275726318,\n",
       "   9.60792064666748,\n",
       "   13.81843376159668,\n",
       "   11.7509126663208,\n",
       "   10.041584968566895,\n",
       "   13.232719421386719,\n",
       "   5.194363594055176,\n",
       "   2.746002197265625,\n",
       "   4.1404547691345215]},\n",
       " {'x': 300,\n",
       "  'y': 50,\n",
       "  'data': [7.818609237670898,\n",
       "   10.429689407348633,\n",
       "   13.815770149230957,\n",
       "   7.444231986999512,\n",
       "   7.300130367279053,\n",
       "   8.716379165649414,\n",
       "   2.051842212677002,\n",
       "   6.2579169273376465,\n",
       "   1.5499815940856934]},\n",
       " {'x': 300,\n",
       "  'y': 75,\n",
       "  'data': [6.165480613708496,\n",
       "   10.525634765625,\n",
       "   10.640666007995605,\n",
       "   6.008431434631348,\n",
       "   12.17455768585205,\n",
       "   8.027151107788086,\n",
       "   1.0418734550476074,\n",
       "   1.0425400733947754,\n",
       "   1.8550877571105957]},\n",
       " {'x': 325,\n",
       "  'y': 0,\n",
       "  'data': [3.376084089279175,\n",
       "   8.229629516601562,\n",
       "   9.301197052001953,\n",
       "   8.218151092529297,\n",
       "   9.513275146484375,\n",
       "   13.154796600341797,\n",
       "   3.347358226776123,\n",
       "   7.191207408905029,\n",
       "   4.7581000328063965]},\n",
       " {'x': 325,\n",
       "  'y': 50,\n",
       "  'data': [3.804198741912842,\n",
       "   7.120604038238525,\n",
       "   10.613086700439453,\n",
       "   8.088359832763672,\n",
       "   9.445265769958496,\n",
       "   15.909055709838867,\n",
       "   7.610965728759766,\n",
       "   4.021924018859863,\n",
       "   7.752448558807373]},\n",
       " {'x': 350,\n",
       "  'y': 0,\n",
       "  'data': [2.145017385482788,\n",
       "   6.531894683837891,\n",
       "   11.438401222229004,\n",
       "   4.222764492034912,\n",
       "   10.004242897033691,\n",
       "   13.9556303024292,\n",
       "   10.408665657043457,\n",
       "   7.382012367248535,\n",
       "   6.6312665939331055]},\n",
       " {'x': 350,\n",
       "  'y': 100,\n",
       "  'data': [5.191040515899658,\n",
       "   5.524777412414551,\n",
       "   11.455780982971191,\n",
       "   5.600709915161133,\n",
       "   5.700902462005615,\n",
       "   7.7329206466674805,\n",
       "   5.803132057189941,\n",
       "   5.080428123474121,\n",
       "   4.36984395980835]},\n",
       " {'x': 350,\n",
       "  'y': 150,\n",
       "  'data': [1.5745956897735596,\n",
       "   4.769145965576172,\n",
       "   6.348524570465088,\n",
       "   3.785738706588745,\n",
       "   3.4367785453796387,\n",
       "   5.54328727722168,\n",
       "   1.603760004043579,\n",
       "   0.5036265850067139,\n",
       "   0.9179446697235107]},\n",
       " {'x': 350,\n",
       "  'y': 200,\n",
       "  'data': [0.7342605590820312,\n",
       "   0.48116278648376465,\n",
       "   1.7393125295639038,\n",
       "   1.0109864473342896,\n",
       "   1.8584312200546265,\n",
       "   0.0,\n",
       "   0,\n",
       "   0,\n",
       "   0]},\n",
       " {'x': 350,\n",
       "  'y': 25,\n",
       "  'data': [6.602198600769043,\n",
       "   5.832629680633545,\n",
       "   10.599242210388184,\n",
       "   5.8822736740112305,\n",
       "   7.543834686279297,\n",
       "   8.709168434143066,\n",
       "   8.139022827148438,\n",
       "   6.892265796661377,\n",
       "   6.460882663726807]},\n",
       " {'x': 350,\n",
       "  'y': 50,\n",
       "  'data': [5.828271865844727,\n",
       "   6.609212398529053,\n",
       "   8.470284461975098,\n",
       "   5.687155723571777,\n",
       "   3.9395458698272705,\n",
       "   12.57034683227539,\n",
       "   7.505221366882324,\n",
       "   6.343720436096191,\n",
       "   11.341400146484375]},\n",
       " {'x': 350,\n",
       "  'y': 75,\n",
       "  'data': [4.684025287628174,\n",
       "   4.2852654457092285,\n",
       "   7.854337215423584,\n",
       "   3.8230388164520264,\n",
       "   5.392768859863281,\n",
       "   9.344162940979004,\n",
       "   4.550209999084473,\n",
       "   5.1512274742126465,\n",
       "   3.438394069671631]},\n",
       " {'x': 375,\n",
       "  'y': 0,\n",
       "  'data': [4.250478267669678,\n",
       "   5.776835918426514,\n",
       "   9.99820613861084,\n",
       "   6.034154415130615,\n",
       "   10.88595199584961,\n",
       "   10.124924659729004,\n",
       "   10.751995086669922,\n",
       "   10.56043815612793,\n",
       "   11.972291946411133]},\n",
       " {'x': 375,\n",
       "  'y': 50,\n",
       "  'data': [4.573996067047119,\n",
       "   7.564881801605225,\n",
       "   11.853744506835938,\n",
       "   5.120791435241699,\n",
       "   5.654480934143066,\n",
       "   9.969758987426758,\n",
       "   10.870020866394043,\n",
       "   7.99044132232666,\n",
       "   8.714484214782715]},\n",
       " {'x': 400,\n",
       "  'y': 0,\n",
       "  'data': [3.605377435684204,\n",
       "   2.8955750465393066,\n",
       "   10.156417846679688,\n",
       "   4.748650550842285,\n",
       "   3.0548958778381348,\n",
       "   8.450952529907227,\n",
       "   8.672905921936035,\n",
       "   9.236165046691895,\n",
       "   7.941341400146484]},\n",
       " {'x': 400,\n",
       "  'y': 100,\n",
       "  'data': [2.4250941276550293,\n",
       "   4.197196006774902,\n",
       "   5.606079578399658,\n",
       "   4.731131553649902,\n",
       "   2.808008909225464,\n",
       "   7.049895286560059,\n",
       "   8.972343444824219,\n",
       "   4.765661716461182,\n",
       "   9.662927627563477]},\n",
       " {'x': 400,\n",
       "  'y': 150,\n",
       "  'data': [1.8519654273986816,\n",
       "   2.5240859985351562,\n",
       "   6.696154594421387,\n",
       "   2.863886594772339,\n",
       "   2.3516969680786133,\n",
       "   2.243678092956543,\n",
       "   3.2717244625091553,\n",
       "   3.229315757751465,\n",
       "   3.427342653274536]},\n",
       " {'x': 400,\n",
       "  'y': 200,\n",
       "  'data': [2.4491324424743652,\n",
       "   2.05690336227417,\n",
       "   2.492274522781372,\n",
       "   2.655040979385376,\n",
       "   2.8753743171691895,\n",
       "   3.491018533706665,\n",
       "   2.0748610496520996,\n",
       "   0.6178692579269409,\n",
       "   1.4213221073150635]},\n",
       " {'x': 400,\n",
       "  'y': 25,\n",
       "  'data': [2.596224308013916,\n",
       "   1.9524989128112793,\n",
       "   6.568361759185791,\n",
       "   3.9803481101989746,\n",
       "   3.354823350906372,\n",
       "   6.468501091003418,\n",
       "   6.918493747711182,\n",
       "   7.911514759063721,\n",
       "   9.583667755126953]},\n",
       " {'x': 400,\n",
       "  'y': 250,\n",
       "  'data': [0.7479524612426758,\n",
       "   1.2715418338775635,\n",
       "   2.47800874710083,\n",
       "   0.8997375965118408,\n",
       "   1.0778779983520508,\n",
       "   0.521834135055542,\n",
       "   0,\n",
       "   0,\n",
       "   0]},\n",
       " {'x': 400,\n",
       "  'y': 50,\n",
       "  'data': [2.944277048110962,\n",
       "   4.844832897186279,\n",
       "   9.22479248046875,\n",
       "   4.707716941833496,\n",
       "   5.363685131072998,\n",
       "   8.71293830871582,\n",
       "   7.220993995666504,\n",
       "   5.857954502105713,\n",
       "   8.462804794311523]},\n",
       " {'x': 425,\n",
       "  'y': 0,\n",
       "  'data': [1.414097547531128,\n",
       "   2.710136651992798,\n",
       "   6.390994071960449,\n",
       "   3.736588478088379,\n",
       "   3.8862359523773193,\n",
       "   8.125142097473145,\n",
       "   5.73722505569458,\n",
       "   8.069987297058105,\n",
       "   7.996856689453125]},\n",
       " {'x': 450,\n",
       "  'y': 0,\n",
       "  'data': [1.4514394998550415,\n",
       "   2.7745299339294434,\n",
       "   6.360806465148926,\n",
       "   4.008983612060547,\n",
       "   2.3109006881713867,\n",
       "   8.931928634643555,\n",
       "   10.036262512207031,\n",
       "   6.7148756980896,\n",
       "   11.690774917602539]},\n",
       " {'x': 450,\n",
       "  'y': 100,\n",
       "  'data': [1.4264564514160156,\n",
       "   5.419508934020996,\n",
       "   7.785826683044434,\n",
       "   1.555769443511963,\n",
       "   5.064716339111328,\n",
       "   5.187248706817627,\n",
       "   7.786479473114014,\n",
       "   5.740148067474365,\n",
       "   8.524190902709961]},\n",
       " {'x': 450,\n",
       "  'y': 150,\n",
       "  'data': [1.9560545682907104,\n",
       "   3.153409957885742,\n",
       "   2.8781685829162598,\n",
       "   2.6138808727264404,\n",
       "   4.007439613342285,\n",
       "   3.9237847328186035,\n",
       "   4.36992073059082,\n",
       "   4.923667907714844,\n",
       "   6.507630348205566]},\n",
       " {'x': 450,\n",
       "  'y': 200,\n",
       "  'data': [1.9728431701660156,\n",
       "   3.100336790084839,\n",
       "   3.1221208572387695,\n",
       "   1.297338843345642,\n",
       "   2.80057692527771,\n",
       "   2.970885992050171,\n",
       "   3.983142137527466,\n",
       "   1.3028247356414795,\n",
       "   2.3334808349609375]},\n",
       " {'x': 450,\n",
       "  'y': 250,\n",
       "  'data': [1.7448604106903076,\n",
       "   1.5555113554000854,\n",
       "   1.9951308965682983,\n",
       "   0.44693148136138916,\n",
       "   1.3023359775543213,\n",
       "   1.2967514991760254,\n",
       "   1.2592027187347412,\n",
       "   0.923243522644043,\n",
       "   0.0]},\n",
       " {'x': 450,\n",
       "  'y': 300,\n",
       "  'data': [0.3094343841075897,\n",
       "   0.6820781826972961,\n",
       "   0.8157972693443298,\n",
       "   0.5762453079223633,\n",
       "   0.2866594195365906,\n",
       "   0.0,\n",
       "   0,\n",
       "   0,\n",
       "   0]},\n",
       " {'x': 450,\n",
       "  'y': 50,\n",
       "  'data': [2.4137449264526367,\n",
       "   4.26742696762085,\n",
       "   8.256250381469727,\n",
       "   1.757920265197754,\n",
       "   4.311331748962402,\n",
       "   7.173861026763916,\n",
       "   7.601322174072266,\n",
       "   8.31042194366455,\n",
       "   10.487438201904297]},\n",
       " {'x': 500,\n",
       "  'y': 0,\n",
       "  'data': [1.0483819246292114,\n",
       "   2.8437912464141846,\n",
       "   3.878774642944336,\n",
       "   2.5762078762054443,\n",
       "   3.436703681945801,\n",
       "   5.351271629333496,\n",
       "   7.595840930938721,\n",
       "   7.7331132888793945,\n",
       "   9.033025741577148]},\n",
       " {'x': 500,\n",
       "  'y': 100,\n",
       "  'data': [1.6384713649749756,\n",
       "   3.2495319843292236,\n",
       "   4.4016642570495605,\n",
       "   1.9049197435379028,\n",
       "   3.5024304389953613,\n",
       "   5.162277698516846,\n",
       "   6.111697673797607,\n",
       "   6.307640075683594,\n",
       "   7.175088405609131]},\n",
       " {'x': 500,\n",
       "  'y': 150,\n",
       "  'data': [1.7671383619308472,\n",
       "   2.7931768894195557,\n",
       "   4.292602062225342,\n",
       "   1.7863023281097412,\n",
       "   2.5761139392852783,\n",
       "   5.827803611755371,\n",
       "   7.243001461029053,\n",
       "   4.082733154296875,\n",
       "   6.653984546661377]},\n",
       " {'x': 500,\n",
       "  'y': 200,\n",
       "  'data': [1.6346113681793213,\n",
       "   1.7541812658309937,\n",
       "   2.9497742652893066,\n",
       "   2.083470106124878,\n",
       "   2.49330735206604,\n",
       "   2.728853702545166,\n",
       "   4.16265344619751,\n",
       "   2.428879499435425,\n",
       "   5.371433258056641]},\n",
       " {'x': 500,\n",
       "  'y': 250,\n",
       "  'data': [1.1378364562988281,\n",
       "   0.550510585308075,\n",
       "   1.932483434677124,\n",
       "   2.065967559814453,\n",
       "   1.3670884370803833,\n",
       "   1.9450361728668213,\n",
       "   2.4171929359436035,\n",
       "   0.9427623748779297,\n",
       "   2.099414110183716]},\n",
       " {'x': 500,\n",
       "  'y': 300,\n",
       "  'data': [0.5868488550186157,\n",
       "   0.7280139327049255,\n",
       "   1.2338533401489258,\n",
       "   1.5747891664505005,\n",
       "   0.9937681555747986,\n",
       "   1.3552314043045044,\n",
       "   1.23470139503479,\n",
       "   0.6733863949775696,\n",
       "   0.773098886013031]},\n",
       " {'x': 500,\n",
       "  'y': 350,\n",
       "  'data': [0.0,\n",
       "   0.0,\n",
       "   0.27384066581726074,\n",
       "   0.12868647277355194,\n",
       "   0.0,\n",
       "   0.31301623582839966,\n",
       "   0.0,\n",
       "   0.1454882025718689,\n",
       "   0.0]},\n",
       " {'x': 500,\n",
       "  'y': 50,\n",
       "  'data': [1.0541248321533203,\n",
       "   2.1017849445343018,\n",
       "   6.162580490112305,\n",
       "   2.0939764976501465,\n",
       "   3.916281223297119,\n",
       "   4.645112037658691,\n",
       "   6.3725128173828125,\n",
       "   7.192118167877197,\n",
       "   9.498773574829102]},\n",
       " {'x': 535,\n",
       "  'y': 400,\n",
       "  'data': [0.22545191645622253,\n",
       "   0.17602284252643585,\n",
       "   0.19978292286396027,\n",
       "   0,\n",
       "   0,\n",
       "   0,\n",
       "   0,\n",
       "   0,\n",
       "   0]},\n",
       " {'x': 550,\n",
       "  'y': 0,\n",
       "  'data': [1.6051676273345947,\n",
       "   1.3635739088058472,\n",
       "   2.740112543106079,\n",
       "   2.480070114135742,\n",
       "   1.8424880504608154,\n",
       "   5.171248912811279,\n",
       "   6.832653522491455,\n",
       "   6.807466983795166,\n",
       "   9.03549575805664]},\n",
       " {'x': 550,\n",
       "  'y': 100,\n",
       "  'data': [1.138798475265503,\n",
       "   1.8663321733474731,\n",
       "   4.1353654861450195,\n",
       "   1.3547489643096924,\n",
       "   2.0062904357910156,\n",
       "   3.245572566986084,\n",
       "   7.143368244171143,\n",
       "   5.7791218757629395,\n",
       "   8.529890060424805]},\n",
       " {'x': 550,\n",
       "  'y': 150,\n",
       "  'data': [0.6675851941108704,\n",
       "   1.4740533828735352,\n",
       "   2.2118537425994873,\n",
       "   1.2231042385101318,\n",
       "   1.7918273210525513,\n",
       "   3.7758736610412598,\n",
       "   5.1735944747924805,\n",
       "   4.0897088050842285,\n",
       "   8.009657859802246]},\n",
       " {'x': 550,\n",
       "  'y': 200,\n",
       "  'data': [1.0922834873199463,\n",
       "   2.172379732131958,\n",
       "   2.64404296875,\n",
       "   0.6630959510803223,\n",
       "   1.5233099460601807,\n",
       "   2.4069371223449707,\n",
       "   5.713647842407227,\n",
       "   4.174245834350586,\n",
       "   6.6882524490356445]},\n",
       " {'x': 550,\n",
       "  'y': 250,\n",
       "  'data': [0.8138378262519836,\n",
       "   1.456568956375122,\n",
       "   2.5300867557525635,\n",
       "   1.5038248300552368,\n",
       "   2.47567081451416,\n",
       "   2.9112982749938965,\n",
       "   2.654553174972534,\n",
       "   3.5237724781036377,\n",
       "   3.769996166229248]},\n",
       " {'x': 550,\n",
       "  'y': 300,\n",
       "  'data': [0.888064980506897,\n",
       "   0.8441473841667175,\n",
       "   1.5144872665405273,\n",
       "   1.0764029026031494,\n",
       "   1.3820723295211792,\n",
       "   1.7429343461990356,\n",
       "   1.655428171157837,\n",
       "   1.537728190422058,\n",
       "   1.6688958406448364]},\n",
       " {'x': 550,\n",
       "  'y': 50,\n",
       "  'data': [1.0683056116104126,\n",
       "   1.174955129623413,\n",
       "   3.0169687271118164,\n",
       "   0.8242007493972778,\n",
       "   2.3878462314605713,\n",
       "   4.5955729484558105,\n",
       "   5.701279163360596,\n",
       "   5.849554538726807,\n",
       "   9.70848274230957]},\n",
       " {'x': 600,\n",
       "  'y': 0,\n",
       "  'data': [0.9166879653930664,\n",
       "   1.3547766208648682,\n",
       "   3.3367974758148193,\n",
       "   0.6810043454170227,\n",
       "   1.4824621677398682,\n",
       "   3.2885661125183105,\n",
       "   3.815574884414673,\n",
       "   4.87034797668457,\n",
       "   8.475055694580078]},\n",
       " {'x': 600,\n",
       "  'y': 100,\n",
       "  'data': [0.6814106702804565,\n",
       "   1.4470677375793457,\n",
       "   2.9363694190979004,\n",
       "   0.6768656969070435,\n",
       "   1.5167672634124756,\n",
       "   2.337104082107544,\n",
       "   4.427631378173828,\n",
       "   3.9328978061676025,\n",
       "   7.259978294372559]},\n",
       " {'x': 600,\n",
       "  'y': 150,\n",
       "  'data': [0.3788589835166931,\n",
       "   1.5592411756515503,\n",
       "   2.9075701236724854,\n",
       "   1.4361814260482788,\n",
       "   1.3841276168823242,\n",
       "   2.4466774463653564,\n",
       "   4.51395845413208,\n",
       "   4.554651737213135,\n",
       "   8.17249584197998]},\n",
       " {'x': 600,\n",
       "  'y': 200,\n",
       "  'data': [0.9905622005462646,\n",
       "   1.2254817485809326,\n",
       "   1.651623010635376,\n",
       "   0.5500098466873169,\n",
       "   1.3341615200042725,\n",
       "   3.2769103050231934,\n",
       "   3.3000149726867676,\n",
       "   3.352365732192993,\n",
       "   7.886580467224121]},\n",
       " {'x': 600,\n",
       "  'y': 250,\n",
       "  'data': [0.8770549893379211,\n",
       "   0.8251029849052429,\n",
       "   2.8354060649871826,\n",
       "   0.9266611337661743,\n",
       "   1.1304011344909668,\n",
       "   2.4932847023010254,\n",
       "   3.4681968688964844,\n",
       "   3.0852973461151123,\n",
       "   5.377373695373535]},\n",
       " {'x': 600,\n",
       "  'y': 300,\n",
       "  'data': [0.7404351830482483,\n",
       "   1.587147831916809,\n",
       "   1.813111424446106,\n",
       "   0.8792221546173096,\n",
       "   0.8127726316452026,\n",
       "   1.7294870615005493,\n",
       "   2.1783900260925293,\n",
       "   1.4841376543045044,\n",
       "   2.806213855743408]},\n",
       " {'x': 600,\n",
       "  'y': 350,\n",
       "  'data': [0.5622005462646484,\n",
       "   0.585929274559021,\n",
       "   1.5505712032318115,\n",
       "   0.8845977783203125,\n",
       "   0.41579669713974,\n",
       "   1.4152796268463135,\n",
       "   1.5033012628555298,\n",
       "   1.4692015647888184,\n",
       "   0.7748070955276489]},\n",
       " {'x': 600,\n",
       "  'y': 400,\n",
       "  'data': [0.19524118304252625,\n",
       "   0.675144612789154,\n",
       "   0.7817798852920532,\n",
       "   0.5254898071289062,\n",
       "   0.11306747794151306,\n",
       "   0.18942634761333466,\n",
       "   0.29216286540031433,\n",
       "   0.7532413005828857,\n",
       "   0.0886993408203125]},\n",
       " {'x': 600,\n",
       "  'y': 50,\n",
       "  'data': [0.6683695316314697,\n",
       "   1.0426729917526245,\n",
       "   2.3273134231567383,\n",
       "   0.7948505878448486,\n",
       "   0.8143284320831299,\n",
       "   2.2571492195129395,\n",
       "   4.138003349304199,\n",
       "   5.290664196014404,\n",
       "   8.810201644897461]},\n",
       " {'x': 650,\n",
       "  'y': 0,\n",
       "  'data': [0.3959283232688904,\n",
       "   0.6592648029327393,\n",
       "   2.5075645446777344,\n",
       "   0.5209251046180725,\n",
       "   0.8009891510009766,\n",
       "   2.3089654445648193,\n",
       "   3.074768304824829,\n",
       "   2.7722837924957275,\n",
       "   7.225555896759033]},\n",
       " {'x': 650,\n",
       "  'y': 100,\n",
       "  'data': [0.7547016739845276,\n",
       "   0.6159268021583557,\n",
       "   2.1109158992767334,\n",
       "   0.7835491895675659,\n",
       "   0.7977869510650635,\n",
       "   2.5341691970825195,\n",
       "   2.894376039505005,\n",
       "   2.380904197692871,\n",
       "   7.016454219818115]},\n",
       " {'x': 650,\n",
       "  'y': 150,\n",
       "  'data': [0.18694360554218292,\n",
       "   0.6107558608055115,\n",
       "   1.6947057247161865,\n",
       "   0.5017707943916321,\n",
       "   0.7752683162689209,\n",
       "   2.668391227722168,\n",
       "   3.0869805812835693,\n",
       "   4.2130913734436035,\n",
       "   5.994267463684082]},\n",
       " {'x': 650,\n",
       "  'y': 200,\n",
       "  'data': [0.49742794036865234,\n",
       "   0.5610262155532837,\n",
       "   1.771775722503662,\n",
       "   0.5585708618164062,\n",
       "   1.6519255638122559,\n",
       "   2.530991554260254,\n",
       "   3.253994941711426,\n",
       "   2.9308981895446777,\n",
       "   4.947713375091553]},\n",
       " {'x': 650,\n",
       "  'y': 250,\n",
       "  'data': [0.509392499923706,\n",
       "   0.925710141658783,\n",
       "   1.6369595527648926,\n",
       "   0.9511435031890869,\n",
       "   0.9406927824020386,\n",
       "   1.828301191329956,\n",
       "   3.225299835205078,\n",
       "   2.2579352855682373,\n",
       "   3.8866124153137207]},\n",
       " {'x': 650,\n",
       "  'y': 300,\n",
       "  'data': [0.5636202096939087,\n",
       "   0.6649370193481445,\n",
       "   1.1270718574523926,\n",
       "   0.7002306580543518,\n",
       "   0.7887677550315857,\n",
       "   1.475804328918457,\n",
       "   2.134805202484131,\n",
       "   1.5971366167068481,\n",
       "   3.1747806072235107]},\n",
       " {'x': 650,\n",
       "  'y': 50,\n",
       "  'data': [0.7621821761131287,\n",
       "   0.7745692133903503,\n",
       "   1.5646977424621582,\n",
       "   0.686343789100647,\n",
       "   0.582689106464386,\n",
       "   2.7828173637390137,\n",
       "   3.966822385787964,\n",
       "   3.4284651279449463,\n",
       "   7.104917526245117]},\n",
       " {'x': 700,\n",
       "  'y': 0,\n",
       "  'data': [0.2234613299369812,\n",
       "   0.36486726999282837,\n",
       "   1.3894634246826172,\n",
       "   0.4076625406742096,\n",
       "   0.8704766035079956,\n",
       "   1.9087257385253906,\n",
       "   2.304701566696167,\n",
       "   3.0399363040924072,\n",
       "   7.141400337219238]},\n",
       " {'x': 700,\n",
       "  'y': 100,\n",
       "  'data': [0.17859968543052673,\n",
       "   0.46025723218917847,\n",
       "   1.3860406875610352,\n",
       "   0.3186658024787903,\n",
       "   0.5984682440757751,\n",
       "   1.4406800270080566,\n",
       "   2.4342844486236572,\n",
       "   2.877487897872925,\n",
       "   6.2093610763549805]},\n",
       " {'x': 700,\n",
       "  'y': 150,\n",
       "  'data': [0.0730714425444603,\n",
       "   0.2888951003551483,\n",
       "   1.5948245525360107,\n",
       "   0.31135478615760803,\n",
       "   0.5857024788856506,\n",
       "   1.367462158203125,\n",
       "   2.0589656829833984,\n",
       "   2.3065507411956787,\n",
       "   5.583093643188477]},\n",
       " {'x': 700,\n",
       "  'y': 200,\n",
       "  'data': [0.2607129216194153,\n",
       "   0.5335171818733215,\n",
       "   0.9718778729438782,\n",
       "   0.2835030257701874,\n",
       "   0.45763278007507324,\n",
       "   1.6339433193206787,\n",
       "   2.0677714347839355,\n",
       "   2.1819491386413574,\n",
       "   6.143503189086914]},\n",
       " {'x': 700,\n",
       "  'y': 250,\n",
       "  'data': [0.28185635805130005,\n",
       "   0.4286165237426758,\n",
       "   1.2998430728912354,\n",
       "   0.41686776280403137,\n",
       "   0.9417715668678284,\n",
       "   1.7613275051116943,\n",
       "   2.617233991622925,\n",
       "   2.744953155517578,\n",
       "   5.127957344055176]},\n",
       " {'x': 700,\n",
       "  'y': 300,\n",
       "  'data': [0.10616782307624817,\n",
       "   0.7229262590408325,\n",
       "   0.917325496673584,\n",
       "   0.44094744324684143,\n",
       "   0.6701278686523438,\n",
       "   1.430389404296875,\n",
       "   2.2880845069885254,\n",
       "   2.017878293991089,\n",
       "   3.116844892501831]},\n",
       " {'x': 700,\n",
       "  'y': 350,\n",
       "  'data': [0.38729655742645264,\n",
       "   0.4300430119037628,\n",
       "   0.8609405755996704,\n",
       "   0.46542054414749146,\n",
       "   0.7424153089523315,\n",
       "   1.0321362018585205,\n",
       "   1.901711106300354,\n",
       "   1.8526721000671387,\n",
       "   2.5426483154296875]},\n",
       " {'x': 700,\n",
       "  'y': 400,\n",
       "  'data': [0.38782447576522827,\n",
       "   0.48717930912971497,\n",
       "   1.0078028440475464,\n",
       "   0.2175603061914444,\n",
       "   0.6507860422134399,\n",
       "   0.8941792249679565,\n",
       "   1.999281644821167,\n",
       "   1.1536237001419067,\n",
       "   1.1003596782684326]},\n",
       " {'x': 700,\n",
       "  'y': 50,\n",
       "  'data': [0.13394615054130554,\n",
       "   0.1255682408809662,\n",
       "   1.9390745162963867,\n",
       "   0.29635870456695557,\n",
       "   0.8114227652549744,\n",
       "   1.6219550371170044,\n",
       "   2.748154401779175,\n",
       "   3.014843463897705,\n",
       "   6.813625812530518]},\n",
       " {'x': 750,\n",
       "  'y': 100,\n",
       "  'data': [0.05069667845964432,\n",
       "   0.42598170042037964,\n",
       "   0.9947623014450073,\n",
       "   0.2541998326778412,\n",
       "   0.639975905418396,\n",
       "   1.1361480951309204,\n",
       "   1.8876292705535889,\n",
       "   2.190779685974121,\n",
       "   6.010156631469727]},\n",
       " {'x': 750,\n",
       "  'y': 150,\n",
       "  'data': [0.19745932519435883,\n",
       "   0.23146533966064453,\n",
       "   1.2436680793762207,\n",
       "   0.35158270597457886,\n",
       "   0.4240945875644684,\n",
       "   1.274487853050232,\n",
       "   1.6150206327438354,\n",
       "   1.7340595722198486,\n",
       "   4.978872776031494]},\n",
       " {'x': 750,\n",
       "  'y': 200,\n",
       "  'data': [0.3295029103755951,\n",
       "   0.45680439472198486,\n",
       "   0.6414095163345337,\n",
       "   0.2787262499332428,\n",
       "   0.5116668939590454,\n",
       "   1.1029202938079834,\n",
       "   1.6659878492355347,\n",
       "   1.9016706943511963,\n",
       "   3.959778070449829]},\n",
       " {'x': 750,\n",
       "  'y': 250,\n",
       "  'data': [0.1294914186000824,\n",
       "   0.4026179015636444,\n",
       "   1.060865044593811,\n",
       "   0.26526376605033875,\n",
       "   0.352355033159256,\n",
       "   0.8628084063529968,\n",
       "   1.7667032480239868,\n",
       "   1.8587459325790405,\n",
       "   3.600287437438965]},\n",
       " {'x': 750,\n",
       "  'y': 300,\n",
       "  'data': [0.20134395360946655,\n",
       "   0.32570984959602356,\n",
       "   0.9684891700744629,\n",
       "   0.20056971907615662,\n",
       "   0.537544310092926,\n",
       "   1.2745001316070557,\n",
       "   1.6801857948303223,\n",
       "   1.4211390018463135,\n",
       "   3.88324236869812]},\n",
       " {'x': 750,\n",
       "  'y': 50,\n",
       "  'data': [0.05461657792329788,\n",
       "   0.40972039103507996,\n",
       "   1.2162256240844727,\n",
       "   0.23164325952529907,\n",
       "   0.3781626224517822,\n",
       "   1.4073734283447266,\n",
       "   1.646136999130249,\n",
       "   2.2223052978515625,\n",
       "   5.527924060821533]},\n",
       " {'x': 800,\n",
       "  'y': 0,\n",
       "  'data': [0.11420359462499619,\n",
       "   0.24539731442928314,\n",
       "   0.8323934078216553,\n",
       "   0.21493284404277802,\n",
       "   0.32070350646972656,\n",
       "   0.9931645393371582,\n",
       "   1.263372778892517,\n",
       "   1.4799396991729736,\n",
       "   4.315868377685547]},\n",
       " {'x': 800,\n",
       "  'y': 100,\n",
       "  'data': [0.083185113966465,\n",
       "   0.19080211222171783,\n",
       "   0.7560533285140991,\n",
       "   0.13456782698631287,\n",
       "   0.2706221044063568,\n",
       "   0.821047842502594,\n",
       "   1.2760969400405884,\n",
       "   1.6878527402877808,\n",
       "   4.010800361633301]},\n",
       " {'x': 800,\n",
       "  'y': 150,\n",
       "  'data': [0.12237842381000519,\n",
       "   0.22266347706317902,\n",
       "   0.7016886472702026,\n",
       "   0.2045290321111679,\n",
       "   0.294479638338089,\n",
       "   0.863547146320343,\n",
       "   1.5692929029464722,\n",
       "   1.7025882005691528,\n",
       "   4.280345916748047]},\n",
       " {'x': 800,\n",
       "  'y': 200,\n",
       "  'data': [0.09558079391717911,\n",
       "   0.2516108453273773,\n",
       "   0.6300482749938965,\n",
       "   0.12618958950042725,\n",
       "   0.40785056352615356,\n",
       "   0.9765715003013611,\n",
       "   1.228517770767212,\n",
       "   1.4222081899642944,\n",
       "   4.144093036651611]},\n",
       " {'x': 800,\n",
       "  'y': 250,\n",
       "  'data': [0.10398921370506287,\n",
       "   0.3582906126976013,\n",
       "   0.7948465943336487,\n",
       "   0.3285011351108551,\n",
       "   0.46866732835769653,\n",
       "   0.8491591811180115,\n",
       "   1.0273922681808472,\n",
       "   1.4249719381332397,\n",
       "   3.413072347640991]},\n",
       " {'x': 800,\n",
       "  'y': 300,\n",
       "  'data': [0.18846608698368073,\n",
       "   0.31801795959472656,\n",
       "   0.6040544509887695,\n",
       "   0.23483328521251678,\n",
       "   0.28699082136154175,\n",
       "   0.66542649269104,\n",
       "   1.2549810409545898,\n",
       "   1.5498785972595215,\n",
       "   3.387672185897827]},\n",
       " {'x': 800,\n",
       "  'y': 350,\n",
       "  'data': [0.16774940490722656,\n",
       "   0.24702110886573792,\n",
       "   0.7867484092712402,\n",
       "   0.2340310513973236,\n",
       "   0.2804133892059326,\n",
       "   0.5483367443084717,\n",
       "   1.3864428997039795,\n",
       "   1.4585236310958862,\n",
       "   2.423434257507324]},\n",
       " {'x': 800,\n",
       "  'y': 400,\n",
       "  'data': [0.08415144681930542,\n",
       "   0.3682903051376343,\n",
       "   0.6929340958595276,\n",
       "   0.18645678460597992,\n",
       "   0.22647789120674133,\n",
       "   0.5907974243164062,\n",
       "   0.8936541676521301,\n",
       "   0.9783688187599182,\n",
       "   2.181022882461548]},\n",
       " {'x': 800,\n",
       "  'y': 50,\n",
       "  'data': [0.07155939936637878,\n",
       "   0.1613277792930603,\n",
       "   0.6787107586860657,\n",
       "   0.22016160190105438,\n",
       "   0.3655240833759308,\n",
       "   1.0288794040679932,\n",
       "   1.1755925416946411,\n",
       "   1.4492985010147095,\n",
       "   4.2010393142700195]},\n",
       " {'x': 900,\n",
       "  'y': 0,\n",
       "  'data': [0.0384533628821373,\n",
       "   0.07839187234640121,\n",
       "   0.35485631227493286,\n",
       "   0.07579398900270462,\n",
       "   0.1450062245130539,\n",
       "   0.5110840201377869,\n",
       "   0.5922831296920776,\n",
       "   0.7652935981750488,\n",
       "   2.926398277282715]},\n",
       " {'x': 900,\n",
       "  'y': 100,\n",
       "  'data': [0.026995480060577393,\n",
       "   0.0641869306564331,\n",
       "   0.41131067276000977,\n",
       "   0.03604454547166824,\n",
       "   0.11290032416582108,\n",
       "   0.39245614409446716,\n",
       "   0.4969058632850647,\n",
       "   0.8979084491729736,\n",
       "   2.504612445831299]},\n",
       " {'x': 900,\n",
       "  'y': 150,\n",
       "  'data': [0.06484293192625046,\n",
       "   0.06641684472560883,\n",
       "   0.24065694212913513,\n",
       "   0.10737491399049759,\n",
       "   0.16177843511104584,\n",
       "   0.4201839566230774,\n",
       "   0.7056164741516113,\n",
       "   0.7396864295005798,\n",
       "   3.1944921016693115]},\n",
       " {'x': 900,\n",
       "  'y': 200,\n",
       "  'data': [0.051136139780282974,\n",
       "   0.09986212104558945,\n",
       "   0.4374069571495056,\n",
       "   0.04675474762916565,\n",
       "   0.16176678240299225,\n",
       "   0.4845259189605713,\n",
       "   0.7484729290008545,\n",
       "   0.8715015649795532,\n",
       "   2.712819814682007]},\n",
       " {'x': 900,\n",
       "  'y': 250,\n",
       "  'data': [0.08391174674034119,\n",
       "   0.08355642855167389,\n",
       "   0.3619357943534851,\n",
       "   0.10496710240840912,\n",
       "   0.14739187061786652,\n",
       "   0.5107338428497314,\n",
       "   0.600869357585907,\n",
       "   0.7682759761810303,\n",
       "   2.3925929069519043]},\n",
       " {'x': 900,\n",
       "  'y': 300,\n",
       "  'data': [0.08568409830331802,\n",
       "   0.14316341280937195,\n",
       "   0.35040342807769775,\n",
       "   0.17189107835292816,\n",
       "   0.17286184430122375,\n",
       "   0.40535974502563477,\n",
       "   0.7350624203681946,\n",
       "   0.7607142329216003,\n",
       "   2.2106130123138428]},\n",
       " {'x': 900,\n",
       "  'y': 350,\n",
       "  'data': [0.05178450420498848,\n",
       "   0.13044634461402893,\n",
       "   0.41047152876853943,\n",
       "   0.08413498103618622,\n",
       "   0.13491223752498627,\n",
       "   0.47983449697494507,\n",
       "   0.6297576427459717,\n",
       "   0.9011379480361938,\n",
       "   2.1060712337493896]},\n",
       " {'x': 900,\n",
       "  'y': 400,\n",
       "  'data': [0.008991438895463943,\n",
       "   0.08598708361387253,\n",
       "   0.4569578170776367,\n",
       "   0.09791670739650726,\n",
       "   0.05203867703676224,\n",
       "   0.4209394156932831,\n",
       "   0.5856446027755737,\n",
       "   0.7048072218894958,\n",
       "   1.796125888824463]},\n",
       " {'x': 900,\n",
       "  'y': 50,\n",
       "  'data': [0.04235389083623886,\n",
       "   0.07320418208837509,\n",
       "   0.40125346183776855,\n",
       "   0.018741553649306297,\n",
       "   0.09358321130275726,\n",
       "   0.6034314036369324,\n",
       "   0.5198875069618225,\n",
       "   0.7726355195045471,\n",
       "   2.80165958404541]}]"
      ]
     },
     "execution_count": 34,
     "metadata": {},
     "output_type": "execute_result"
    }
   ],
   "source": [
    "signals_9bins"
   ]
  },
  {
   "cell_type": "markdown",
   "id": "fdd6ea32",
   "metadata": {},
   "source": [
    "<div class=\"alert alert-block alert-success\">\n",
    "    <b>Question 6:</b> \n",
    "    Can you visualize few of the models?\n",
    "</div>\n"
   ]
  },
  {
   "cell_type": "markdown",
   "id": "f418bad5",
   "metadata": {},
   "source": [
    "Let's plot a few random signal models against the background expectation for all 9 bins:"
   ]
  },
  {
   "cell_type": "code",
   "execution_count": 35,
   "id": "3d96799c",
   "metadata": {},
   "outputs": [
    {
     "data": {
      "text/plain": [
       "<matplotlib.legend.Legend at 0x7f00d2327610>"
      ]
     },
     "execution_count": 35,
     "metadata": {},
     "output_type": "execute_result"
    },
    {
     "data": {
      "image/png": "[encoded data removed]",
      "text/plain": [
       "<Figure size 640x480 with 1 Axes>"
      ]
     },
     "metadata": {},
     "output_type": "display_data"
    }
   ],
   "source": [
    "hep.histplot(b_9bins, label=\"background\", color=\"black\")\n",
    "for i in np.random.permutation(len(signals_9bins))[:3]:\n",
    "    signal = signals_9bins[i]\n",
    "    hep.histplot(signal[\"data\"], label=f\"i={i} x={signal['x']} y={signal['y']}\", linestyle=\"--\")\n",
    "plt.legend()"
   ]
  },
  {
   "cell_type": "markdown",
   "id": "c19761fa",
   "metadata": {},
   "source": [
    "So by running the previous cell a few times you can see the distribution of the different signals is quite different, which makes a multi-bin search very powerful!\n",
    "\n",
    "A little background information: Originally those 9 bins originated from 3 different, statistically independent signal regions. The first 3 bins are optimized for signals with low masses, the next 3 bins for signals with medium masses and the last 3 bins for signals with high masses. Here we don't care about the x-axis though, since we just want to do a statistical analysis.\n",
    "\n",
    "So let's start with a 1D scan of all points with a neutralino mass (`y`) of 150 GeV:"
   ]
  },
  {
   "cell_type": "code",
   "execution_count": 36,
   "id": "a88481c7",
   "metadata": {},
   "outputs": [],
   "source": [
    "# filter out all signals with y=150 and sort by x\n",
    "signals_150 = sorted([i for i in signals_9bins if i[\"y\"] == 150], key=lambda k: k[\"x\"])"
   ]
  },
  {
   "cell_type": "markdown",
   "id": "12a5dbae",
   "metadata": {},
   "source": [
    "We will run an upper limit scan on the signal strength for each of these signal points (so in some sense we are actually doing already a 2D scan)\n",
    "\n",
    "We will again use the `pyhf.simplemodels.uncorrelated_background` function and completely neglect any uncertainties:"
   ]
  },
  {
   "cell_type": "code",
   "execution_count": 37,
   "id": "bf27006d",
   "metadata": {},
   "outputs": [],
   "source": [
    "limits = []\n",
    "for signal in signals_150:\n",
    "    model_s = pyhf.simplemodels.uncorrelated_background(\n",
    "      signal=list(signal[\"data\"]), bkg=list(b_9bins), bkg_uncertainty=[0] * 9\n",
    "    )\n",
    "    limit_obs, limit_exp = pyhf.infer.intervals.upper_limits.upper_limit(\n",
    "        list(b_9bins) + model_s.config.auxdata,\n",
    "        model_s,\n",
    "    )\n",
    "    # for now, we are just looking at the expected limit, since we didn't input any real data \n",
    "    limits.append(limit_exp)\n",
    "limits = np.array(limits)"
   ]
  },
  {
   "cell_type": "code",
   "execution_count": 38,
   "id": "1e337758",
   "metadata": {},
   "outputs": [
    {
     "data": {
      "text/plain": [
       "<matplotlib.legend.Legend at 0x7f00d223e970>"
      ]
     },
     "execution_count": 38,
     "metadata": {},
     "output_type": "execute_result"
    },
    {
     "data": {
      "image/png": "[encoded data removed]",
      "text/plain": [
       "<Figure size 640x480 with 1 Axes>"
      ]
     },
     "metadata": {},
     "output_type": "display_data"
    }
   ],
   "source": [
    "ax = plot_scan([i[\"x\"] for i in signals_150], limits, exclusion_level=1)\n",
    "ax.set_xlabel(r\"$\\tilde{\\chi}_1^{\\pm}/\\tilde{\\chi}_2^{0}$ mass [GeV]\")\n",
    "ax.set_ylabel(\"Upper limit on Signal strength\")\n",
    "ax.legend()"
   ]
  },
  {
   "cell_type": "markdown",
   "id": "c4c2fb43",
   "metadata": {},
   "source": [
    "So the point at 300 GeV is at the boundary of exclusion and then the expected exclusion reaches up to around 850 GeV for these signals."
   ]
  },
  {
   "cell_type": "markdown",
   "id": "be4c7091",
   "metadata": {},
   "source": [
    "## Let's go 2D\n",
    "\n",
    "As you have seen this example has 2 parameters, so we can run a 2D scan against both parameters. For this we don't do an upper limit scan for each point, but just calculate $CL_s$ for $\\mu=1$ and look at the contour of $CL_s=0.05$ in the grid of the 2 parameters."
   ]
  },
  {
   "cell_type": "code",
   "execution_count": 39,
   "id": "22016ff0",
   "metadata": {},
   "outputs": [],
   "source": [
    "x = []\n",
    "y = []\n",
    "cls = []\n",
    "for signal in signals_9bins:\n",
    "    model_s = pyhf.simplemodels.uncorrelated_background(\n",
    "      signal=list(signal[\"data\"]), bkg=list(b_9bins), bkg_uncertainty=[0] * 9\n",
    "    )\n",
    "    cls_obs, cls_exp = pyhf.infer.hypotest(\n",
    "        1,\n",
    "        list(b_9bins) + model_s.config.auxdata,\n",
    "        model_s,\n",
    "        test_stat=\"qtilde\",\n",
    "        return_expected_set=True\n",
    "    )\n",
    "    x.append(signal[\"x\"])\n",
    "    y.append(signal[\"y\"])\n",
    "    cls.append(cls_exp)\n",
    "x = np.array(x)\n",
    "y = np.array(y)\n",
    "cls = np.array(cls)"
   ]
  },
  {
   "cell_type": "markdown",
   "id": "9fc256c4",
   "metadata": {},
   "source": [
    "For better interpolation, we convert the $CL_s$ values to significances since they change much more linearily and are therefore easier to interpolate between:"
   ]
  },
  {
   "cell_type": "code",
   "execution_count": 40,
   "id": "1370d8d4",
   "metadata": {},
   "outputs": [],
   "source": [
    "z = pvalue_to_significance(cls)"
   ]
  },
  {
   "cell_type": "code",
   "execution_count": 41,
   "id": "3d342cdf",
   "metadata": {},
   "outputs": [
    {
     "data": {
      "text/plain": [
       "Text(0.5, 1.0, 'Sorted Significance values')"
      ]
     },
     "execution_count": 41,
     "metadata": {},
     "output_type": "execute_result"
    },
    {
     "data": {
      "image/png": "[encoded data removed]",
      "text/plain": [
       "<Figure size 1200x300 with 2 Axes>"
      ]
     },
     "metadata": {},
     "output_type": "display_data"
    }
   ],
   "source": [
    "fig, ax = plt.subplots(ncols=2, figsize=(12, 3))\n",
    "ax[0].plot(sorted(cls[:, 2]))\n",
    "ax[0].set_title(\"Sorted CLs values\")\n",
    "ax[1].plot(sorted(z[:, 2]))\n",
    "ax[1].set_title(\"Sorted Significance values\")"
   ]
  },
  {
   "cell_type": "markdown",
   "id": "21b3ea17",
   "metadata": {},
   "source": [
    "The significance level corresponding to a p-value of `0.05` is"
   ]
  },
  {
   "cell_type": "code",
   "execution_count": 42,
   "id": "26c38a64",
   "metadata": {},
   "outputs": [
    {
     "data": {
      "text/plain": [
       "1.6448536269514729"
      ]
     },
     "execution_count": 42,
     "metadata": {},
     "output_type": "execute_result"
    }
   ],
   "source": [
    "level = pvalue_to_significance(0.05)\n",
    "level"
   ]
  },
  {
   "cell_type": "markdown",
   "id": "6ef6149c",
   "metadata": {},
   "source": [
    "You'll have the number `1.64` in your head after some time working for new physics searches :)\n",
    "\n",
    "So, let's draw the contour in the 2D grid of our signal mass parameters. For such grids we don't overdo it and leave out the 2 sigma band. We use the `tricontour` functions of `matplotlib` to do a triangulation of our points in 3D (`x`, `y`, `z`) space and draw contours along that interpolated hill.\n",
    "\n",
    "Reminder: the columns of expected $CL_s$ values are for `[-2, -1, 0, 1, 2]` sigma."
   ]
  },
  {
   "cell_type": "code",
   "execution_count": 43,
   "id": "c2c72c94",
   "metadata": {},
   "outputs": [
    {
     "data": {
      "text/plain": [
       "Text(0, 0.5, '$\\\\tilde{\\\\chi}_1^{0}$ mass [GeV]')"
      ]
     },
     "execution_count": 43,
     "metadata": {},
     "output_type": "execute_result"
    },
    {
     "data": {
      "image/png": "[encoded data removed]",
      "text/plain": [
       "<Figure size 640x480 with 2 Axes>"
      ]
     },
     "metadata": {},
     "output_type": "display_data"
    }
   ],
   "source": [
    "opt = dict(levels=[level], colors=[\"black\"])\n",
    "plt.tricontour(x, y, z[:, 2], linestyles=\"dashed\", **opt)\n",
    "plt.tricontour(x, y, z[:, 1], linestyles=\"dotted\", **opt)\n",
    "plt.tricontour(x, y, z[:, 3], linestyles=\"dotted\", **opt)\n",
    "plt.tricontourf(x, y, z[:, 2], levels=100, cmap=\"Spectral_r\")\n",
    "plt.scatter(x, y, c=z[:, 2], marker='o', edgecolor=\"black\", cmap=\"Spectral_r\")\n",
    "plt.colorbar(label=\"Significance of CLs\")\n",
    "plt.xlabel(r\"$\\tilde{\\chi}_1^{\\pm}/\\tilde{\\chi}_2^{0}$ mass [GeV]\")\n",
    "plt.ylabel(r\"$\\tilde{\\chi}_1^{0}$ mass [GeV]\")"
   ]
  },
  {
   "cell_type": "markdown",
   "id": "fd7358f2",
   "metadata": {},
   "source": [
    "<div class=\"alert alert-block alert-success\">\n",
    "    <b>Question 7:</b> Which values of the signal parameters are expected to be excluded?\n",
    "</div>"
   ]
  },
  {
   "cell_type": "code",
   "execution_count": 44,
   "id": "7645db9e",
   "metadata": {},
   "outputs": [
    {
     "name": "stdout",
     "output_type": "stream",
     "text": [
      "Excluded points (x, y):\n",
      "[[150   0]\n",
      " [165  35]\n",
      " [175   0]\n",
      " [175  25]\n",
      " [190  60]\n",
      " [200   0]\n",
      " [200  25]\n",
      " [200  50]\n",
      " [225   0]\n",
      " [225  25]\n",
      " [225  50]\n",
      " [250   0]\n",
      " [250 100]\n",
      " [250  25]\n",
      " [250  50]\n",
      " [250  75]\n",
      " [275   0]\n",
      " [275  25]\n",
      " [275  50]\n",
      " [275  75]\n",
      " [300   0]\n",
      " [300  25]\n",
      " [300  50]\n",
      " [300  75]\n",
      " [325   0]\n",
      " [325  50]\n",
      " [350   0]\n",
      " [350 100]\n",
      " [350 150]\n",
      " [350  25]\n",
      " [350  50]\n",
      " [350  75]\n",
      " [375   0]\n",
      " [375  50]\n",
      " [400   0]\n",
      " [400 100]\n",
      " [400 150]\n",
      " [400 200]\n",
      " [400  25]\n",
      " [400  50]\n",
      " [425   0]\n",
      " [450   0]\n",
      " [450 100]\n",
      " [450 150]\n",
      " [450 200]\n",
      " [450  50]\n",
      " [500   0]\n",
      " [500 100]\n",
      " [500 150]\n",
      " [500 200]\n",
      " [500 250]\n",
      " [500  50]\n",
      " [550   0]\n",
      " [550 100]\n",
      " [550 150]\n",
      " [550 200]\n",
      " [550 250]\n",
      " [550 300]\n",
      " [550  50]\n",
      " [600   0]\n",
      " [600 100]\n",
      " [600 150]\n",
      " [600 200]\n",
      " [600 250]\n",
      " [600 300]\n",
      " [600  50]\n",
      " [650   0]\n",
      " [650 100]\n",
      " [650 150]\n",
      " [650 200]\n",
      " [650 250]\n",
      " [650 300]\n",
      " [650  50]\n",
      " [700   0]\n",
      " [700 100]\n",
      " [700 150]\n",
      " [700 200]\n",
      " [700 250]\n",
      " [700 300]\n",
      " [700  50]\n",
      " [750 100]\n",
      " [750 150]\n",
      " [750 200]\n",
      " [750 250]\n",
      " [750 300]\n",
      " [750  50]\n",
      " [800   0]\n",
      " [800 100]\n",
      " [800 150]\n",
      " [800 200]\n",
      " [800 250]\n",
      " [800 300]\n",
      " [800  50]]\n"
     ]
    }
   ],
   "source": [
    "# Identify excluded points where significance is greater than the exclusion threshold\n",
    "excluded_points = (z[:, 2] > 1.64)\n",
    "\n",
    "# Print excluded (x, y) points\n",
    "print(\"Excluded points (x, y):\")\n",
    "print(np.column_stack((x[excluded_points], y[excluded_points])))"
   ]
  },
  {
   "cell_type": "markdown",
   "id": "161efd20",
   "metadata": {},
   "source": [
    "<div class=\"alert alert-block alert-success\">\n",
    "    <b>Bonus question 2:</b> How far would the expected limit go if we had twice the luminosity? \n",
    "</div>"
   ]
  },
  {
   "cell_type": "code",
   "execution_count": null,
   "id": "ba5d5df7",
   "metadata": {},
   "outputs": [],
   "source": []
  }
 ],
 "metadata": {
  "kernelspec": {
   "display_name": "Python 3 (Belle2)",
   "language": "python",
   "name": "python3"
  },
  "language_info": {
   "codemirror_mode": {
    "name": "ipython",
    "version": 3
   },
   "file_extension": ".py",
   "mimetype": "text/x-python",
   "name": "python",
   "nbconvert_exporter": "python",
   "pygments_lexer": "ipython3",
   "version": "3.8.8"
  },
  "toc": {
   "base_numbering": 1,
   "nav_menu": {},
   "number_sections": true,
   "sideBar": true,
   "skip_h1_title": false,
   "title_cell": "Table of Contents",
   "title_sidebar": "Contents",
   "toc_cell": false,
   "toc_position": {},
   "toc_section_display": true,
   "toc_window_display": false
  }
 },
 "nbformat": 4,
 "nbformat_minor": 5
}
