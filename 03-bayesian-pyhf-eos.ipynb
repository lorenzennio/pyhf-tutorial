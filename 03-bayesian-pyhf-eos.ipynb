{
 "cells": [
  {
   "cell_type": "code",
   "execution_count": null,
   "metadata": {},
   "outputs": [],
   "source": [
    "# ! pip install --upgrade pip\n",
    "# ! pip install --user numpy scipy matplotlib pyhf iminuit\n",
    "# ! pip install --user --pre eoshep\n",
    "\n",
    "# Or follow installation instructions https://eos.github.io/doc/installation.html"
   ]
  },
  {
   "cell_type": "code",
   "execution_count": 1,
   "metadata": {},
   "outputs": [],
   "source": [
    "import numpy as np\n",
    "import pyhf\n",
    "import eos"
   ]
  },
  {
   "cell_type": "code",
   "execution_count": null,
   "metadata": {},
   "outputs": [],
   "source": [
    "model = pyhf.simplemodels.correlated_background(\n",
    "            signal=[50, 100], bkg=[500, 600], bkg_down=[490, 580], bkg_up=[510, 620]\n",
    "        )\n",
    "\n",
    "data = [600, 800]"
   ]
  },
  {
   "cell_type": "code",
   "execution_count": null,
   "metadata": {},
   "outputs": [],
   "source": [
    "pyhf.set_backend(\"jax\", pyhf.optimize.minuit_optimizer())\n",
    "best_fit = pyhf.infer.mle.fit(data+model.config.auxdata, model, return_uncertainties=True)\n",
    "best_fit"
   ]
  },
  {
   "cell_type": "code",
   "execution_count": null,
   "metadata": {},
   "outputs": [],
   "source": [
    "import yaml\n",
    "\n",
    "eos_analysis = {\n",
    "    'likelihoods': [{\n",
    "        'name': 'EXP-pyhf',\n",
    "        'pyhf': {'file': 'workspace.json'}\n",
    "    }],\n",
    "    'priors': [{\n",
    "        'name': 'MU',\n",
    "        'descriptions': [{ 'parameter': 'pyhf::mu', 'central':  1., 'sigma': 5., 'type': 'gaussian' }]\n",
    "        # 'descriptions': [{ 'parameter': 'pyhf::mu', 'min':  1., 'max': 3., 'type': 'uniform' }]\n",
    "    }],\n",
    "    'posteriors': [{\n",
    "        'name': 'EXP-pyhf',\n",
    "        'prior': ['MU'],\n",
    "        'likelihood': ['EXP-pyhf']\n",
    "    }]\n",
    "}\n",
    "\n",
    "with open('eos_analysis.yaml', 'w') as f:\n",
    "    yaml.dump(eos_analysis, f)"
   ]
  },
  {
   "cell_type": "code",
   "execution_count": null,
   "metadata": {},
   "outputs": [],
   "source": [
    "af = eos.AnalysisFile(\"eos_analysis.yaml\")\n",
    "af"
   ]
  },
  {
   "cell_type": "code",
   "execution_count": null,
   "metadata": {},
   "outputs": [],
   "source": [
    "eos.tasks.find_mode(af, 'EXP-pyhf', base_directory='./')"
   ]
  },
  {
   "cell_type": "code",
   "execution_count": null,
   "metadata": {},
   "outputs": [],
   "source": [
    "mode = eos.data.Mode('./EXP-pyhf/mode-default')\n",
    "mode.mode"
   ]
  },
  {
   "cell_type": "code",
   "execution_count": null,
   "metadata": {},
   "outputs": [],
   "source": [
    "eos.tasks.sample_nested(af, 'EXP-pyhf', base_directory='./', nlive=100, maxiter=3000, dlogz=9.0)"
   ]
  },
  {
   "cell_type": "code",
   "execution_count": null,
   "metadata": {},
   "outputs": [],
   "source": [
    "eos.tasks.corner_plot(af, 'EXP-pyhf')"
   ]
  },
  {
   "cell_type": "code",
   "execution_count": null,
   "metadata": {},
   "outputs": [],
   "source": [
    "parameter_samples = eos.data.ImportanceSamples('./EXP-pyhf/samples')\n",
    "\n",
    "mean = np.average(parameter_samples.samples[:,0], weights = parameter_samples.weights)\n",
    "std = np.sqrt(np.average((parameter_samples.samples[:,0]-mean)**2, weights = parameter_samples.weights))\n",
    "\n",
    "print(f'mu = {mean:.4f} +/- {std:.4f}')"
   ]
  },
  {
   "cell_type": "code",
   "execution_count": null,
   "metadata": {},
   "outputs": [],
   "source": []
  }
 ],
 "metadata": {
  "kernelspec": {
   "display_name": ".pyhf",
   "language": "python",
   "name": "python3"
  },
  "language_info": {
   "codemirror_mode": {
    "name": "ipython",
    "version": 3
   },
   "file_extension": ".py",
   "mimetype": "text/x-python",
   "name": "python",
   "nbconvert_exporter": "python",
   "pygments_lexer": "ipython3",
   "version": "3.10.12"
  }
 },
 "nbformat": 4,
 "nbformat_minor": 4
}
