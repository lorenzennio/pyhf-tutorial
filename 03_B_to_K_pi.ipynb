{
 "cells": [
  {
   "cell_type": "code",
   "execution_count": 187,
   "metadata": {},
   "outputs": [],
   "source": [
    "# ! pip install --upgrade pip\n",
    "# ! pip install --upgrade numpy scipy matplotlib pyhf cabinetry uproot pandas"
   ]
  },
  {
   "cell_type": "code",
   "execution_count": 188,
   "metadata": {},
   "outputs": [
    {
     "data": {
      "text/plain": [
       "'0.5.2'"
      ]
     },
     "execution_count": 188,
     "metadata": {},
     "output_type": "execute_result"
    }
   ],
   "source": [
    "import uproot\n",
    "import matplotlib.pyplot as plt\n",
    "import numpy as np\n",
    "import cabinetry\n",
    "import pyhf\n",
    "import json\n",
    "from pathlib import Path\n",
    "\n",
    "cabinetry.__version__"
   ]
  },
  {
   "attachments": {},
   "cell_type": "markdown",
   "metadata": {},
   "source": [
    "# Building the model\n",
    "\n",
    "`Cabinetry` has the nice feature that it can crate `pyhf` models from `root` files. "
   ]
  },
  {
   "attachments": {},
   "cell_type": "markdown",
   "metadata": {},
   "source": [
    "First we need to chose our fitting variable and the binning. Here we chose to fit in 50 bins of $\\Delta E$."
   ]
  },
  {
   "cell_type": "code",
   "execution_count": 189,
   "metadata": {},
   "outputs": [],
   "source": [
    "bins = np.linspace(-0.4, 0.4, 50 + 1)"
   ]
  },
  {
   "attachments": {},
   "cell_type": "markdown",
   "metadata": {},
   "source": [
    "We define `cabinetry` models vie a `config` dictionary, containing different settings:"
   ]
  },
  {
   "attachments": {},
   "cell_type": "markdown",
   "metadata": {},
   "source": [
    "First, we give our measurement a name, denife a parameter of interest (POI), and input path containing the `root` files and a histogram folder, where cabinetry automatically saves the historgam yields."
   ]
  },
  {
   "cell_type": "code",
   "execution_count": 190,
   "metadata": {},
   "outputs": [],
   "source": [
    "cabinetry.set_logging()\n",
    "\n",
    "BASE = Path('/home/belle/zhangboy/Summer_workshop_2023')\n",
    "\n",
    "config = {\n",
    "   \"General\":{\n",
    "      \"Measurement\": \"B2Kpi0\",\n",
    "      \"POI\": \"Signal_norm\",\n",
    "      \"InputPath\": str(BASE / \"{SamplePath}\"), # wildcard for samples\n",
    "      \"HistogramFolder\": \"histograms/\"\n",
    "\n",
    "   }\n",
    "}"
   ]
  },
  {
   "attachments": {},
   "cell_type": "markdown",
   "metadata": {},
   "source": [
    "Int the `Regions` setting, we tell `cabinetry` which variable in the `root` files it should load and define our signal region via the cut $| \\Delta E | < 0.4 GeV$. It is a list, because we can use events from more than one phase space region. Additionally, we define the binning.\n",
    "\n",
    "Next we can define our `Samples` again in a list, where we specify the name of each sample, the `root` file in the `InputPath`, the `Tree` and whether it is data or not. We can also pass a list of files as `SamplePath` and `cabinetry` will combine the files for us. "
   ]
  },
  {
   "cell_type": "code",
   "execution_count": 191,
   "metadata": {},
   "outputs": [],
   "source": [
    "config.update({\n",
    "   \"Regions\":[\n",
    "      {\n",
    "         \"Name\": \"signal_region\",\n",
    "         \"Variable\": \"B_deltaE\",             # which variable we bin histograms in\n",
    "         \"Filter\": \"abs(B_deltaE) < 0.4\",           # event selection \n",
    "         \"Binning\": list(bins)\n",
    "      }\n",
    "   ]\n",
    "})\n",
    "\n",
    "config.update({\n",
    "   \"Samples\":[\n",
    "      {\n",
    "         \"Name\": \"Data\",\n",
    "         \"SamplePath\": [\"sig_test.root\",\"qqbar_test.root\"],\n",
    "         \"Tree\": \"B\",\n",
    "         \"Data\": True                       # observed data is handled differently, need to distinguish\n",
    "      },\n",
    "      {\n",
    "         \"Name\": \"Signal\",\n",
    "         \"SamplePath\": \"sig_template.root\",\n",
    "         \"Tree\": \"B\",\n",
    "      },\n",
    "      {\n",
    "         \"Name\": \"qqbar\",\n",
    "         \"SamplePath\": \"qqbar_template.root\",\n",
    "         \"Tree\": \"B\",\n",
    "      }\n",
    "   ]\n",
    "})"
   ]
  },
  {
   "attachments": {},
   "cell_type": "markdown",
   "metadata": {},
   "source": [
    "Lastly, we can add some modifiers: \n",
    "\n",
    "First, we add some normalisation factors for the signal and background. Here, we specify our `POI`, `Signal_norm`.\n",
    "\n",
    "Then we can add some other systematics.\n"
   ]
  },
  {
   "cell_type": "code",
   "execution_count": 192,
   "metadata": {},
   "outputs": [],
   "source": [
    "config.update({\n",
    "   \"NormFactors\":[\n",
    "      {\n",
    "         \"Name\": \"Signal_norm\",\n",
    "         \"Samples\": \"Signal\",    # we want this parameter to scale the signal\n",
    "         \"Nominal\": 1,\n",
    "         \"Bounds\": [-5, 10]\n",
    "      },\n",
    "        {\n",
    "         \"Name\": \"qqbar_norm\",\n",
    "         \"Samples\": \"qqbar\",    # we want this parameter to scale the misID\n",
    "         \"Nominal\": 1,\n",
    "         \"Bounds\": [-5, 10]\n",
    "      }\n",
    "   ]\n",
    "})\n",
    "\n",
    "config.update({\n",
    "   \"Systematics\":[\n",
    "   ],\n",
    "})"
   ]
  },
  {
   "attachments": {},
   "cell_type": "markdown",
   "metadata": {},
   "source": [
    "`cabinetry` lets us validate our `config`,\n"
   ]
  },
  {
   "cell_type": "code",
   "execution_count": 193,
   "metadata": {},
   "outputs": [
    {
     "data": {
      "text/plain": [
       "True"
      ]
     },
     "execution_count": 193,
     "metadata": {},
     "output_type": "execute_result"
    }
   ],
   "source": [
    "cabinetry.configuration.validate(config)"
   ]
  },
  {
   "attachments": {},
   "cell_type": "markdown",
   "metadata": {},
   "source": [
    "Additionally, we can print an overview. We see that we have _ samples, _ regions, _ normalisation factors and _ systematics."
   ]
  },
  {
   "cell_type": "code",
   "execution_count": 194,
   "metadata": {},
   "outputs": [
    {
     "name": "stderr",
     "output_type": "stream",
     "text": [
      "INFO - cabinetry.configuration - the config contains:\n",
      "INFO - cabinetry.configuration -   3 Sample(s)\n",
      "INFO - cabinetry.configuration -   1 Regions(s)\n",
      "INFO - cabinetry.configuration -   2 NormFactor(s)\n",
      "INFO - cabinetry.configuration -   0 Systematic(s)\n"
     ]
    }
   ],
   "source": [
    "cabinetry.configuration.print_overview(config)"
   ]
  },
  {
   "attachments": {},
   "cell_type": "markdown",
   "metadata": {},
   "source": [
    "## Creating the histograms"
   ]
  },
  {
   "attachments": {},
   "cell_type": "markdown",
   "metadata": {},
   "source": [
    "Given that our validation succeeds, we can `build` the histrograms for our model. This will create the hisrograms from the `root` files and save them into the `HistogramFolder`."
   ]
  },
  {
   "cell_type": "code",
   "execution_count": 195,
   "metadata": {},
   "outputs": [
    {
     "name": "stderr",
     "output_type": "stream",
     "text": [
      "DEBUG - cabinetry.route -   in region signal_region\n",
      "DEBUG - cabinetry.route -     reading sample Data\n",
      "DEBUG - cabinetry.route -       variation Nominal\n",
      "DEBUG - cabinetry.histo - saving histogram to histograms/signal_region_Data.npz\n",
      "DEBUG - cabinetry.route -     reading sample Signal\n",
      "DEBUG - cabinetry.route -       variation Nominal\n",
      "DEBUG - cabinetry.histo - saving histogram to histograms/signal_region_Signal.npz\n",
      "DEBUG - cabinetry.route -     reading sample qqbar\n",
      "DEBUG - cabinetry.route -       variation Nominal\n",
      "DEBUG - cabinetry.histo - saving histogram to histograms/signal_region_qqbar.npz\n"
     ]
    }
   ],
   "source": [
    "cabinetry.templates.build(config, method=\"uproot\")"
   ]
  },
  {
   "attachments": {},
   "cell_type": "markdown",
   "metadata": {},
   "source": [
    "You can also provide existing histograms you built yourself for `cabinetry` to use, see the [cabinetry-tutorials](https://github.com/cabinetry/cabinetry-tutorials) repository for an example."
   ]
  },
  {
   "attachments": {},
   "cell_type": "markdown",
   "metadata": {},
   "source": [
    "We can now visualise what we produced:"
   ]
  },
  {
   "cell_type": "code",
   "execution_count": 196,
   "metadata": {},
   "outputs": [
    {
     "name": "stderr",
     "output_type": "stream",
     "text": [
      "INFO - cabinetry.visualize - visualizing histogram\n",
      "WARNING - cabinetry.histo - the modified histogram histograms/signal_region_qqbar_modified.npz does not exist\n",
      "WARNING - cabinetry.histo - loading the un-modified histogram instead!\n",
      "WARNING - cabinetry.histo - the modified histogram histograms/signal_region_Signal_modified.npz does not exist\n",
      "WARNING - cabinetry.histo - loading the un-modified histogram instead!\n",
      "WARNING - cabinetry.histo - the modified histogram histograms/signal_region_Data_modified.npz does not exist\n",
      "WARNING - cabinetry.histo - loading the un-modified histogram instead!\n",
      "INFO - cabinetry.visualize.utils - saving figure as figures/signal_region_prefit_log.pdf\n"
     ]
    },
    {
     "data": {
      "image/png": "[encoded data removed]",
      "text/plain": [
       "<Figure size 600x600 with 2 Axes>"
      ]
     },
     "metadata": {},
     "output_type": "display_data"
    }
   ],
   "source": [
    "_ = cabinetry.visualize.data_mc_from_histograms(config)"
   ]
  },
  {
   "attachments": {},
   "cell_type": "markdown",
   "metadata": {},
   "source": [
    "`cabinetry` will automatically save this image in a `/figures` folder."
   ]
  },
  {
   "cell_type": "markdown",
   "metadata": {},
   "source": [
    "# Adding systematics"
   ]
  },
  {
   "cell_type": "markdown",
   "metadata": {},
   "source": [
    "## Tracking efficiency"
   ]
  },
  {
   "cell_type": "markdown",
   "metadata": {},
   "source": [
    "We rerun the reconstruction, removing some tracks. The resulting ntuples contain slightly different yields which tell us about the systematic uncertainty due to the tracking efficiency. \n",
    "\n",
    "In `cabinetry`, adding these uncertainties is very easy. We just specify the up- and down-variations via the new `root` file. Here we tell the configuration to syymetrize the variation. \n",
    "\n",
    "The `NormPlusShape` corresponds to a `histosys` modifier plus a `normsys` modifier. The `histosys` modifier takes care of the normalized shape variation due to our new samples and the `normsys` modifier takes care of the normaization differences of our nomial sample and the the modified one. `Cabinetry` will ive the modifiers the same name, `TrackingEfficiency`, which will tell `pyhf` that these modifiers are correlated. Hence we will only see 1 nuisance parameter in this case.\n",
    "\n"
   ]
  },
  {
   "cell_type": "code",
   "execution_count": 197,
   "metadata": {},
   "outputs": [
    {
     "name": "stderr",
     "output_type": "stream",
     "text": [
      "DEBUG - cabinetry.route -   in region signal_region\n",
      "DEBUG - cabinetry.route -     reading sample Data\n",
      "DEBUG - cabinetry.route -       variation Nominal\n",
      "DEBUG - cabinetry.histo - saving histogram to histograms/signal_region_Data.npz\n",
      "DEBUG - cabinetry.route -     reading sample Signal\n",
      "DEBUG - cabinetry.route -       variation Nominal\n",
      "DEBUG - cabinetry.histo - saving histogram to histograms/signal_region_Signal.npz\n",
      "DEBUG - cabinetry.route -       variation TrackingEfficiency Up\n",
      "DEBUG - cabinetry.histo - saving histogram to histograms/signal_region_Signal_TrackingEfficiency_Up.npz\n",
      "DEBUG - cabinetry.route -     reading sample qqbar\n",
      "DEBUG - cabinetry.route -       variation Nominal\n",
      "DEBUG - cabinetry.histo - saving histogram to histograms/signal_region_qqbar.npz\n"
     ]
    }
   ],
   "source": [
    "config.update({\n",
    "   \"Systematics\":[\n",
    "      {\n",
    "         \"Name\":\"TrackingEfficiency\",\n",
    "         \"Up\": {\"SamplePath\": \"sig_test.root\"},\n",
    "         \"Down\": {\"Symmetrize\": True},\n",
    "         \"Samples\": \"Signal\",\n",
    "         \"Type\": \"NormPlusShape\"\n",
    "      }\n",
    "   ],\n",
    "})\n",
    "\n",
    "cabinetry.templates.build(config, method=\"uproot\")"
   ]
  },
  {
   "cell_type": "code",
   "execution_count": 198,
   "metadata": {},
   "outputs": [
    {
     "data": {
      "text/plain": [
       "1.571425302479906"
      ]
     },
     "execution_count": 198,
     "metadata": {},
     "output_type": "execute_result"
    }
   ],
   "source": [
    "(2*sum(nominal)-sum(modified))/sum(nominal)"
   ]
  },
  {
   "cell_type": "code",
   "execution_count": 199,
   "metadata": {},
   "outputs": [
    {
     "data": {
      "text/plain": [
       "array([1.0800e+02, 1.3400e+02, 1.8000e+02, 2.0100e+02, 2.2400e+02,\n",
       "       2.8200e+02, 3.5300e+02, 3.5000e+02, 4.5600e+02, 5.4100e+02,\n",
       "       6.8600e+02, 8.3400e+02, 9.9900e+02, 1.3520e+03, 1.6880e+03,\n",
       "       2.0900e+03, 2.7560e+03, 3.6650e+03, 5.0570e+03, 6.8660e+03,\n",
       "       9.3010e+03, 1.2486e+04, 1.5992e+04, 1.8370e+04, 1.9051e+04,\n",
       "       1.6962e+04, 1.2272e+04, 7.5000e+03, 4.0100e+03, 2.0890e+03,\n",
       "       1.1120e+03, 6.0500e+02, 3.5300e+02, 2.4700e+02, 1.7100e+02,\n",
       "       9.6000e+01, 8.6000e+01, 6.0000e+01, 4.6000e+01, 4.3000e+01,\n",
       "       3.2000e+01, 2.0000e+01, 2.4000e+01, 1.6000e+01, 2.5000e+01,\n",
       "       9.0000e+00, 1.3000e+01, 9.0000e+00, 7.0000e+00, 5.0000e+00])"
      ]
     },
     "execution_count": 199,
     "metadata": {},
     "output_type": "execute_result"
    }
   ],
   "source": [
    "np.load('histograms/signal_region_Signal_TrackingEfficiency_Up.npz')['yields']"
   ]
  },
  {
   "attachments": {},
   "cell_type": "markdown",
   "metadata": {},
   "source": [
    "# Building a `pyhf` workspace"
   ]
  },
  {
   "attachments": {},
   "cell_type": "markdown",
   "metadata": {},
   "source": [
    "We now construct a `pyhf` workspace, which contains everything to build our likelihood function. This can also be used as an input file for `pyhf`. "
   ]
  },
  {
   "cell_type": "code",
   "execution_count": 200,
   "metadata": {},
   "outputs": [
    {
     "name": "stderr",
     "output_type": "stream",
     "text": [
      "INFO - cabinetry.workspace - building workspace\n",
      "WARNING - cabinetry.histo - the modified histogram histograms/signal_region_Signal_modified.npz does not exist\n",
      "WARNING - cabinetry.histo - loading the un-modified histogram instead!\n",
      "DEBUG - cabinetry.workspace - adding NormFactor Signal_norm to sample Signal in region signal_region\n",
      "DEBUG - cabinetry.workspace - adding OverallSys and HistoSys TrackingEfficiency to sample Signal in region signal_region\n",
      "WARNING - cabinetry.histo - the modified histogram histograms/signal_region_Signal_TrackingEfficiency_Up_modified.npz does not exist\n",
      "WARNING - cabinetry.histo - loading the un-modified histogram instead!\n",
      "WARNING - cabinetry.histo - the modified histogram histograms/signal_region_Signal_modified.npz does not exist\n",
      "WARNING - cabinetry.histo - loading the un-modified histogram instead!\n",
      "DEBUG - cabinetry.workspace - normalization impact of systematic TrackingEfficiency on sample Signal in region signal_region is 0.429\n",
      "WARNING - cabinetry.histo - the modified histogram histograms/signal_region_qqbar_modified.npz does not exist\n",
      "WARNING - cabinetry.histo - loading the un-modified histogram instead!\n",
      "DEBUG - cabinetry.workspace - adding NormFactor qqbar_norm to sample qqbar in region signal_region\n",
      "WARNING - cabinetry.histo - the modified histogram histograms/signal_region_Data_modified.npz does not exist\n",
      "WARNING - cabinetry.histo - loading the un-modified histogram instead!\n",
      "INFO - pyhf.workspace - Validating spec against schema: workspace.json\n",
      "DEBUG - cabinetry.workspace - saving workspace to b2kpi_workspace.json\n"
     ]
    }
   ],
   "source": [
    "workspace_path = \"b2kpi_workspace.json\"\n",
    "spec = cabinetry.workspace.build(config)\n",
    "cabinetry.workspace.save(spec, workspace_path)"
   ]
  },
  {
   "cell_type": "code",
   "execution_count": 201,
   "metadata": {},
   "outputs": [
    {
     "name": "stdout",
     "output_type": "stream",
     "text": [
      "{\n",
      "    \"channels\": [\n",
      "        {\n",
      "            \"name\": \"signal_region\",\n",
      "            \"samples\": [\n",
      "                {\n",
      "                    \"data\": [\n",
      "                        292.0,\n",
      "                        332.0,\n",
      "                        348.0,\n",
      "                        437.0,\n",
      "                        546.0,\n",
      "                        597.0,\n",
      "                        667.0,\n",
      "                        880.0,\n",
      "                        1030.0,\n",
      "                        1227.0,\n",
      "                        1518.0,\n",
      "                        2008.0,\n",
      "                        2305.0,\n",
      "                        3023.0,\n",
      "                        3808.0,\n",
      "                        4928.0,\n",
      "                        6618.0,\n",
      "                        8760.0,\n",
      "                        11852.0,\n",
      "                        16259.0,\n",
      "                        21738.0,\n",
      "                        29317.0,\n",
      "                        36927.0,\n",
      "                        43132.0,\n",
      "                        44387.0,\n",
      "                        39049.0,\n",
      "                        28781.0,\n",
      "                        17652.0,\n",
      "                        9508.0,\n",
      "                        4698.0,\n",
      "                        2470.0,\n",
      "                        1500.0,\n",
      "                        904.0,\n",
      "                        572.0,\n",
      "                        388.0,\n",
      "                        309.0,\n",
      "                        197.0,\n",
      "                        147.0,\n",
      "                        120.0,\n",
      "                        71.0,\n",
      "                        66.0,\n",
      "                        56.0,\n",
      "                        36.0,\n",
      "                        32.0,\n",
      "                        34.0,\n",
      "                        19.0,\n",
      "                        16.0,\n",
      "                        11.0,\n",
      "                        20.0,\n",
      "                        18.0\n",
      "                    ],\n",
      "                    \"modifiers\": [\n",
      "                        {\n",
      "                            \"data\": [\n",
      "                                17.08800749063506,\n",
      "                                18.2208671582886,\n",
      "                                18.65475810617763,\n",
      "                                20.904544960366874,\n",
      "                                23.366642891095847,\n",
      "                                24.43358344574123,\n",
      "                                25.826343140289914,\n",
      "                                29.664793948382652,\n",
      "                                32.09361307176243,\n",
      "                                35.02855977627399,\n",
      "                                38.961519477556315,\n",
      "                                44.81071300481616,\n",
      "                                48.010415536631214,\n",
      "                                54.981815175565096,\n",
      "                                61.70899448216605,\n",
      "                                70.19971509913698,\n",
      "                                81.35109095765097,\n",
      "                                93.59487165438073,\n",
      "                                108.86689120205463,\n",
      "                                127.51078385768005,\n",
      "                                147.43812261420044,\n",
      "                                171.2220780156578,\n",
      "                                192.16399246476954,\n",
      "                                207.68244990850815,\n",
      "                                210.6822251638709,\n",
      "                                197.60819821049935,\n",
      "                                169.64963896218583,\n",
      "                                132.860829441939,\n",
      "                                97.50897394599124,\n",
      "                                68.54195795277518,\n",
      "                                49.69909455915671,\n",
      "                                38.72983346207417,\n",
      "                                30.066592756745816,\n",
      "                                23.916521486202797,\n",
      "                                19.697715603592208,\n",
      "                                17.578395831246947,\n",
      "                                14.035668847618199,\n",
      "                                12.12435565298214,\n",
      "                                10.954451150103322,\n",
      "                                8.426149773176359,\n",
      "                                8.12403840463596,\n",
      "                                7.483314773547883,\n",
      "                                6.0,\n",
      "                                5.656854249492381,\n",
      "                                5.830951894845301,\n",
      "                                4.358898943540674,\n",
      "                                4.0,\n",
      "                                3.3166247903554,\n",
      "                                4.47213595499958,\n",
      "                                4.242640687119285\n",
      "                            ],\n",
      "                            \"name\": \"staterror_signal_region\",\n",
      "                            \"type\": \"staterror\"\n",
      "                        },\n",
      "                        {\n",
      "                            \"data\": null,\n",
      "                            \"name\": \"Signal_norm\",\n",
      "                            \"type\": \"normfactor\"\n",
      "                        },\n",
      "                        {\n",
      "                            \"data\": {\n",
      "                                \"hi\": 0.4285746975200938,\n",
      "                                \"lo\": 1.571425302479906\n",
      "                            },\n",
      "                            \"name\": \"TrackingEfficiency\",\n",
      "                            \"type\": \"normsys\"\n",
      "                        },\n",
      "                        {\n",
      "                            \"data\": {\n",
      "                                \"hi_data\": [\n",
      "                                    251.99807787284595,\n",
      "                                    312.6642818051978,\n",
      "                                    419.9967964547433,\n",
      "                                    468.9964227077966,\n",
      "                                    522.6626800325694,\n",
      "                                    657.9949811124311,\n",
      "                                    823.6603841584688,\n",
      "                                    816.6604375508897,\n",
      "                                    1063.9918843520163,\n",
      "                                    1262.3237049000895,\n",
      "                                    1600.6544575997439,\n",
      "                                    1945.9851569069772,\n",
      "                                    2330.982220323825,\n",
      "                                    3154.642604482294,\n",
      "                                    3938.636624531148,\n",
      "                                    4876.629469946741,\n",
      "                                    6430.617616829291,\n",
      "                                    8551.601438925745,\n",
      "                                    11799.576664842425,\n",
      "                                    16020.544469212597,\n",
      "                                    21702.16779903093,\n",
      "                                    29133.777780744025,\n",
      "                                    37314.38204946808,\n",
      "                                    42863.00639374241,\n",
      "                                    44451.99427366286,\n",
      "                                    39577.698119251974,\n",
      "                                    28634.448256070053,\n",
      "                                    17499.866518947634,\n",
      "                                    9356.595298797336,\n",
      "                                    4874.296154410881,\n",
      "                                    2594.6468758759693,\n",
      "                                    1411.6558991951092,\n",
      "                                    823.6603841584688,\n",
      "                                    576.3289373573422,\n",
      "                                    398.9969566320061,\n",
      "                                    223.99829144252973,\n",
      "                                    200.66513608393288,\n",
      "                                    139.9989321515811,\n",
      "                                    107.3325146495455,\n",
      "                                    100.33256804196644,\n",
      "                                    74.66609714750992,\n",
      "                                    46.666310717193696,\n",
      "                                    55.99957286063243,\n",
      "                                    37.33304857375496,\n",
      "                                    58.33288839649212,\n",
      "                                    20.99983982273716,\n",
      "                                    30.333101966175903,\n",
      "                                    20.99983982273716,\n",
      "                                    16.333208751017793,\n",
      "                                    11.666577679298424\n",
      "                                ],\n",
      "                                \"lo_data\": [\n",
      "                                    332.00192212715405,\n",
      "                                    351.3357181948022,\n",
      "                                    276.0032035452567,\n",
      "                                    405.0035772922034,\n",
      "                                    569.3373199674306,\n",
      "                                    536.0050188875689,\n",
      "                                    510.3396158415312,\n",
      "                                    943.3395624491103,\n",
      "                                    996.0081156479837,\n",
      "                                    1191.6762950999105,\n",
      "                                    1435.3455424002561,\n",
      "                                    2070.014843093023,\n",
      "                                    2279.017779676175,\n",
      "                                    2891.357395517706,\n",
      "                                    3677.363375468852,\n",
      "                                    4979.370530053259,\n",
      "                                    6805.382383170709,\n",
      "                                    8968.398561074255,\n",
      "                                    11904.423335157575,\n",
      "                                    16497.455530787403,\n",
      "                                    21773.83220096907,\n",
      "                                    29500.222219255975,\n",
      "                                    36539.61795053192,\n",
      "                                    43400.99360625759,\n",
      "                                    44322.00572633714,\n",
      "                                    38520.301880748026,\n",
      "                                    28927.551743929947,\n",
      "                                    17804.133481052366,\n",
      "                                    9659.404701202664,\n",
      "                                    4521.703845589119,\n",
      "                                    2345.3531241240307,\n",
      "                                    1588.3441008048908,\n",
      "                                    984.3396158415312,\n",
      "                                    567.6710626426578,\n",
      "                                    377.0030433679939,\n",
      "                                    394.00170855747024,\n",
      "                                    193.33486391606712,\n",
      "                                    154.0010678484189,\n",
      "                                    132.6674853504545,\n",
      "                                    41.66743195803356,\n",
      "                                    57.333902852490084,\n",
      "                                    65.3336892828063,\n",
      "                                    16.000427139367567,\n",
      "                                    26.666951426245042,\n",
      "                                    9.667111603507877,\n",
      "                                    17.00016017726284,\n",
      "                                    1.666898033824097,\n",
      "                                    1.0001601772628383,\n",
      "                                    23.666791248982207,\n",
      "                                    24.333422320701576\n",
      "                                ]\n",
      "                            },\n",
      "                            \"name\": \"TrackingEfficiency\",\n",
      "                            \"type\": \"histosys\"\n",
      "                        }\n",
      "                    ],\n",
      "                    \"name\": \"Signal\"\n",
      "                },\n",
      "                {\n",
      "                    \"data\": [\n",
      "                        526.0,\n",
      "                        548.0,\n",
      "                        528.0,\n",
      "                        526.0,\n",
      "                        509.0,\n",
      "                        503.0,\n",
      "                        529.0,\n",
      "                        476.0,\n",
      "                        494.0,\n",
      "                        453.0,\n",
      "                        440.0,\n",
      "                        404.0,\n",
      "                        427.0,\n",
      "                        435.0,\n",
      "                        406.0,\n",
      "                        434.0,\n",
      "                        399.0,\n",
      "                        351.0,\n",
      "                        370.0,\n",
      "                        370.0,\n",
      "                        372.0,\n",
      "                        331.0,\n",
      "                        330.0,\n",
      "                        297.0,\n",
      "                        341.0,\n",
      "                        343.0,\n",
      "                        306.0,\n",
      "                        335.0,\n",
      "                        300.0,\n",
      "                        300.0,\n",
      "                        292.0,\n",
      "                        307.0,\n",
      "                        266.0,\n",
      "                        267.0,\n",
      "                        253.0,\n",
      "                        250.0,\n",
      "                        237.0,\n",
      "                        258.0,\n",
      "                        235.0,\n",
      "                        248.0,\n",
      "                        229.0,\n",
      "                        199.0,\n",
      "                        204.0,\n",
      "                        211.0,\n",
      "                        204.0,\n",
      "                        206.0,\n",
      "                        202.0,\n",
      "                        173.0,\n",
      "                        187.0,\n",
      "                        203.0\n",
      "                    ],\n",
      "                    \"modifiers\": [\n",
      "                        {\n",
      "                            \"data\": [\n",
      "                                22.93468988235943,\n",
      "                                23.40939982143925,\n",
      "                                22.978250586152114,\n",
      "                                22.93468988235943,\n",
      "                                22.561028345356956,\n",
      "                                22.427661492005804,\n",
      "                                23.0,\n",
      "                                21.817424229271428,\n",
      "                                22.22611077089287,\n",
      "                                21.283796653792763,\n",
      "                                20.97617696340303,\n",
      "                                20.09975124224178,\n",
      "                                20.663978319771825,\n",
      "                                20.85665361461421,\n",
      "                                20.149441679609886,\n",
      "                                20.83266665599966,\n",
      "                                19.974984355438178,\n",
      "                                18.734993995195193,\n",
      "                                19.235384061671343,\n",
      "                                19.235384061671343,\n",
      "                                19.28730152198591,\n",
      "                                18.193405398660254,\n",
      "                                18.16590212458495,\n",
      "                                17.233687939614086,\n",
      "                                18.466185312619388,\n",
      "                                18.520259177452136,\n",
      "                                17.4928556845359,\n",
      "                                18.303005217723125,\n",
      "                                17.320508075688775,\n",
      "                                17.320508075688775,\n",
      "                                17.08800749063506,\n",
      "                                17.52141546793523,\n",
      "                                16.30950643030009,\n",
      "                                16.34013463836819,\n",
      "                                15.905973720586866,\n",
      "                                15.811388300841896,\n",
      "                                15.394804318340652,\n",
      "                                16.06237840420901,\n",
      "                                15.329709716755891,\n",
      "                                15.748015748023622,\n",
      "                                15.132745950421556,\n",
      "                                14.106735979665885,\n",
      "                                14.2828568570857,\n",
      "                                14.52583904633395,\n",
      "                                14.2828568570857,\n",
      "                                14.352700094407323,\n",
      "                                14.212670403551895,\n",
      "                                13.152946437965905,\n",
      "                                13.674794331177344,\n",
      "                                14.247806848775006\n",
      "                            ],\n",
      "                            \"name\": \"staterror_signal_region\",\n",
      "                            \"type\": \"staterror\"\n",
      "                        },\n",
      "                        {\n",
      "                            \"data\": null,\n",
      "                            \"name\": \"qqbar_norm\",\n",
      "                            \"type\": \"normfactor\"\n",
      "                        }\n",
      "                    ],\n",
      "                    \"name\": \"qqbar\"\n",
      "                }\n",
      "            ]\n",
      "        }\n",
      "    ],\n",
      "    \"measurements\": [\n",
      "        {\n",
      "            \"config\": {\n",
      "                \"parameters\": [\n",
      "                    {\n",
      "                        \"bounds\": [\n",
      "                            [\n",
      "                                -5,\n",
      "                                10\n",
      "                            ]\n",
      "                        ],\n",
      "                        \"inits\": [\n",
      "                            1\n",
      "                        ],\n",
      "                        \"name\": \"Signal_norm\"\n",
      "                    },\n",
      "                    {\n",
      "                        \"bounds\": [\n",
      "                            [\n",
      "                                -5,\n",
      "                                10\n",
      "                            ]\n",
      "                        ],\n",
      "                        \"inits\": [\n",
      "                            1\n",
      "                        ],\n",
      "                        \"name\": \"qqbar_norm\"\n",
      "                    }\n",
      "                ],\n",
      "                \"poi\": \"Signal_norm\"\n",
      "            },\n",
      "            \"name\": \"B2Kpi0\"\n",
      "        }\n",
      "    ],\n",
      "    \"observations\": [\n",
      "        {\n",
      "            \"data\": [\n",
      "                361.0,\n",
      "                345.0,\n",
      "                413.0,\n",
      "                411.0,\n",
      "                443.0,\n",
      "                507.0,\n",
      "                566.0,\n",
      "                559.0,\n",
      "                678.0,\n",
      "                738.0,\n",
      "                868.0,\n",
      "                1017.0,\n",
      "                1180.0,\n",
      "                1561.0,\n",
      "                1842.0,\n",
      "                2245.0,\n",
      "                2917.0,\n",
      "                3829.0,\n",
      "                5243.0,\n",
      "                7020.0,\n",
      "                9474.0,\n",
      "                12637.0,\n",
      "                16136.0,\n",
      "                18507.0,\n",
      "                19206.0,\n",
      "                17104.0,\n",
      "                12423.0,\n",
      "                7633.0,\n",
      "                4139.0,\n",
      "                2215.0,\n",
      "                1237.0,\n",
      "                716.0,\n",
      "                488.0,\n",
      "                362.0,\n",
      "                277.0,\n",
      "                181.0,\n",
      "                188.0,\n",
      "                153.0,\n",
      "                142.0,\n",
      "                134.0,\n",
      "                117.0,\n",
      "                117.0,\n",
      "                113.0,\n",
      "                112.0,\n",
      "                118.0,\n",
      "                95.0,\n",
      "                104.0,\n",
      "                100.0,\n",
      "                75.0,\n",
      "                81.0\n",
      "            ],\n",
      "            \"name\": \"signal_region\"\n",
      "        }\n",
      "    ],\n",
      "    \"version\": \"1.0.0\"\n",
      "}\n"
     ]
    }
   ],
   "source": [
    "print(json.dumps(spec, sort_keys=True, indent=4))"
   ]
  },
  {
   "attachments": {},
   "cell_type": "markdown",
   "metadata": {},
   "source": [
    "## Model structure\n",
    "\n",
    "It can be helpful to visualize the modifier structure of the statistical model we have built to catch potential issues. The `visualize.modifier_grid` function creates a figure showcasing the information about which modifiers (indicated by color) act on which region and sample when a given parameter (on the horizontal axis) is varied."
   ]
  },
  {
   "cell_type": "code",
   "execution_count": 209,
   "metadata": {},
   "outputs": [
    {
     "name": "stderr",
     "output_type": "stream",
     "text": [
      "INFO - pyhf.workspace - Validating spec against schema: workspace.json\n",
      "INFO - pyhf.pdf - Validating spec against schema: model.json\n",
      "INFO - pyhf.pdf - adding modifier TrackingEfficiency (1 new nuisance parameters)\n",
      "INFO - pyhf.pdf - adding modifier Signal_norm (1 new nuisance parameters)\n",
      "INFO - pyhf.pdf - adding modifier qqbar_norm (1 new nuisance parameters)\n",
      "INFO - pyhf.pdf - adding modifier staterror_signal_region (50 new nuisance parameters)\n",
      "INFO - cabinetry.visualize.utils - saving figure as figures/modifier_grid.pdf\n"
     ]
    },
    {
     "data": {
      "image/png": "[encoded data removed]",
      "text/plain": [
       "<Figure size 405.263x362.5 with 2 Axes>"
      ]
     },
     "execution_count": 209,
     "metadata": {},
     "output_type": "execute_result"
    }
   ],
   "source": [
    "cabinetry.visualize.modifier_grid(pyhf.Workspace(spec).model())"
   ]
  },
  {
   "cell_type": "markdown",
   "metadata": {},
   "source": [
    "## Validating the systematics "
   ]
  },
  {
   "cell_type": "markdown",
   "metadata": {},
   "source": [
    "First let us check that we indeed only get 1 nuisance paramter for the `TrackingEfficiency` modifier:"
   ]
  },
  {
   "cell_type": "code",
   "execution_count": 227,
   "metadata": {},
   "outputs": [
    {
     "data": {
      "text/plain": [
       "['TrackingEfficiency',\n",
       " 'Signal_norm',\n",
       " 'qqbar_norm',\n",
       " 'staterror_signal_region[0]',\n",
       " 'staterror_signal_region[1]',\n",
       " 'staterror_signal_region[2]',\n",
       " 'staterror_signal_region[3]',\n",
       " 'staterror_signal_region[4]',\n",
       " 'staterror_signal_region[5]',\n",
       " 'staterror_signal_region[6]',\n",
       " 'staterror_signal_region[7]',\n",
       " 'staterror_signal_region[8]',\n",
       " 'staterror_signal_region[9]',\n",
       " 'staterror_signal_region[10]',\n",
       " 'staterror_signal_region[11]',\n",
       " 'staterror_signal_region[12]',\n",
       " 'staterror_signal_region[13]',\n",
       " 'staterror_signal_region[14]',\n",
       " 'staterror_signal_region[15]',\n",
       " 'staterror_signal_region[16]',\n",
       " 'staterror_signal_region[17]',\n",
       " 'staterror_signal_region[18]',\n",
       " 'staterror_signal_region[19]',\n",
       " 'staterror_signal_region[20]',\n",
       " 'staterror_signal_region[21]',\n",
       " 'staterror_signal_region[22]',\n",
       " 'staterror_signal_region[23]',\n",
       " 'staterror_signal_region[24]',\n",
       " 'staterror_signal_region[25]',\n",
       " 'staterror_signal_region[26]',\n",
       " 'staterror_signal_region[27]',\n",
       " 'staterror_signal_region[28]',\n",
       " 'staterror_signal_region[29]',\n",
       " 'staterror_signal_region[30]',\n",
       " 'staterror_signal_region[31]',\n",
       " 'staterror_signal_region[32]',\n",
       " 'staterror_signal_region[33]',\n",
       " 'staterror_signal_region[34]',\n",
       " 'staterror_signal_region[35]',\n",
       " 'staterror_signal_region[36]',\n",
       " 'staterror_signal_region[37]',\n",
       " 'staterror_signal_region[38]',\n",
       " 'staterror_signal_region[39]',\n",
       " 'staterror_signal_region[40]',\n",
       " 'staterror_signal_region[41]',\n",
       " 'staterror_signal_region[42]',\n",
       " 'staterror_signal_region[43]',\n",
       " 'staterror_signal_region[44]',\n",
       " 'staterror_signal_region[45]',\n",
       " 'staterror_signal_region[46]',\n",
       " 'staterror_signal_region[47]',\n",
       " 'staterror_signal_region[48]',\n",
       " 'staterror_signal_region[49]']"
      ]
     },
     "execution_count": 227,
     "metadata": {},
     "output_type": "execute_result"
    }
   ],
   "source": [
    "model.config.par_names"
   ]
  },
  {
   "cell_type": "markdown",
   "metadata": {},
   "source": [
    "\n",
    "To check the numeric variations, we load the signal region Up-variation histogram for the `TrackingEfficiency`, which corresponds to the yields of the modified sample. To compare, we also load the nominal yields."
   ]
  },
  {
   "cell_type": "code",
   "execution_count": 202,
   "metadata": {},
   "outputs": [],
   "source": [
    "tracking_modified = np.load('/home/belle2/lorenzg/pyhf-tutorial/histograms/signal_region_Signal_TrackingEfficiency_Up.npz')['yields']\n",
    "tracking_nominal = np.load('histograms/signal_region_Signal.npz')['yields']"
   ]
  },
  {
   "cell_type": "markdown",
   "metadata": {},
   "source": [
    "First let us check the `normsys` variations. We expect:"
   ]
  },
  {
   "cell_type": "code",
   "execution_count": 203,
   "metadata": {},
   "outputs": [
    {
     "data": {
      "text/plain": [
       "{'name': 'TrackingEfficiency',\n",
       " 'type': 'normsys',\n",
       " 'data': {'hi': 0.4285746975200938, 'lo': 1.571425302479906}}"
      ]
     },
     "execution_count": 203,
     "metadata": {},
     "output_type": "execute_result"
    }
   ],
   "source": [
    "spec['channels'][0]['samples'][0]['modifiers'][2]"
   ]
  },
  {
   "cell_type": "markdown",
   "metadata": {},
   "source": [
    "Here `hi` and `lo` are just labels for the numbers we interpolate between. It does not matter is `lo` is larger than `hi`.\n",
    "\n",
    "We can calculate these values as the ratio of the total number of (possibly weighted) events. Make sure you understand the origin of these numbers."
   ]
  },
  {
   "cell_type": "code",
   "execution_count": 228,
   "metadata": {},
   "outputs": [
    {
     "data": {
      "text/plain": [
       "0.4285746975200938"
      ]
     },
     "execution_count": 228,
     "metadata": {},
     "output_type": "execute_result"
    }
   ],
   "source": [
    "sum(tracking_modified)/sum(tracking_nominal)"
   ]
  },
  {
   "cell_type": "code",
   "execution_count": 229,
   "metadata": {},
   "outputs": [
    {
     "data": {
      "text/plain": [
       "1.571425302479906"
      ]
     },
     "execution_count": 229,
     "metadata": {},
     "output_type": "execute_result"
    }
   ],
   "source": [
    "(2*sum(tracking_nominal) - sum(tracking_modified))/sum(tracking_nominal)"
   ]
  },
  {
   "cell_type": "markdown",
   "metadata": {},
   "source": [
    "Now let us check the `histosys` entries. We expect"
   ]
  },
  {
   "cell_type": "code",
   "execution_count": 230,
   "metadata": {},
   "outputs": [
    {
     "data": {
      "text/plain": [
       "{'name': 'TrackingEfficiency',\n",
       " 'type': 'histosys',\n",
       " 'data': {'hi_data': [251.99807787284595,\n",
       "   312.6642818051978,\n",
       "   419.9967964547433,\n",
       "   468.9964227077966,\n",
       "   522.6626800325694,\n",
       "   657.9949811124311,\n",
       "   823.6603841584688,\n",
       "   816.6604375508897,\n",
       "   1063.9918843520163,\n",
       "   1262.3237049000895,\n",
       "   1600.6544575997439,\n",
       "   1945.9851569069772,\n",
       "   2330.982220323825,\n",
       "   3154.642604482294,\n",
       "   3938.636624531148,\n",
       "   4876.629469946741,\n",
       "   6430.617616829291,\n",
       "   8551.601438925745,\n",
       "   11799.576664842425,\n",
       "   16020.544469212597,\n",
       "   21702.16779903093,\n",
       "   29133.777780744025,\n",
       "   37314.38204946808,\n",
       "   42863.00639374241,\n",
       "   44451.99427366286,\n",
       "   39577.698119251974,\n",
       "   28634.448256070053,\n",
       "   17499.866518947634,\n",
       "   9356.595298797336,\n",
       "   4874.296154410881,\n",
       "   2594.6468758759693,\n",
       "   1411.6558991951092,\n",
       "   823.6603841584688,\n",
       "   576.3289373573422,\n",
       "   398.9969566320061,\n",
       "   223.99829144252973,\n",
       "   200.66513608393288,\n",
       "   139.9989321515811,\n",
       "   107.3325146495455,\n",
       "   100.33256804196644,\n",
       "   74.66609714750992,\n",
       "   46.666310717193696,\n",
       "   55.99957286063243,\n",
       "   37.33304857375496,\n",
       "   58.33288839649212,\n",
       "   20.99983982273716,\n",
       "   30.333101966175903,\n",
       "   20.99983982273716,\n",
       "   16.333208751017793,\n",
       "   11.666577679298424],\n",
       "  'lo_data': [332.00192212715405,\n",
       "   351.3357181948022,\n",
       "   276.0032035452567,\n",
       "   405.0035772922034,\n",
       "   569.3373199674306,\n",
       "   536.0050188875689,\n",
       "   510.3396158415312,\n",
       "   943.3395624491103,\n",
       "   996.0081156479837,\n",
       "   1191.6762950999105,\n",
       "   1435.3455424002561,\n",
       "   2070.014843093023,\n",
       "   2279.017779676175,\n",
       "   2891.357395517706,\n",
       "   3677.363375468852,\n",
       "   4979.370530053259,\n",
       "   6805.382383170709,\n",
       "   8968.398561074255,\n",
       "   11904.423335157575,\n",
       "   16497.455530787403,\n",
       "   21773.83220096907,\n",
       "   29500.222219255975,\n",
       "   36539.61795053192,\n",
       "   43400.99360625759,\n",
       "   44322.00572633714,\n",
       "   38520.301880748026,\n",
       "   28927.551743929947,\n",
       "   17804.133481052366,\n",
       "   9659.404701202664,\n",
       "   4521.703845589119,\n",
       "   2345.3531241240307,\n",
       "   1588.3441008048908,\n",
       "   984.3396158415312,\n",
       "   567.6710626426578,\n",
       "   377.0030433679939,\n",
       "   394.00170855747024,\n",
       "   193.33486391606712,\n",
       "   154.0010678484189,\n",
       "   132.6674853504545,\n",
       "   41.66743195803356,\n",
       "   57.333902852490084,\n",
       "   65.3336892828063,\n",
       "   16.000427139367567,\n",
       "   26.666951426245042,\n",
       "   9.667111603507877,\n",
       "   17.00016017726284,\n",
       "   1.666898033824097,\n",
       "   1.0001601772628383,\n",
       "   23.666791248982207,\n",
       "   24.333422320701576]}}"
      ]
     },
     "execution_count": 230,
     "metadata": {},
     "output_type": "execute_result"
    }
   ],
   "source": [
    "spec['channels'][0]['samples'][0]['modifiers'][3]"
   ]
  },
  {
   "cell_type": "markdown",
   "metadata": {},
   "source": [
    "We calculate these numbers by calculating the differenced of the nominal yields to the correctly scaled modified ones."
   ]
  },
  {
   "cell_type": "code",
   "execution_count": 231,
   "metadata": {},
   "outputs": [
    {
     "data": {
      "text/plain": [
       "array([2.51998078e+02, 3.12664282e+02, 4.19996796e+02, 4.68996423e+02,\n",
       "       5.22662680e+02, 6.57994981e+02, 8.23660384e+02, 8.16660438e+02,\n",
       "       1.06399188e+03, 1.26232370e+03, 1.60065446e+03, 1.94598516e+03,\n",
       "       2.33098222e+03, 3.15464260e+03, 3.93863662e+03, 4.87662947e+03,\n",
       "       6.43061762e+03, 8.55160144e+03, 1.17995767e+04, 1.60205445e+04,\n",
       "       2.17021678e+04, 2.91337778e+04, 3.73143820e+04, 4.28630064e+04,\n",
       "       4.44519943e+04, 3.95776981e+04, 2.86344483e+04, 1.74998665e+04,\n",
       "       9.35659530e+03, 4.87429615e+03, 2.59464688e+03, 1.41165590e+03,\n",
       "       8.23660384e+02, 5.76328937e+02, 3.98996957e+02, 2.23998291e+02,\n",
       "       2.00665136e+02, 1.39998932e+02, 1.07332515e+02, 1.00332568e+02,\n",
       "       7.46660971e+01, 4.66663107e+01, 5.59995729e+01, 3.73330486e+01,\n",
       "       5.83328884e+01, 2.09998398e+01, 3.03331020e+01, 2.09998398e+01,\n",
       "       1.63332088e+01, 1.16665777e+01])"
      ]
     },
     "execution_count": 231,
     "metadata": {},
     "output_type": "execute_result"
    }
   ],
   "source": [
    "scale = sum(modified)/sum(nominal)\n",
    "modified/scale"
   ]
  },
  {
   "cell_type": "code",
   "execution_count": 232,
   "metadata": {},
   "outputs": [
    {
     "data": {
      "text/plain": [
       "array([3.32001922e+02, 3.51335718e+02, 2.76003204e+02, 4.05003577e+02,\n",
       "       5.69337320e+02, 5.36005019e+02, 5.10339616e+02, 9.43339562e+02,\n",
       "       9.96008116e+02, 1.19167630e+03, 1.43534554e+03, 2.07001484e+03,\n",
       "       2.27901778e+03, 2.89135740e+03, 3.67736338e+03, 4.97937053e+03,\n",
       "       6.80538238e+03, 8.96839856e+03, 1.19044233e+04, 1.64974555e+04,\n",
       "       2.17738322e+04, 2.95002222e+04, 3.65396180e+04, 4.34009936e+04,\n",
       "       4.43220057e+04, 3.85203019e+04, 2.89275517e+04, 1.78041335e+04,\n",
       "       9.65940470e+03, 4.52170385e+03, 2.34535312e+03, 1.58834410e+03,\n",
       "       9.84339616e+02, 5.67671063e+02, 3.77003043e+02, 3.94001709e+02,\n",
       "       1.93334864e+02, 1.54001068e+02, 1.32667485e+02, 4.16674320e+01,\n",
       "       5.73339029e+01, 6.53336893e+01, 1.60004271e+01, 2.66669514e+01,\n",
       "       9.66711160e+00, 1.70001602e+01, 1.66689803e+00, 1.00016018e+00,\n",
       "       2.36667912e+01, 2.43334223e+01])"
      ]
     },
     "execution_count": 232,
     "metadata": {},
     "output_type": "execute_result"
    }
   ],
   "source": [
    "2*nominal - modified / scale"
   ]
  },
  {
   "cell_type": "markdown",
   "metadata": {},
   "source": [
    "Can you explain the origin of these formulae?"
   ]
  },
  {
   "cell_type": "markdown",
   "metadata": {},
   "source": [
    "### Bonus: Also check the variations for the PID systematics"
   ]
  },
  {
   "attachments": {},
   "cell_type": "markdown",
   "metadata": {},
   "source": [
    "# Performing statistical inference"
   ]
  },
  {
   "attachments": {},
   "cell_type": "markdown",
   "metadata": {},
   "source": [
    "To perform inference, we need two things: a probability density function (pdf), or `model`, and data to fit it to. Both are derived from the workspace specification."
   ]
  },
  {
   "cell_type": "code",
   "execution_count": 210,
   "metadata": {},
   "outputs": [
    {
     "name": "stderr",
     "output_type": "stream",
     "text": [
      "INFO - pyhf.workspace - Validating spec against schema: workspace.json\n",
      "INFO - pyhf.pdf - Validating spec against schema: model.json\n",
      "INFO - pyhf.pdf - adding modifier TrackingEfficiency (1 new nuisance parameters)\n",
      "INFO - pyhf.pdf - adding modifier Signal_norm (1 new nuisance parameters)\n",
      "INFO - pyhf.pdf - adding modifier qqbar_norm (1 new nuisance parameters)\n",
      "INFO - pyhf.pdf - adding modifier staterror_signal_region (50 new nuisance parameters)\n"
     ]
    }
   ],
   "source": [
    "model, data = cabinetry.model_utils.model_and_data(spec)"
   ]
  },
  {
   "attachments": {},
   "cell_type": "markdown",
   "metadata": {},
   "source": [
    "We see that all the modifiers that we defined for our model appear here."
   ]
  },
  {
   "attachments": {},
   "cell_type": "markdown",
   "metadata": {},
   "source": [
    "## Maximum likelihood estimate (MLE)\n",
    "\n",
    "Let's fit our model to data to obtain the maximum likelihood estimate (MLE)."
   ]
  },
  {
   "cell_type": "code",
   "execution_count": 211,
   "metadata": {},
   "outputs": [
    {
     "data": {
      "text/plain": [
       "array([1.02216422, 1.01961026, 0.42311191, 1.02629094, 0.98312767,\n",
       "       1.0068405 , 0.99057198, 1.00248172, 1.00711872, 0.99289874,\n",
       "       1.00417137, 1.00562648, 1.0019239 , 0.99809295, 1.00353736,\n",
       "       0.99985803, 1.00455481, 0.99668291, 0.996129  , 0.99921413,\n",
       "       1.0011687 , 1.00153024, 0.99980204, 1.00031648, 1.00011078,\n",
       "       0.99982108, 1.00003426, 0.99996708, 0.99966345, 1.00036286,\n",
       "       0.99952768, 1.00006719, 0.99945266, 0.99988859, 0.99270495,\n",
       "       1.01392239, 1.001524  , 0.99862613, 0.97311184, 1.0026256 ,\n",
       "       0.97131646, 0.99329157, 0.96886342, 0.97112519, 1.03498709,\n",
       "       1.0070403 , 1.01887638, 1.01819309, 0.99629741, 1.01681957,\n",
       "       1.06366967, 0.96108649, 0.96772368])"
      ]
     },
     "execution_count": 211,
     "metadata": {},
     "output_type": "execute_result"
    }
   ],
   "source": [
    "pyhf.set_backend('numpy','scipy')\n",
    "parameters = pyhf.infer.mle.fit(data=data, pdf=model)\n",
    "parameters"
   ]
  },
  {
   "cell_type": "code",
   "execution_count": 212,
   "metadata": {},
   "outputs": [
    {
     "name": "stderr",
     "output_type": "stream",
     "text": [
      "INFO - cabinetry.fit - performing maximum likelihood fit\n",
      "INFO - cabinetry.fit - Migrad status:\n",
      "┌─────────────────────────────────────────────────────────────────────────┐\n",
      "│                                Migrad                                   │\n",
      "├──────────────────────────────────┬──────────────────────────────────────┤\n",
      "│ FCN = 161                        │             Nfcn = 3493              │\n",
      "│ EDM = 1.91e-08 (Goal: 0.0002)    │                                      │\n",
      "├──────────────────────────────────┼──────────────────────────────────────┤\n",
      "│          Valid Minimum           │   Below EDM threshold (goal x 10)    │\n",
      "├──────────────────────────────────┼──────────────────────────────────────┤\n",
      "│      No parameters at limit      │           Below call limit           │\n",
      "├──────────────────────────────────┼──────────────────────────────────────┤\n",
      "│             Hesse ok             │         Covariance accurate          │\n",
      "└──────────────────────────────────┴──────────────────────────────────────┘\n",
      "DEBUG - cabinetry.fit - -2 log(L) = 161.005073 at best-fit point\n",
      "INFO - cabinetry.fit - fit results (with symmetric uncertainties):\n",
      "INFO - cabinetry.fit - TrackingEfficiency          =  1.0222 +/- 0.1628\n",
      "INFO - cabinetry.fit - Signal_norm                 =  1.0196 +/- 0.1409\n",
      "INFO - cabinetry.fit - qqbar_norm                  =  0.4231 +/- 0.0108\n",
      "INFO - cabinetry.fit - staterror_signal_region[0]  =  1.0263 +/- 0.0299\n",
      "INFO - cabinetry.fit - staterror_signal_region[1]  =  0.9831 +/- 0.0289\n",
      "INFO - cabinetry.fit - staterror_signal_region[2]  =  1.0068 +/- 0.0284\n",
      "INFO - cabinetry.fit - staterror_signal_region[3]  =  0.9906 +/- 0.0272\n",
      "INFO - cabinetry.fit - staterror_signal_region[4]  =  1.0025 +/- 0.0261\n",
      "INFO - cabinetry.fit - staterror_signal_region[5]  =  1.0071 +/- 0.0253\n",
      "INFO - cabinetry.fit - staterror_signal_region[6]  =  0.9929 +/- 0.0247\n",
      "INFO - cabinetry.fit - staterror_signal_region[7]  =  1.0042 +/- 0.0232\n",
      "INFO - cabinetry.fit - staterror_signal_region[8]  =  1.0056 +/- 0.0215\n",
      "INFO - cabinetry.fit - staterror_signal_region[9]  =  1.0019 +/- 0.0205\n",
      "INFO - cabinetry.fit - staterror_signal_region[10] =  0.9981 +/- 0.0190\n",
      "INFO - cabinetry.fit - staterror_signal_region[11] =  1.0035 +/- 0.0172\n",
      "INFO - cabinetry.fit - staterror_signal_region[12] =  0.9999 +/- 0.0160\n",
      "INFO - cabinetry.fit - staterror_signal_region[13] =  1.0046 +/- 0.0143\n",
      "INFO - cabinetry.fit - staterror_signal_region[14] =  0.9967 +/- 0.0130\n",
      "INFO - cabinetry.fit - staterror_signal_region[15] =  0.9961 +/- 0.0115\n",
      "INFO - cabinetry.fit - staterror_signal_region[16] =  0.9992 +/- 0.0102\n",
      "INFO - cabinetry.fit - staterror_signal_region[17] =  1.0012 +/- 0.0089\n",
      "INFO - cabinetry.fit - staterror_signal_region[18] =  1.0015 +/- 0.0076\n",
      "INFO - cabinetry.fit - staterror_signal_region[19] =  0.9998 +/- 0.0066\n",
      "INFO - cabinetry.fit - staterror_signal_region[20] =  1.0003 +/- 0.0057\n",
      "INFO - cabinetry.fit - staterror_signal_region[21] =  1.0001 +/- 0.0050\n",
      "INFO - cabinetry.fit - staterror_signal_region[22] =  0.9998 +/- 0.0045\n",
      "INFO - cabinetry.fit - staterror_signal_region[23] =  1.0000 +/- 0.0041\n",
      "INFO - cabinetry.fit - staterror_signal_region[24] =  1.0000 +/- 0.0041\n",
      "INFO - cabinetry.fit - staterror_signal_region[25] =  0.9997 +/- 0.0044\n",
      "INFO - cabinetry.fit - staterror_signal_region[26] =  1.0004 +/- 0.0050\n",
      "INFO - cabinetry.fit - staterror_signal_region[27] =  0.9995 +/- 0.0063\n",
      "INFO - cabinetry.fit - staterror_signal_region[28] =  1.0001 +/- 0.0085\n",
      "INFO - cabinetry.fit - staterror_signal_region[29] =  0.9995 +/- 0.0119\n",
      "INFO - cabinetry.fit - staterror_signal_region[30] =  0.9999 +/- 0.0160\n",
      "INFO - cabinetry.fit - staterror_signal_region[31] =  0.9927 +/- 0.0201\n",
      "INFO - cabinetry.fit - staterror_signal_region[32] =  1.0139 +/- 0.0250\n",
      "INFO - cabinetry.fit - staterror_signal_region[33] =  1.0015 +/- 0.0290\n",
      "INFO - cabinetry.fit - staterror_signal_region[34] =  0.9986 +/- 0.0331\n",
      "INFO - cabinetry.fit - staterror_signal_region[35] =  0.9731 +/- 0.0376\n",
      "INFO - cabinetry.fit - staterror_signal_region[36] =  1.0026 +/- 0.0403\n",
      "INFO - cabinetry.fit - staterror_signal_region[37] =  0.9713 +/- 0.0423\n",
      "INFO - cabinetry.fit - staterror_signal_region[38] =  0.9933 +/- 0.0451\n",
      "INFO - cabinetry.fit - staterror_signal_region[39] =  0.9689 +/- 0.0470\n",
      "INFO - cabinetry.fit - staterror_signal_region[40] =  0.9711 +/- 0.0492\n",
      "INFO - cabinetry.fit - staterror_signal_region[41] =  1.0350 +/- 0.0528\n",
      "INFO - cabinetry.fit - staterror_signal_region[42] =  1.0070 +/- 0.0538\n",
      "INFO - cabinetry.fit - staterror_signal_region[43] =  1.0189 +/- 0.0538\n",
      "INFO - cabinetry.fit - staterror_signal_region[44] =  1.0182 +/- 0.0538\n",
      "INFO - cabinetry.fit - staterror_signal_region[45] =  0.9963 +/- 0.0563\n",
      "INFO - cabinetry.fit - staterror_signal_region[46] =  1.0168 +/- 0.0565\n",
      "INFO - cabinetry.fit - staterror_signal_region[47] =  1.0637 +/- 0.0610\n",
      "INFO - cabinetry.fit - staterror_signal_region[48] =  0.9611 +/- 0.0593\n",
      "INFO - cabinetry.fit - staterror_signal_region[49] =  0.9677 +/- 0.0575\n"
     ]
    }
   ],
   "source": [
    "fit_results = cabinetry.fit.fit(model, data, init_pars=list(parameters))"
   ]
  },
  {
   "attachments": {},
   "cell_type": "markdown",
   "metadata": {},
   "source": [
    "The fit converged, and we see the best-fit parameter results reported. The results are stored in a named tuple. This allows for easy access of the results. "
   ]
  },
  {
   "cell_type": "code",
   "execution_count": 213,
   "metadata": {},
   "outputs": [
    {
     "name": "stdout",
     "output_type": "stream",
     "text": [
      "TrackingEfficiency: 1.022 +/- 0.163\n",
      "Signal_norm: 1.020 +/- 0.141\n",
      "qqbar_norm: 0.423 +/- 0.011\n",
      "staterror_signal_region[0]: 1.026 +/- 0.030\n",
      "staterror_signal_region[1]: 0.983 +/- 0.029\n",
      "staterror_signal_region[2]: 1.007 +/- 0.028\n",
      "staterror_signal_region[3]: 0.991 +/- 0.027\n",
      "staterror_signal_region[4]: 1.002 +/- 0.026\n",
      "staterror_signal_region[5]: 1.007 +/- 0.025\n",
      "staterror_signal_region[6]: 0.993 +/- 0.025\n",
      "staterror_signal_region[7]: 1.004 +/- 0.023\n",
      "staterror_signal_region[8]: 1.006 +/- 0.021\n",
      "staterror_signal_region[9]: 1.002 +/- 0.020\n",
      "staterror_signal_region[10]: 0.998 +/- 0.019\n",
      "staterror_signal_region[11]: 1.004 +/- 0.017\n",
      "staterror_signal_region[12]: 1.000 +/- 0.016\n",
      "staterror_signal_region[13]: 1.005 +/- 0.014\n",
      "staterror_signal_region[14]: 0.997 +/- 0.013\n",
      "staterror_signal_region[15]: 0.996 +/- 0.012\n",
      "staterror_signal_region[16]: 0.999 +/- 0.010\n",
      "staterror_signal_region[17]: 1.001 +/- 0.009\n",
      "staterror_signal_region[18]: 1.002 +/- 0.008\n",
      "staterror_signal_region[19]: 1.000 +/- 0.007\n",
      "staterror_signal_region[20]: 1.000 +/- 0.006\n",
      "staterror_signal_region[21]: 1.000 +/- 0.005\n",
      "staterror_signal_region[22]: 1.000 +/- 0.004\n",
      "staterror_signal_region[23]: 1.000 +/- 0.004\n",
      "staterror_signal_region[24]: 1.000 +/- 0.004\n",
      "staterror_signal_region[25]: 1.000 +/- 0.004\n",
      "staterror_signal_region[26]: 1.000 +/- 0.005\n",
      "staterror_signal_region[27]: 1.000 +/- 0.006\n",
      "staterror_signal_region[28]: 1.000 +/- 0.009\n",
      "staterror_signal_region[29]: 0.999 +/- 0.012\n",
      "staterror_signal_region[30]: 1.000 +/- 0.016\n",
      "staterror_signal_region[31]: 0.993 +/- 0.020\n",
      "staterror_signal_region[32]: 1.014 +/- 0.025\n",
      "staterror_signal_region[33]: 1.002 +/- 0.029\n",
      "staterror_signal_region[34]: 0.999 +/- 0.033\n",
      "staterror_signal_region[35]: 0.973 +/- 0.038\n",
      "staterror_signal_region[36]: 1.003 +/- 0.040\n",
      "staterror_signal_region[37]: 0.971 +/- 0.042\n",
      "staterror_signal_region[38]: 0.993 +/- 0.045\n",
      "staterror_signal_region[39]: 0.969 +/- 0.047\n",
      "staterror_signal_region[40]: 0.971 +/- 0.049\n",
      "staterror_signal_region[41]: 1.035 +/- 0.053\n",
      "staterror_signal_region[42]: 1.007 +/- 0.054\n",
      "staterror_signal_region[43]: 1.019 +/- 0.054\n",
      "staterror_signal_region[44]: 1.018 +/- 0.054\n",
      "staterror_signal_region[45]: 0.996 +/- 0.056\n",
      "staterror_signal_region[46]: 1.017 +/- 0.056\n",
      "staterror_signal_region[47]: 1.064 +/- 0.061\n",
      "staterror_signal_region[48]: 0.961 +/- 0.059\n",
      "staterror_signal_region[49]: 0.968 +/- 0.058\n"
     ]
    }
   ],
   "source": [
    "for label, result, unc in zip(fit_results.labels, fit_results.bestfit, fit_results.uncertainty):\n",
    "    print(f\"{label}: {result:.3f} +/- {unc:.3f}\")"
   ]
  },
  {
   "attachments": {},
   "cell_type": "markdown",
   "metadata": {},
   "source": [
    "It is helpful to visualize the fit results. Let's start with the pull plot showing us best-fit parameter results."
   ]
  },
  {
   "cell_type": "code",
   "execution_count": 214,
   "metadata": {},
   "outputs": [
    {
     "name": "stderr",
     "output_type": "stream",
     "text": [
      "INFO - cabinetry.visualize.utils - saving figure as figures/pulls.pdf\n"
     ]
    },
    {
     "data": {
      "image/png": "[encoded data removed]",
      "text/plain": [
       "<Figure size 600x175 with 1 Axes>"
      ]
     },
     "execution_count": 214,
     "metadata": {},
     "output_type": "execute_result"
    }
   ],
   "source": [
    "cabinetry.visualize.pulls(fit_results)"
   ]
  },
  {
   "attachments": {},
   "cell_type": "markdown",
   "metadata": {},
   "source": [
    "The parameter correlation matrix has a handy `pruning_threshold` setting to filter out parameters that are not highly correlated with others."
   ]
  },
  {
   "cell_type": "code",
   "execution_count": 215,
   "metadata": {},
   "outputs": [
    {
     "name": "stderr",
     "output_type": "stream",
     "text": [
      "INFO - cabinetry.visualize.utils - saving figure as figures/correlation_matrix.pdf\n"
     ]
    },
    {
     "data": {
      "image/png": "[encoded data removed]",
      "text/plain": [
       "<Figure size 750x550 with 2 Axes>"
      ]
     },
     "execution_count": 215,
     "metadata": {},
     "output_type": "execute_result"
    }
   ],
   "source": [
    "cabinetry.visualize.correlation_matrix(fit_results, pruning_threshold=0.2)"
   ]
  },
  {
   "attachments": {},
   "cell_type": "markdown",
   "metadata": {},
   "source": [
    "Let us look at the post-fit result. This is as easy as passing `fit_results` to `cabinetry.model_utils.prediction`."
   ]
  },
  {
   "cell_type": "code",
   "execution_count": 216,
   "metadata": {},
   "outputs": [
    {
     "name": "stderr",
     "output_type": "stream",
     "text": [
      "INFO - cabinetry.visualize.utils - saving figure as figures/signal_region_postfit_log.pdf\n"
     ]
    },
    {
     "data": {
      "image/png": "[encoded data removed]",
      "text/plain": [
       "<Figure size 600x600 with 2 Axes>"
      ]
     },
     "metadata": {},
     "output_type": "display_data"
    }
   ],
   "source": [
    "model_pred_postfit = cabinetry.model_utils.prediction(model, fit_results=fit_results)\n",
    "_ = cabinetry.visualize.data_mc(model_pred_postfit, data, config=config)"
   ]
  },
  {
   "attachments": {},
   "cell_type": "markdown",
   "metadata": {},
   "source": [
    "\n",
    "\n",
    "Yield tables can also be created from a model prediction, and compared to data. Optional keyword arguments control whether yields per bin are shown (`per_bin=True`, default) and whether bins summed per region are shown (`per_channel=True`, disabled by default). The yield table is also saved to disk by default, in a format customizable via the `table_format` argument.\n",
    "\n"
   ]
  },
  {
   "cell_type": "code",
   "execution_count": 217,
   "metadata": {},
   "outputs": [
    {
     "name": "stderr",
     "output_type": "stream",
     "text": [
      "INFO - cabinetry.tabulate - yields per bin for pre-fit model prediction:\n",
      "╒══════════╤═════════════════╤═════════════════╤═════════════════╤═════════════════╤══════════════════╤══════════════════╤══════════════════╤══════════════════╤══════════════════╤══════════════════╤══════════════════╤═══════════════════╤═══════════════════╤═══════════════════╤═══════════════════╤═══════════════════╤═══════════════════╤═══════════════════╤════════════════════╤════════════════════╤═════════════════════╤═════════════════════╤═════════════════════╤═════════════════════╤═════════════════════╤═════════════════════╤═════════════════════╤═════════════════════╤═══════════════════╤═══════════════════╤═══════════════════╤══════════════════╤══════════════════╤═════════════════╤═════════════════╤═════════════════╤═════════════════╤════════════════╤════════════════╤════════════════╤════════════════╤════════════════╤════════════════╤════════════════╤════════════════╤════════════════╤════════════════╤════════════════╤════════════════╤════════════════╕\n",
      "│ sample   │ signal_region   │                 │                 │                 │                  │                  │                  │                  │                  │                  │                  │                   │                   │                   │                   │                   │                   │                   │                    │                    │                     │                     │                     │                     │                     │                     │                     │                     │                   │                   │                   │                  │                  │                 │                 │                 │                 │                │                │                │                │                │                │                │                │                │                │                │                │                │\n",
      "│          │ bin 1           │ bin 2           │ bin 3           │ bin 4           │ bin 5            │ bin 6            │ bin 7            │ bin 8            │ bin 9            │ bin 10           │ bin 11           │ bin 12            │ bin 13            │ bin 14            │ bin 15            │ bin 16            │ bin 17            │ bin 18            │ bin 19             │ bin 20             │ bin 21              │ bin 22              │ bin 23              │ bin 24              │ bin 25              │ bin 26              │ bin 27              │ bin 28              │ bin 29            │ bin 30            │ bin 31            │ bin 32           │ bin 33           │ bin 34          │ bin 35          │ bin 36          │ bin 37          │ bin 38         │ bin 39         │ bin 40         │ bin 41         │ bin 42         │ bin 43         │ bin 44         │ bin 45         │ bin 46         │ bin 47         │ bin 48         │ bin 49         │ bin 50         │\n",
      "╞══════════╪═════════════════╪═════════════════╪═════════════════╪═════════════════╪══════════════════╪══════════════════╪══════════════════╪══════════════════╪══════════════════╪══════════════════╪══════════════════╪═══════════════════╪═══════════════════╪═══════════════════╪═══════════════════╪═══════════════════╪═══════════════════╪═══════════════════╪════════════════════╪════════════════════╪═════════════════════╪═════════════════════╪═════════════════════╪═════════════════════╪═════════════════════╪═════════════════════╪═════════════════════╪═════════════════════╪═══════════════════╪═══════════════════╪═══════════════════╪══════════════════╪══════════════════╪═════════════════╪═════════════════╪═════════════════╪═════════════════╪════════════════╪════════════════╪════════════════╪════════════════╪════════════════╪════════════════╪════════════════╪════════════════╪════════════════╪════════════════╪════════════════╪════════════════╪════════════════╡\n",
      "│ Signal   │ 292.00 ± 207.11 │ 332.00 ± 209.35 │ 348.00 ± 127.40 │ 437.00 ± 218.17 │ 546.00 ± 335.76  │ 597.00 ± 280.72  │ 667.00 ± 225.31  │ 880.00 ± 566.70  │ 1030.00 ± 555.20 │ 1227.00 ± 666.49 │ 1518.00 ± 785.52 │ 2008.00 ± 1210.13 │ 2305.00 ± 1291.91 │ 3023.00 ± 1596.60 │ 3808.00 ± 2046.19 │ 4928.00 ± 2868.14 │ 6618.00 ± 3969.86 │ 8760.00 ± 5214.89 │ 11852.00 ± 6825.80 │ 16259.00 ± 9530.09 │ 21738.00 ± 12458.33 │ 29317.00 ± 16936.55 │ 36927.00 ± 20714.52 │ 43132.00 ± 24916.57 │ 44387.00 ± 25299.73 │ 39049.00 ± 21785.78 │ 28781.00 ± 16593.60 │ 17652.00 ± 10239.78 │ 9508.00 ± 5585.34 │ 4698.00 ± 2509.14 │ 2470.00 ± 1287.63 │ 1500.00 ± 946.14 │ 904.00 ± 597.49  │ 572.00 ± 323.13 │ 388.00 ± 211.27 │ 309.00 ± 261.90 │ 197.00 ± 109.32 │ 147.00 ± 91.29 │ 120.00 ± 81.49 │ 71.00 ± 11.92  │ 66.00 ± 29.30  │ 56.00 ± 41.48  │ 36.00 ± 2.39   │ 32.00 ± 13.11  │ 34.00 ± 5.38   │ 19.00 ± 8.95   │ 16.00 ± 5.30   │ 11.00 ± 3.80   │ 20.00 ± 15.16  │ 18.00 ± 16.66  │\n",
      "├──────────┼─────────────────┼─────────────────┼─────────────────┼─────────────────┼──────────────────┼──────────────────┼──────────────────┼──────────────────┼──────────────────┼──────────────────┼──────────────────┼───────────────────┼───────────────────┼───────────────────┼───────────────────┼───────────────────┼───────────────────┼───────────────────┼────────────────────┼────────────────────┼─────────────────────┼─────────────────────┼─────────────────────┼─────────────────────┼─────────────────────┼─────────────────────┼─────────────────────┼─────────────────────┼───────────────────┼───────────────────┼───────────────────┼──────────────────┼──────────────────┼─────────────────┼─────────────────┼─────────────────┼─────────────────┼────────────────┼────────────────┼────────────────┼────────────────┼────────────────┼────────────────┼────────────────┼────────────────┼────────────────┼────────────────┼────────────────┼────────────────┼────────────────┤\n",
      "│ qqbar    │ 526.00 ± 18.39  │ 548.00 ± 18.47  │ 528.00 ± 17.84  │ 526.00 ± 16.95  │ 509.00 ± 15.67   │ 503.00 ± 15.17   │ 529.00 ± 15.30   │ 476.00 ± 12.93   │ 494.00 ± 12.65   │ 453.00 ± 11.05   │ 440.00 ± 9.94    │ 404.00 ± 8.23     │ 427.00 ± 8.17     │ 435.00 ± 7.40     │ 406.00 ± 6.25     │ 434.00 ± 5.93     │ 399.00 ± 4.76     │ 351.00 ± 3.68     │ 370.00 ± 3.35      │ 370.00 ± 2.87      │ 372.00 ± 2.50       │ 331.00 ± 1.92       │ 330.00 ± 1.71       │ 297.00 ± 1.43       │ 341.00 ± 1.61       │ 343.00 ± 1.73       │ 306.00 ± 1.79       │ 335.00 ± 2.50       │ 300.00 ± 3.03     │ 300.00 ± 4.24     │ 292.00 ± 5.56     │ 307.00 ± 7.22    │ 266.00 ± 7.78    │ 267.00 ± 9.22   │ 253.00 ± 9.99   │ 250.00 ± 10.57  │ 237.00 ± 11.38  │ 258.00 ± 12.82 │ 235.00 ± 12.47 │ 248.00 ± 13.89 │ 229.00 ± 13.33 │ 199.00 ± 12.46 │ 204.00 ± 13.17 │ 211.00 ± 13.54 │ 204.00 ± 13.22 │ 206.00 ± 13.73 │ 202.00 ± 13.68 │ 173.00 ± 12.75 │ 187.00 ± 13.00 │ 203.00 ± 13.66 │\n",
      "├──────────┼─────────────────┼─────────────────┼─────────────────┼─────────────────┼──────────────────┼──────────────────┼──────────────────┼──────────────────┼──────────────────┼──────────────────┼──────────────────┼───────────────────┼───────────────────┼───────────────────┼───────────────────┼───────────────────┼───────────────────┼───────────────────┼────────────────────┼────────────────────┼─────────────────────┼─────────────────────┼─────────────────────┼─────────────────────┼─────────────────────┼─────────────────────┼─────────────────────┼─────────────────────┼───────────────────┼───────────────────┼───────────────────┼──────────────────┼──────────────────┼─────────────────┼─────────────────┼─────────────────┼─────────────────┼────────────────┼────────────────┼────────────────┼────────────────┼────────────────┼────────────────┼────────────────┼────────────────┼────────────────┼────────────────┼────────────────┼────────────────┼────────────────┤\n",
      "│ total    │ 818.00 ± 208.83 │ 880.00 ± 211.14 │ 876.00 ± 130.27 │ 963.00 ± 219.92 │ 1055.00 ± 336.90 │ 1100.00 ± 282.10 │ 1196.00 ± 227.13 │ 1356.00 ± 567.39 │ 1524.00 ± 555.95 │ 1680.00 ± 667.08 │ 1958.00 ± 786.02 │ 2412.00 ± 1210.43 │ 2732.00 ± 1292.21 │ 3458.00 ± 1596.86 │ 4214.00 ± 2046.38 │ 5362.00 ± 2868.29 │ 7017.00 ± 3969.96 │ 9111.00 ± 5214.96 │ 12222.00 ± 6825.85 │ 16629.00 ± 9530.13 │ 22110.00 ± 12458.36 │ 29648.00 ± 16936.57 │ 37257.00 ± 20714.54 │ 43429.00 ± 24916.58 │ 44728.00 ± 25299.74 │ 39392.00 ± 21785.79 │ 29087.00 ± 16593.62 │ 17987.00 ± 10239.81 │ 9808.00 ± 5585.39 │ 4998.00 ± 2509.26 │ 2762.00 ± 1287.85 │ 1807.00 ± 946.44 │ 1170.00 ± 597.89 │ 839.00 ± 323.82 │ 641.00 ± 212.23 │ 559.00 ± 262.64 │ 434.00 ± 110.88 │ 405.00 ± 93.20 │ 355.00 ± 83.39 │ 319.00 ± 21.10 │ 295.00 ± 33.75 │ 255.00 ± 44.31 │ 240.00 ± 15.50 │ 243.00 ± 20.27 │ 238.00 ± 16.19 │ 225.00 ± 17.42 │ 218.00 ± 15.65 │ 184.00 ± 14.06 │ 207.00 ± 20.85 │ 221.00 ± 22.30 │\n",
      "├──────────┼─────────────────┼─────────────────┼─────────────────┼─────────────────┼──────────────────┼──────────────────┼──────────────────┼──────────────────┼──────────────────┼──────────────────┼──────────────────┼───────────────────┼───────────────────┼───────────────────┼───────────────────┼───────────────────┼───────────────────┼───────────────────┼────────────────────┼────────────────────┼─────────────────────┼─────────────────────┼─────────────────────┼─────────────────────┼─────────────────────┼─────────────────────┼─────────────────────┼─────────────────────┼───────────────────┼───────────────────┼───────────────────┼──────────────────┼──────────────────┼─────────────────┼─────────────────┼─────────────────┼─────────────────┼────────────────┼────────────────┼────────────────┼────────────────┼────────────────┼────────────────┼────────────────┼────────────────┼────────────────┼────────────────┼────────────────┼────────────────┼────────────────┤\n",
      "│ data     │ 361.00          │ 345.00          │ 413.00          │ 411.00          │ 443.00           │ 507.00           │ 566.00           │ 559.00           │ 678.00           │ 738.00           │ 868.00           │ 1017.00           │ 1180.00           │ 1561.00           │ 1842.00           │ 2245.00           │ 2917.00           │ 3829.00           │ 5243.00            │ 7020.00            │ 9474.00             │ 12637.00            │ 16136.00            │ 18507.00            │ 19206.00            │ 17104.00            │ 12423.00            │ 7633.00             │ 4139.00           │ 2215.00           │ 1237.00           │ 716.00           │ 488.00           │ 362.00          │ 277.00          │ 181.00          │ 188.00          │ 153.00         │ 142.00         │ 134.00         │ 117.00         │ 117.00         │ 113.00         │ 112.00         │ 118.00         │ 95.00          │ 104.00         │ 100.00         │ 75.00          │ 81.00          │\n",
      "╘══════════╧═════════════════╧═════════════════╧═════════════════╧═════════════════╧══════════════════╧══════════════════╧══════════════════╧══════════════════╧══════════════════╧══════════════════╧══════════════════╧═══════════════════╧═══════════════════╧═══════════════════╧═══════════════════╧═══════════════════╧═══════════════════╧═══════════════════╧════════════════════╧════════════════════╧═════════════════════╧═════════════════════╧═════════════════════╧═════════════════════╧═════════════════════╧═════════════════════╧═════════════════════╧═════════════════════╧═══════════════════╧═══════════════════╧═══════════════════╧══════════════════╧══════════════════╧═════════════════╧═════════════════╧═════════════════╧═════════════════╧════════════════╧════════════════╧════════════════╧════════════════╧════════════════╧════════════════╧════════════════╧════════════════╧════════════════╧════════════════╧════════════════╧════════════════╧════════════════╛\n",
      "INFO - cabinetry.tabulate - saving table as tables/yields_per_bin_pre-fit.txt\n"
     ]
    }
   ],
   "source": [
    "model_pred = cabinetry.model_utils.prediction(model)\n",
    "_ = cabinetry.tabulate.yields(model_pred, data)"
   ]
  },
  {
   "attachments": {},
   "cell_type": "markdown",
   "metadata": {},
   "source": [
    "# More advanced features"
   ]
  },
  {
   "cell_type": "code",
   "execution_count": 218,
   "metadata": {},
   "outputs": [
    {
     "name": "stderr",
     "output_type": "stream",
     "text": [
      "INFO - cabinetry.fit - performing maximum likelihood fit\n"
     ]
    },
    {
     "name": "stdout",
     "output_type": "stream",
     "text": [
      "W VariableMetricBuilder No improvement in line search\n"
     ]
    },
    {
     "name": "stderr",
     "output_type": "stream",
     "text": [
      "INFO - cabinetry.fit - Migrad status:\n",
      "┌─────────────────────────────────────────────────────────────────────────┐\n",
      "│                                Migrad                                   │\n",
      "├──────────────────────────────────┬──────────────────────────────────────┤\n",
      "│ FCN = 185.6                      │             Nfcn = 3528              │\n",
      "│ EDM = 3.52e-09 (Goal: 0.0002)    │                                      │\n",
      "├──────────────────────────────────┼──────────────────────────────────────┤\n",
      "│          Valid Minimum           │   Below EDM threshold (goal x 10)    │\n",
      "├──────────────────────────────────┼──────────────────────────────────────┤\n",
      "│      No parameters at limit      │           Below call limit           │\n",
      "├──────────────────────────────────┼──────────────────────────────────────┤\n",
      "│             Hesse ok             │         Covariance accurate          │\n",
      "└──────────────────────────────────┴──────────────────────────────────────┘\n",
      "DEBUG - cabinetry.fit - -2 log(L) = 185.637724 at best-fit point\n",
      "INFO - cabinetry.fit - fit results (with symmetric uncertainties):\n",
      "INFO - cabinetry.fit - TrackingEfficiency          =  0.0000 +/- 0.0368\n",
      "INFO - cabinetry.fit - Signal_norm                 =  1.0000 +/- 0.0223\n",
      "INFO - cabinetry.fit - qqbar_norm                  =  1.0000 +/- 0.0193\n",
      "INFO - cabinetry.fit - staterror_signal_region[0]  =  1.0000 +/- 0.0255\n",
      "INFO - cabinetry.fit - staterror_signal_region[1]  =  1.0000 +/- 0.0246\n",
      "INFO - cabinetry.fit - staterror_signal_region[2]  =  1.0000 +/- 0.0246\n",
      "INFO - cabinetry.fit - staterror_signal_region[3]  =  1.0000 +/- 0.0234\n",
      "INFO - cabinetry.fit - staterror_signal_region[4]  =  1.0000 +/- 0.0222\n",
      "INFO - cabinetry.fit - staterror_signal_region[5]  =  1.0000 +/- 0.0218\n",
      "INFO - cabinetry.fit - staterror_signal_region[6]  =  1.0000 +/- 0.0210\n",
      "INFO - cabinetry.fit - staterror_signal_region[7]  =  1.0000 +/- 0.0195\n",
      "INFO - cabinetry.fit - staterror_signal_region[8]  =  1.0000 +/- 0.0184\n",
      "INFO - cabinetry.fit - staterror_signal_region[9]  =  1.0000 +/- 0.0174\n",
      "INFO - cabinetry.fit - staterror_signal_region[10] =  1.0000 +/- 0.0161\n",
      "INFO - cabinetry.fit - staterror_signal_region[11] =  1.0000 +/- 0.0145\n",
      "INFO - cabinetry.fit - staterror_signal_region[12] =  1.0000 +/- 0.0136\n",
      "INFO - cabinetry.fit - staterror_signal_region[13] =  1.0000 +/- 0.0121\n",
      "INFO - cabinetry.fit - staterror_signal_region[14] =  1.0000 +/- 0.0110\n",
      "INFO - cabinetry.fit - staterror_signal_region[15] =  1.0000 +/- 0.0097\n",
      "INFO - cabinetry.fit - staterror_signal_region[16] =  1.0000 +/- 0.0085\n",
      "INFO - cabinetry.fit - staterror_signal_region[17] =  1.0000 +/- 0.0075\n",
      "INFO - cabinetry.fit - staterror_signal_region[18] =  1.0000 +/- 0.0065\n",
      "INFO - cabinetry.fit - staterror_signal_region[19] =  1.0000 +/- 0.0056\n",
      "INFO - cabinetry.fit - staterror_signal_region[20] =  1.0000 +/- 0.0049\n",
      "INFO - cabinetry.fit - staterror_signal_region[21] =  1.0000 +/- 0.0043\n",
      "INFO - cabinetry.fit - staterror_signal_region[22] =  1.0000 +/- 0.0039\n",
      "INFO - cabinetry.fit - staterror_signal_region[23] =  1.0000 +/- 0.0036\n",
      "INFO - cabinetry.fit - staterror_signal_region[24] =  1.0000 +/- 0.0036\n",
      "INFO - cabinetry.fit - staterror_signal_region[25] =  1.0000 +/- 0.0038\n",
      "INFO - cabinetry.fit - staterror_signal_region[26] =  1.0000 +/- 0.0043\n",
      "INFO - cabinetry.fit - staterror_signal_region[27] =  1.0000 +/- 0.0054\n",
      "INFO - cabinetry.fit - staterror_signal_region[28] =  1.0000 +/- 0.0072\n",
      "INFO - cabinetry.fit - staterror_signal_region[29] =  1.0000 +/- 0.0101\n",
      "INFO - cabinetry.fit - staterror_signal_region[30] =  1.0000 +/- 0.0135\n",
      "INFO - cabinetry.fit - staterror_signal_region[31] =  1.0000 +/- 0.0168\n",
      "INFO - cabinetry.fit - staterror_signal_region[32] =  1.0000 +/- 0.0208\n",
      "INFO - cabinetry.fit - staterror_signal_region[33] =  1.0000 +/- 0.0246\n",
      "INFO - cabinetry.fit - staterror_signal_region[34] =  1.0000 +/- 0.0282\n",
      "INFO - cabinetry.fit - staterror_signal_region[35] =  1.0000 +/- 0.0304\n",
      "INFO - cabinetry.fit - staterror_signal_region[36] =  1.0000 +/- 0.0343\n",
      "INFO - cabinetry.fit - staterror_signal_region[37] =  1.0000 +/- 0.0357\n",
      "INFO - cabinetry.fit - staterror_signal_region[38] =  1.0000 +/- 0.0381\n",
      "INFO - cabinetry.fit - staterror_signal_region[39] =  1.0000 +/- 0.0403\n",
      "INFO - cabinetry.fit - staterror_signal_region[40] =  1.0000 +/- 0.0418\n",
      "INFO - cabinetry.fit - staterror_signal_region[41] =  1.0000 +/- 0.0449\n",
      "INFO - cabinetry.fit - staterror_signal_region[42] =  1.0000 +/- 0.0464\n",
      "INFO - cabinetry.fit - staterror_signal_region[43] =  1.0000 +/- 0.0461\n",
      "INFO - cabinetry.fit - staterror_signal_region[44] =  1.0000 +/- 0.0466\n",
      "INFO - cabinetry.fit - staterror_signal_region[45] =  1.0000 +/- 0.0480\n",
      "INFO - cabinetry.fit - staterror_signal_region[46] =  1.0000 +/- 0.0487\n",
      "INFO - cabinetry.fit - staterror_signal_region[47] =  1.0000 +/- 0.0529\n",
      "INFO - cabinetry.fit - staterror_signal_region[48] =  1.0000 +/- 0.0499\n",
      "INFO - cabinetry.fit - staterror_signal_region[49] =  1.0000 +/- 0.0484\n"
     ]
    }
   ],
   "source": [
    "asimov_data = cabinetry.model_utils.asimov_data(model)\n",
    "_ = cabinetry.fit.fit(model, asimov_data)"
   ]
  },
  {
   "cell_type": "code",
   "execution_count": 219,
   "metadata": {},
   "outputs": [
    {
     "data": {
      "text/plain": [
       "[818.0,\n",
       " 880.0,\n",
       " 876.0,\n",
       " 963.0,\n",
       " 1055.0,\n",
       " 1100.0,\n",
       " 1196.0,\n",
       " 1356.0,\n",
       " 1524.0,\n",
       " 1680.0,\n",
       " 1958.0,\n",
       " 2412.0,\n",
       " 2732.0,\n",
       " 3458.0,\n",
       " 4214.0,\n",
       " 5362.0,\n",
       " 7017.0,\n",
       " 9111.0,\n",
       " 12222.0,\n",
       " 16629.0,\n",
       " 22110.0,\n",
       " 29648.0,\n",
       " 37257.0,\n",
       " 43429.0,\n",
       " 44728.0,\n",
       " 39392.0,\n",
       " 29087.0,\n",
       " 17987.0,\n",
       " 9808.0,\n",
       " 4998.0,\n",
       " 2762.0,\n",
       " 1807.0,\n",
       " 1170.0,\n",
       " 839.0,\n",
       " 641.0,\n",
       " 559.0,\n",
       " 434.0,\n",
       " 405.0,\n",
       " 355.0,\n",
       " 319.0,\n",
       " 295.0,\n",
       " 255.0,\n",
       " 240.0,\n",
       " 243.0,\n",
       " 238.0,\n",
       " 225.0,\n",
       " 218.0,\n",
       " 184.0,\n",
       " 207.0,\n",
       " 221.0,\n",
       " 0.0,\n",
       " 1.0,\n",
       " 1.0,\n",
       " 1.0,\n",
       " 1.0,\n",
       " 1.0,\n",
       " 1.0,\n",
       " 1.0,\n",
       " 1.0,\n",
       " 1.0,\n",
       " 1.0,\n",
       " 1.0,\n",
       " 1.0,\n",
       " 1.0,\n",
       " 1.0,\n",
       " 1.0,\n",
       " 1.0,\n",
       " 1.0,\n",
       " 1.0,\n",
       " 1.0,\n",
       " 1.0,\n",
       " 1.0,\n",
       " 1.0,\n",
       " 1.0,\n",
       " 1.0,\n",
       " 1.0,\n",
       " 1.0,\n",
       " 1.0,\n",
       " 1.0,\n",
       " 1.0,\n",
       " 1.0,\n",
       " 1.0,\n",
       " 1.0,\n",
       " 1.0,\n",
       " 1.0,\n",
       " 1.0,\n",
       " 1.0,\n",
       " 1.0,\n",
       " 1.0,\n",
       " 1.0,\n",
       " 1.0,\n",
       " 1.0,\n",
       " 1.0,\n",
       " 1.0,\n",
       " 1.0,\n",
       " 1.0,\n",
       " 1.0,\n",
       " 1.0,\n",
       " 1.0,\n",
       " 1.0,\n",
       " 1.0]"
      ]
     },
     "execution_count": 219,
     "metadata": {},
     "output_type": "execute_result"
    }
   ],
   "source": [
    "asimov_data"
   ]
  },
  {
   "cell_type": "code",
   "execution_count": 220,
   "metadata": {},
   "outputs": [
    {
     "name": "stderr",
     "output_type": "stream",
     "text": [
      "DEBUG - cabinetry.route -   in region signal_region\n",
      "DEBUG - cabinetry.route -     reading sample Data\n",
      "DEBUG - cabinetry.route -       variation Nominal\n",
      "DEBUG - cabinetry.histo - saving histogram to histograms_smoothing/signal_region_Data.npz\n",
      "DEBUG - cabinetry.route -     reading sample Signal\n",
      "DEBUG - cabinetry.route -       variation Nominal\n",
      "DEBUG - cabinetry.histo - saving histogram to histograms_smoothing/signal_region_Signal.npz\n",
      "DEBUG - cabinetry.route -     reading sample qqbar\n",
      "DEBUG - cabinetry.route -       variation Nominal\n",
      "DEBUG - cabinetry.histo - saving histogram to histograms_smoothing/signal_region_qqbar.npz\n",
      "DEBUG - cabinetry.route -   in region signal_region\n",
      "DEBUG - cabinetry.route -     reading sample Data\n",
      "DEBUG - cabinetry.route -       variation Nominal\n",
      "DEBUG - cabinetry.histo - saving histogram to histograms_smoothing/signal_region_Data_modified.npz\n",
      "DEBUG - cabinetry.route -     reading sample Signal\n",
      "DEBUG - cabinetry.route -       variation Nominal\n",
      "DEBUG - cabinetry.histo - saving histogram to histograms_smoothing/signal_region_Signal_modified.npz\n",
      "DEBUG - cabinetry.route -     reading sample qqbar\n",
      "DEBUG - cabinetry.route -       variation Nominal\n",
      "DEBUG - cabinetry.histo - saving histogram to histograms_smoothing/signal_region_qqbar_modified.npz\n",
      "INFO - cabinetry.visualize - visualizing systematic templates\n"
     ]
    }
   ],
   "source": [
    "import copy\n",
    "smoothing_config = copy.deepcopy(config)\n",
    "smoothing_config[\"General\"][\"HistogramFolder\"] = \"histograms_smoothing/\"\n",
    "smoothing_config.update({\n",
    "   \"Systematics\":[\n",
    "      {\n",
    "         \"Name\":\"Modeling\",\n",
    "         \"Up\": {\"SamplePath\": \"prediction.root\", \"Tree\": \"background_varied\"},\n",
    "         \"Down\": {\"Symmetrize\": True},\n",
    "         \"Samples\": \"Background\",\n",
    "         \"Smoothing\": {\"Algorithm\": \"353QH, twice\"},  # smoothing applied\n",
    "         \"Type\": \"NormPlusShape\"\n",
    "      }\n",
    "   ]\n",
    "})\n",
    "cabinetry.templates.build(smoothing_config, method=\"uproot\")\n",
    "cabinetry.templates.postprocess(smoothing_config)\n",
    "_ = cabinetry.visualize.templates(smoothing_config)"
   ]
  },
  {
   "cell_type": "code",
   "execution_count": 221,
   "metadata": {},
   "outputs": [
    {
     "name": "stderr",
     "output_type": "stream",
     "text": [
      "INFO - cabinetry.fit - Migrad status:\n",
      "┌─────────────────────────────────────────────────────────────────────────┐\n",
      "│                                Migrad                                   │\n",
      "├──────────────────────────────────┬──────────────────────────────────────┤\n",
      "│ FCN = 161                        │             Nfcn = 3493              │\n",
      "│ EDM = 1.91e-08 (Goal: 0.0002)    │                                      │\n",
      "├──────────────────────────────────┼──────────────────────────────────────┤\n",
      "│          Valid Minimum           │   Below EDM threshold (goal x 10)    │\n",
      "├──────────────────────────────────┼──────────────────────────────────────┤\n",
      "│      No parameters at limit      │           Below call limit           │\n",
      "├──────────────────────────────────┼──────────────────────────────────────┤\n",
      "│             Hesse ok             │         Covariance accurate          │\n",
      "└──────────────────────────────────┴──────────────────────────────────────┘\n",
      "DEBUG - cabinetry.fit - -2 log(L) = 161.005073 at best-fit point\n",
      "INFO - cabinetry.fit - performing likelihood scan for Signal_norm in range (0.738, 1.301) with 10 steps\n",
      "DEBUG - cabinetry.fit - performing fit with Signal_norm = 0.738\n",
      "INFO - cabinetry.fit - Migrad status:\n",
      "┌─────────────────────────────────────────────────────────────────────────┐\n",
      "│                                Migrad                                   │\n",
      "├──────────────────────────────────┬──────────────────────────────────────┤\n",
      "│ FCN = 166                        │             Nfcn = 2365              │\n",
      "│ EDM = 2.25e-05 (Goal: 0.0002)    │            time = 0.2 sec            │\n",
      "├──────────────────────────────────┼──────────────────────────────────────┤\n",
      "│          Valid Minimum           │   Below EDM threshold (goal x 10)    │\n",
      "├──────────────────────────────────┼──────────────────────────────────────┤\n",
      "│      No parameters at limit      │           Below call limit           │\n",
      "├──────────────────────────────────┼──────────────────────────────────────┤\n",
      "│             Hesse ok             │         Covariance accurate          │\n",
      "└──────────────────────────────────┴──────────────────────────────────────┘\n",
      "DEBUG - cabinetry.fit - -2 log(L) = 165.954669 at best-fit point\n",
      "DEBUG - cabinetry.fit - performing fit with Signal_norm = 0.800\n",
      "INFO - cabinetry.fit - Migrad status:\n",
      "┌─────────────────────────────────────────────────────────────────────────┐\n",
      "│                                Migrad                                   │\n",
      "├──────────────────────────────────┬──────────────────────────────────────┤\n",
      "│ FCN = 163.9                      │             Nfcn = 3900              │\n",
      "│ EDM = 3.91e-06 (Goal: 0.0002)    │                                      │\n",
      "├──────────────────────────────────┼──────────────────────────────────────┤\n",
      "│          Valid Minimum           │   Below EDM threshold (goal x 10)    │\n",
      "├──────────────────────────────────┼──────────────────────────────────────┤\n",
      "│      No parameters at limit      │           Below call limit           │\n",
      "├──────────────────────────────────┼──────────────────────────────────────┤\n",
      "│             Hesse ok             │         Covariance accurate          │\n",
      "└──────────────────────────────────┴──────────────────────────────────────┘\n",
      "DEBUG - cabinetry.fit - -2 log(L) = 163.874335 at best-fit point\n",
      "DEBUG - cabinetry.fit - performing fit with Signal_norm = 0.863\n",
      "INFO - cabinetry.fit - Migrad status:\n",
      "┌─────────────────────────────────────────────────────────────────────────┐\n",
      "│                                Migrad                                   │\n",
      "├──────────────────────────────────┬──────────────────────────────────────┤\n",
      "│ FCN = 162.4                      │             Nfcn = 3899              │\n",
      "│ EDM = 6.27e-06 (Goal: 0.0002)    │                                      │\n",
      "├──────────────────────────────────┼──────────────────────────────────────┤\n",
      "│          Valid Minimum           │   Below EDM threshold (goal x 10)    │\n",
      "├──────────────────────────────────┼──────────────────────────────────────┤\n",
      "│      No parameters at limit      │           Below call limit           │\n",
      "├──────────────────────────────────┼──────────────────────────────────────┤\n",
      "│             Hesse ok             │         Covariance accurate          │\n",
      "└──────────────────────────────────┴──────────────────────────────────────┘\n",
      "DEBUG - cabinetry.fit - -2 log(L) = 162.419128 at best-fit point\n",
      "DEBUG - cabinetry.fit - performing fit with Signal_norm = 0.926\n"
     ]
    },
    {
     "name": "stderr",
     "output_type": "stream",
     "text": [
      "INFO - cabinetry.fit - Migrad status:\n",
      "┌─────────────────────────────────────────────────────────────────────────┐\n",
      "│                                Migrad                                   │\n",
      "├──────────────────────────────────┬──────────────────────────────────────┤\n",
      "│ FCN = 161.5                      │             Nfcn = 3794              │\n",
      "│ EDM = 0.000138 (Goal: 0.0002)    │                                      │\n",
      "├──────────────────────────────────┼──────────────────────────────────────┤\n",
      "│          Valid Minimum           │   Below EDM threshold (goal x 10)    │\n",
      "├──────────────────────────────────┼──────────────────────────────────────┤\n",
      "│      No parameters at limit      │           Below call limit           │\n",
      "├──────────────────────────────────┼──────────────────────────────────────┤\n",
      "│             Hesse ok             │         Covariance accurate          │\n",
      "└──────────────────────────────────┴──────────────────────────────────────┘\n",
      "DEBUG - cabinetry.fit - -2 log(L) = 161.496447 at best-fit point\n",
      "DEBUG - cabinetry.fit - performing fit with Signal_norm = 0.988\n",
      "INFO - cabinetry.fit - Migrad status:\n",
      "┌─────────────────────────────────────────────────────────────────────────┐\n",
      "│                                Migrad                                   │\n",
      "├──────────────────────────────────┬──────────────────────────────────────┤\n",
      "│ FCN = 161.1                      │             Nfcn = 3796              │\n",
      "│ EDM = 3.9e-08 (Goal: 0.0002)     │                                      │\n",
      "├──────────────────────────────────┼──────────────────────────────────────┤\n",
      "│          Valid Minimum           │   Below EDM threshold (goal x 10)    │\n",
      "├──────────────────────────────────┼──────────────────────────────────────┤\n",
      "│      No parameters at limit      │           Below call limit           │\n",
      "├──────────────────────────────────┼──────────────────────────────────────┤\n",
      "│             Hesse ok             │         Covariance accurate          │\n",
      "└──────────────────────────────────┴──────────────────────────────────────┘\n",
      "DEBUG - cabinetry.fit - -2 log(L) = 161.057086 at best-fit point\n",
      "DEBUG - cabinetry.fit - performing fit with Signal_norm = 1.051\n",
      "INFO - cabinetry.fit - Migrad status:\n",
      "┌─────────────────────────────────────────────────────────────────────────┐\n",
      "│                                Migrad                                   │\n",
      "├──────────────────────────────────┬──────────────────────────────────────┤\n",
      "│ FCN = 161.1                      │             Nfcn = 3800              │\n",
      "│ EDM = 2.68e-07 (Goal: 0.0002)    │                                      │\n",
      "├──────────────────────────────────┼──────────────────────────────────────┤\n",
      "│          Valid Minimum           │   Below EDM threshold (goal x 10)    │\n",
      "├──────────────────────────────────┼──────────────────────────────────────┤\n",
      "│      No parameters at limit      │           Below call limit           │\n",
      "├──────────────────────────────────┼──────────────────────────────────────┤\n",
      "│             Hesse ok             │         Covariance accurate          │\n",
      "└──────────────────────────────────┴──────────────────────────────────────┘\n",
      "DEBUG - cabinetry.fit - -2 log(L) = 161.053975 at best-fit point\n",
      "DEBUG - cabinetry.fit - performing fit with Signal_norm = 1.114\n",
      "INFO - cabinetry.fit - Migrad status:\n",
      "┌─────────────────────────────────────────────────────────────────────────┐\n",
      "│                                Migrad                                   │\n",
      "├──────────────────────────────────┬──────────────────────────────────────┤\n",
      "│ FCN = 161.4                      │             Nfcn = 3793              │\n",
      "│ EDM = 7.19e-06 (Goal: 0.0002)    │                                      │\n",
      "├──────────────────────────────────┼──────────────────────────────────────┤\n",
      "│          Valid Minimum           │   Below EDM threshold (goal x 10)    │\n",
      "├──────────────────────────────────┼──────────────────────────────────────┤\n",
      "│      No parameters at limit      │           Below call limit           │\n",
      "├──────────────────────────────────┼──────────────────────────────────────┤\n",
      "│             Hesse ok             │         Covariance accurate          │\n",
      "└──────────────────────────────────┴──────────────────────────────────────┘\n",
      "DEBUG - cabinetry.fit - -2 log(L) = 161.420795 at best-fit point\n",
      "DEBUG - cabinetry.fit - performing fit with Signal_norm = 1.176\n",
      "INFO - cabinetry.fit - Migrad status:\n",
      "┌─────────────────────────────────────────────────────────────────────────┐\n",
      "│                                Migrad                                   │\n",
      "├──────────────────────────────────┬──────────────────────────────────────┤\n",
      "│ FCN = 162.1                      │             Nfcn = 3793              │\n",
      "│ EDM = 0.000134 (Goal: 0.0002)    │                                      │\n",
      "├──────────────────────────────────┼──────────────────────────────────────┤\n",
      "│          Valid Minimum           │   Below EDM threshold (goal x 10)    │\n",
      "├──────────────────────────────────┼──────────────────────────────────────┤\n",
      "│      No parameters at limit      │           Below call limit           │\n",
      "├──────────────────────────────────┼──────────────────────────────────────┤\n",
      "│             Hesse ok             │         Covariance accurate          │\n",
      "└──────────────────────────────────┴──────────────────────────────────────┘\n",
      "DEBUG - cabinetry.fit - -2 log(L) = 162.098416 at best-fit point\n",
      "DEBUG - cabinetry.fit - performing fit with Signal_norm = 1.239\n",
      "INFO - cabinetry.fit - Migrad status:\n",
      "┌─────────────────────────────────────────────────────────────────────────┐\n",
      "│                                Migrad                                   │\n",
      "├──────────────────────────────────┬──────────────────────────────────────┤\n",
      "│ FCN = 163                        │             Nfcn = 3899              │\n",
      "│ EDM = 1.8e-06 (Goal: 0.0002)     │                                      │\n",
      "├──────────────────────────────────┼──────────────────────────────────────┤\n",
      "│          Valid Minimum           │   Below EDM threshold (goal x 10)    │\n",
      "├──────────────────────────────────┼──────────────────────────────────────┤\n",
      "│      No parameters at limit      │           Below call limit           │\n",
      "├──────────────────────────────────┼──────────────────────────────────────┤\n",
      "│             Hesse ok             │         Covariance accurate          │\n",
      "└──────────────────────────────────┴──────────────────────────────────────┘\n",
      "DEBUG - cabinetry.fit - -2 log(L) = 163.038308 at best-fit point\n",
      "DEBUG - cabinetry.fit - performing fit with Signal_norm = 1.301\n",
      "INFO - cabinetry.fit - Migrad status:\n",
      "┌─────────────────────────────────────────────────────────────────────────┐\n",
      "│                                Migrad                                   │\n",
      "├──────────────────────────────────┬──────────────────────────────────────┤\n",
      "│ FCN = 164.2                      │             Nfcn = 3897              │\n",
      "│ EDM = 1.37e-05 (Goal: 0.0002)    │                                      │\n",
      "├──────────────────────────────────┼──────────────────────────────────────┤\n",
      "│          Valid Minimum           │   Below EDM threshold (goal x 10)    │\n",
      "├──────────────────────────────────┼──────────────────────────────────────┤\n",
      "│      No parameters at limit      │           Below call limit           │\n",
      "├──────────────────────────────────┼──────────────────────────────────────┤\n",
      "│             Hesse ok             │         Covariance accurate          │\n",
      "└──────────────────────────────────┴──────────────────────────────────────┘\n",
      "DEBUG - cabinetry.fit - -2 log(L) = 164.201370 at best-fit point\n"
     ]
    }
   ],
   "source": [
    "scan_results = cabinetry.fit.scan(model, data, \"Signal_norm\", n_steps=10, init_pars=list(parameters))"
   ]
  },
  {
   "cell_type": "code",
   "execution_count": 222,
   "metadata": {},
   "outputs": [
    {
     "name": "stderr",
     "output_type": "stream",
     "text": [
      "INFO - cabinetry.visualize.utils - saving figure as figures/scan_Signal_norm.pdf\n"
     ]
    },
    {
     "data": {
      "image/png": "[encoded data removed]",
      "text/plain": [
       "<Figure size 640x480 with 1 Axes>"
      ]
     },
     "execution_count": 222,
     "metadata": {},
     "output_type": "execute_result"
    }
   ],
   "source": [
    "cabinetry.visualize.scan(scan_results)"
   ]
  },
  {
   "cell_type": "code",
   "execution_count": 223,
   "metadata": {},
   "outputs": [],
   "source": [
    "# ranking_results = cabinetry.fit.ranking(model, data, fit_results=fit_results, init_pars=list(parameters))"
   ]
  },
  {
   "cell_type": "code",
   "execution_count": 224,
   "metadata": {},
   "outputs": [],
   "source": [
    "# cabinetry.visualize.ranking(ranking_results)"
   ]
  },
  {
   "cell_type": "code",
   "execution_count": 225,
   "metadata": {},
   "outputs": [],
   "source": [
    "# asimov_data = cabinetry.model_utils.asimov_data(model)\n"
   ]
  }
 ],
 "metadata": {
  "kernelspec": {
   "display_name": "venv_pyhf",
   "language": "python",
   "name": "python3"
  },
  "language_info": {
   "codemirror_mode": {
    "name": "ipython",
    "version": 3
   },
   "file_extension": ".py",
   "mimetype": "text/x-python",
   "name": "python",
   "nbconvert_exporter": "python",
   "pygments_lexer": "ipython3",
   "version": "3.8.8"
  },
  "orig_nbformat": 4
 },
 "nbformat": 4,
 "nbformat_minor": 2
}
